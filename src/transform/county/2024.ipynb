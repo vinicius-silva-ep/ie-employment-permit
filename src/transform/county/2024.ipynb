{
 "cells": [
  {
   "cell_type": "markdown",
   "id": "ec7ec008",
   "metadata": {},
   "source": [
    "2024 - Employment Permit by County"
   ]
  },
  {
   "cell_type": "code",
   "execution_count": 1,
   "id": "4fe0366e",
   "metadata": {},
   "outputs": [],
   "source": [
    "# Reading the raw data in the folder on my personal computer\n",
    "import pandas as pd\n",
    "\n",
    "df = pd.read_excel(r\"G:/My Drive/ESTUDOS DATA SCIENCE/ie-employment-permit/data/raw_data/2024/permits-by-county-2024.xlsx\", # This case is using .xlsx and has a different file name, 2010 and 2009 were using the extension .xls\n",
    "                   header=0,\n",
    "                   skiprows=[1] # I needed to skip these rows because I had the summarization of the values by year (which was uninteresting)\n",
    ")"
   ]
  },
  {
   "cell_type": "code",
   "execution_count": 2,
   "id": "9ad58ed6",
   "metadata": {},
   "outputs": [],
   "source": [
    "# As the structure of the columns were modified after 2020, I had to rename automatically the first one by \"County\"\n",
    "df.rename(columns={\"Unnamed: 0\": \"County\"}, inplace=True)"
   ]
  },
  {
   "cell_type": "code",
   "execution_count": 3,
   "id": "e3b3bef6",
   "metadata": {},
   "outputs": [],
   "source": [
    "# Creating a new column because of the new structure where the year is on top of the table\n",
    "df[\"Year\"] = 2024\n",
    "\n",
    "# Sorting the year column to be the first one \n",
    "df = df[[\"Year\"] + [col for col in df.columns if col != \"Year\"]]"
   ]
  },
  {
   "cell_type": "code",
   "execution_count": 4,
   "id": "a40cc2a3",
   "metadata": {},
   "outputs": [],
   "source": [
    "# As this part of project is focused only in the counties, I had to group all missed places by \"Others\"\n",
    "\n",
    "# I had to made a copy of the df with the filtered rows by not being \"NaN\" (because some cases are about countries or counties from North Ireland)\n",
    "df_others = df[df[\"Obs\"].notna()].copy()\n",
    "# Replacing all values by just \"Others\" to facilitate the analysis\n",
    "df_others[\"County\"] = \"Others\"\n",
    "# Summarizing the columns\n",
    "df_others_grouped = df_others.groupby([\"Year\", \"County\"], as_index=False)[[\"Issued\", \"Refused\", \"Withdrawn\"]].sum()\n",
    "# Creating a dataframe with only the \"Others\" row\n",
    "df_main = df[df[\"Obs\"].isna()].copy()\n",
    "# Concatenating both dataframes, original and the modified copy\n",
    "df = pd.concat([df_main, df_others_grouped], ignore_index=True)\n",
    "# As I don't need to use the \"Obs\" column, I removed for the final file\n",
    "df.drop(columns=[\"Obs\"], inplace=True)"
   ]
  },
  {
   "cell_type": "code",
   "execution_count": 5,
   "id": "12bd01c9",
   "metadata": {},
   "outputs": [],
   "source": [
    "# Creating the Primary Key\n",
    "# Ensure Year and County are strings and remove spaces from County\n",
    "df[\"Year\"] = df[\"Year\"].astype(str)\n",
    "df[\"County\"] = df[\"County\"].astype(str).str.strip()\n",
    "df[\"id_county\"] = df[\"Year\"] + df[\"County\"].str.replace(r\"\\s+\", \"_\", regex=True)\n",
    "\n",
    "# Reordering columns\n",
    "cols = [\"id_county\", \"Year\", \"County\", \"Issued\", \"Refused\", \"Withdrawn\"]\n",
    "df = df[[c for c in cols if c in df.columns]]"
   ]
  },
  {
   "cell_type": "code",
   "execution_count": 6,
   "id": "def594da",
   "metadata": {},
   "outputs": [
    {
     "name": "stdout",
     "output_type": "stream",
     "text": [
      "        id_county  Year     County   Issued  Refused  Withdrawn\n",
      "0      2024Carlow  2024     Carlow    233.0       27       11.0\n",
      "1       2024Cavan  2024      Cavan    573.0       27        9.0\n",
      "2       2024Clare  2024      Clare    657.0       63       15.0\n",
      "3        2024Cork  2024       Cork   3293.0      195       91.0\n",
      "4     2024Donegal  2024    Donegal    428.0       27       26.0\n",
      "5      2024Dublin  2024     Dublin  19141.0      967      507.0\n",
      "6      2024Galway  2024     Galway   1269.0       85       25.0\n",
      "7       2024Kerry  2024      Kerry    542.0       29       10.0\n",
      "8     2024Kildare  2024    Kildare   2342.0      122       57.0\n",
      "9    2024Kilkenny  2024   Kilkenny    433.0       30       16.0\n",
      "10      2024Laois  2024      Laois    193.0       14       16.0\n",
      "11    2024Leitrim  2024    Leitrim     67.0        8        2.0\n",
      "12   2024Limerick  2024   Limerick   1905.0       86       57.0\n",
      "13   2024Longford  2024   Longford    147.0       17        5.0\n",
      "14      2024Louth  2024      Louth    804.0       33       16.0\n",
      "15       2024Mayo  2024       Mayo    504.0       36       11.0\n",
      "16      2024Meath  2024      Meath   1511.0      111       40.0\n",
      "17   2024Monaghan  2024   Monaghan    541.0       20        9.0\n",
      "18     2024Offaly  2024     Offaly    484.0       22       24.0\n",
      "19  2024Roscommon  2024  Roscommon    255.0       10        6.0\n",
      "20      2024Sligo  2024      Sligo    244.0       31       17.0\n",
      "21  2024Tipperary  2024  Tipperary    703.0       45       13.0\n",
      "22  2024Waterford  2024  Waterford   1297.0      298       24.0\n",
      "23  2024Westmeath  2024  Westmeath    514.0       40       16.0\n",
      "24    2024Wexford  2024    Wexford    868.0       75       27.0\n",
      "25    2024Wicklow  2024    Wicklow    372.0       25       11.0\n",
      "26     2024Others  2024     Others     70.0       13        3.0\n"
     ]
    }
   ],
   "source": [
    "# I used the extension .csv because is lighter and easy to work with some libraries like pandas, sqlalchemy\n",
    "df.to_csv(r\"G:/My Drive/ESTUDOS DATA SCIENCE/ie-employment-permit/data/2024/permits-issued-by-county-2024.csv\", index=False)\n",
    "\n",
    "print(df)"
   ]
  }
 ],
 "metadata": {
  "kernelspec": {
   "display_name": "Python 3",
   "language": "python",
   "name": "python3"
  },
  "language_info": {
   "codemirror_mode": {
    "name": "ipython",
    "version": 3
   },
   "file_extension": ".py",
   "mimetype": "text/x-python",
   "name": "python",
   "nbconvert_exporter": "python",
   "pygments_lexer": "ipython3",
   "version": "3.13.5"
  }
 },
 "nbformat": 4,
 "nbformat_minor": 5
}
