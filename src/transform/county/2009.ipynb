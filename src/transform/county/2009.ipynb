{
 "cells": [
  {
   "cell_type": "markdown",
   "id": "ec7ec008",
   "metadata": {},
   "source": [
    "2009 - Employment Permit by County"
   ]
  },
  {
   "cell_type": "code",
   "execution_count": 1,
   "id": "4fe0366e",
   "metadata": {},
   "outputs": [],
   "source": [
    "# Reading the raw data in the folder on my personal computer\n",
    "import pandas as pd\n",
    "\n",
    "df = pd.read_excel(r\"E:/My Drive/ESTUDOS DATA SCIENCE/ie-employment-permit/data/raw_data_before_2020/2009/permits-issued-by-county-2009.xls\",\n",
    "                   skiprows=[1] # I needed to skip this row because I had the summarize of the values of the year, which was uninteresting\n",
    ")"
   ]
  },
  {
   "cell_type": "code",
   "execution_count": 2,
   "id": "cafe9be8",
   "metadata": {},
   "outputs": [],
   "source": [
    "# Replacing the NaN values by the year\n",
    "df[\"Year\"] = df[\"Year\"].fillna(\"2009\")"
   ]
  },
  {
   "cell_type": "code",
   "execution_count": 3,
   "id": "79a4fd8c",
   "metadata": {},
   "outputs": [],
   "source": [
    "# Before 2020 the columns structure of the files were different. So, I needed to rename the column \"Total\" by \"Issued\" because after 2020 the new file didn't have the columns \"New\" and \"Renewals\", only \"Issued\". In this case, to keep the standard of the project, I needed to mantain only \"Issued\".\n",
    "\n",
    "df.rename(columns={\"Total\": \"Issued\", \"County/Country\": \"County\"}, inplace=True) # I had to replace \"County/Country\" by just \"County\" once that this analysis is about counties\n",
    "df.drop(columns=[\"New \", \"Renewals\", \"Group\"], inplace=True) # Here I realized that were some issues in the column names like \"New \" instead of \"New\"\n",
    "\n",
    "# I created the column \"Obs\" to make sure that all counties belong to Ireland or any issues that I could find by crossing some databases"
   ]
  },
  {
   "cell_type": "code",
   "execution_count": null,
   "id": "83415df8",
   "metadata": {},
   "outputs": [],
   "source": [
    "# I used the extension .csv because is lighter and easy to work with some libraries like pandas, sqlalchemy\n",
    "df.to_csv(r\"E:/My Drive/ESTUDOS DATA SCIENCE/ie-employment-permit/data/2009/permits-issued-by-county-2009.csv\", index=False)\n",
    "\n",
    "print(df)"
   ]
  }
 ],
 "metadata": {
  "kernelspec": {
   "display_name": "Python 3",
   "language": "python",
   "name": "python3"
  },
  "language_info": {
   "codemirror_mode": {
    "name": "ipython",
    "version": 3
   },
   "file_extension": ".py",
   "mimetype": "text/x-python",
   "name": "python",
   "nbconvert_exporter": "python",
   "pygments_lexer": "ipython3",
   "version": "3.13.3"
  }
 },
 "nbformat": 4,
 "nbformat_minor": 5
}
