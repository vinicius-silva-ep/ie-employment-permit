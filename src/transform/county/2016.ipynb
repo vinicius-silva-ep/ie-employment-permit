{
 "cells": [
  {
   "cell_type": "markdown",
   "id": "ec7ec008",
   "metadata": {},
   "source": [
    "2016 - Employment Permit by County"
   ]
  },
  {
   "cell_type": "code",
   "execution_count": 11,
   "id": "4fe0366e",
   "metadata": {},
   "outputs": [],
   "source": [
    "# Reading the raw data in the folder on my personal computer\n",
    "import pandas as pd\n",
    "\n",
    "df = pd.read_excel(r\"E:/My Drive/ESTUDOS DATA SCIENCE/ie-employment-permit/data/raw_data_before_2020/2016/permits-issued-by-county-2016.xlsx\", # This case is using .xlsx, 2010 and 2009 were using the extension .xls\n",
    "                   skiprows=[1] # I needed to skip this row because I had the summarization of the values by year, which was uninteresting\n",
    ")"
   ]
  },
  {
   "cell_type": "code",
   "execution_count": 12,
   "id": "22b04fa5",
   "metadata": {},
   "outputs": [],
   "source": [
    "# Replacing the NaN values by the year\n",
    "df[\"Year\"] = df[\"Year\"].fillna(\"2016\")\n"
   ]
  },
  {
   "cell_type": "code",
   "execution_count": 13,
   "id": "669ae5a5",
   "metadata": {},
   "outputs": [],
   "source": [
    "# Before 2020 the column structures of the files were different. So, I needed to rename the column \"Total\" by \"Issued\" because after 2020 the new file didn't have the columns \"New\" and \"Renewals\", only \"Issued\". In this case, to keep the standard of the project, I needed to mantain only \"Issued\".\n",
    "df.rename(columns={\"Total\": \"Issued\", \"County/Country\": \"County\"}, inplace=True)\n",
    "df.drop(columns=[\"New\", \"Renewal\"], inplace=True)\n",
    "\n",
    "# I created the column \"Obs\" to make sure that all counties belong to Ireland or any issues that I could find by crossing some databases"
   ]
  },
  {
   "cell_type": "code",
   "execution_count": 14,
   "id": "4202f636",
   "metadata": {},
   "outputs": [],
   "source": [
    "# As this part of project is focused only in the counties, I had to group all missed places by \"Others\"\n",
    "\n",
    "# I had to made a copy of the df with the filtered rows by not being \"NaN\" (because some cases are about countries or counties from North Ireland)\n",
    "df_others = df[df[\"Obs\"].notna()].copy()\n",
    "# Replacing all values by just \"Others\" to facilitate the analysis\n",
    "df_others[\"County\"] = \"Others\"\n",
    "# Summarizing the columns\n",
    "df_others_grouped = df_others.groupby([\"Year\", \"County\"], as_index=False)[[\"Issued\", \"Refused\", \"Withdrawn\"]].sum()\n",
    "# Creating a dataframe with only the \"Others\" row\n",
    "df_main = df[df[\"Obs\"].isna()].copy()\n",
    "# Concatenating both dataframes, original and the modified copy\n",
    "df = pd.concat([df_main, df_others_grouped], ignore_index=True)\n",
    "# As I don't need to use the \"Obs\" column, I removed for the final file\n",
    "df.drop(columns=[\"Obs\"], inplace=True)"
   ]
  },
  {
   "cell_type": "code",
   "execution_count": 15,
   "id": "41e69737",
   "metadata": {},
   "outputs": [
    {
     "name": "stdout",
     "output_type": "stream",
     "text": [
      "    Year     County  Issued  Refused  Withdrawn\n",
      "0   2016     Carlow      14        7          0\n",
      "1   2016      Cavan     118        7          1\n",
      "2   2016      Clare      72       24          1\n",
      "3   2016       Cork     733      108         16\n",
      "4   2016    Donegal     197       17          0\n",
      "5   2016     Dublin    5310      688        123\n",
      "6   2016     Galway     365       76         10\n",
      "7   2016      Kerry     128       27          1\n",
      "8   2016    Kildare     360       37         13\n",
      "9   2016   Kilkenny     102        9          2\n",
      "10  2016      Laois      49        3          3\n",
      "11  2016    Leitrim       3        1          0\n",
      "12  2016   Limerick     428       48          8\n",
      "13  2016   Longford      28        5          0\n",
      "14  2016      Louth     192       48          5\n",
      "15  2016       Mayo     139        6          3\n",
      "16  2016      Meath     149       45          6\n",
      "17  2016   Monaghan      46        3          2\n",
      "18  2016     Offaly      71        5          0\n",
      "19  2016  Roscommon      61       15          1\n",
      "20  2016      Sligo     114        1          0\n",
      "21  2016  Tipperary     152       49          0\n",
      "22  2016  Waterford     166       12          1\n",
      "23  2016  Westmeath     116       26          2\n",
      "24  2016    Wexford     102       16          0\n",
      "25  2016    Wicklow      52       30          3\n",
      "26  2016     Others     106        8          5\n"
     ]
    }
   ],
   "source": [
    "# I used the extension .csv because is lighter and easy to work with some libraries like pandas, sqlalchemy\n",
    "df.to_csv(r\"E:/My Drive/ESTUDOS DATA SCIENCE/ie-employment-permit/data/2016/permits-issued-by-county-2016.csv\", index=False)\n",
    "\n",
    "print(df)"
   ]
  }
 ],
 "metadata": {
  "kernelspec": {
   "display_name": "Python 3",
   "language": "python",
   "name": "python3"
  },
  "language_info": {
   "codemirror_mode": {
    "name": "ipython",
    "version": 3
   },
   "file_extension": ".py",
   "mimetype": "text/x-python",
   "name": "python",
   "nbconvert_exporter": "python",
   "pygments_lexer": "ipython3",
   "version": "3.13.3"
  }
 },
 "nbformat": 4,
 "nbformat_minor": 5
}
