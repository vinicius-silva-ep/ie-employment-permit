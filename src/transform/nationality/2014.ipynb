{
 "cells": [
  {
   "cell_type": "markdown",
   "id": "ec7ec008",
   "metadata": {},
   "source": [
    "2014 - Employment Permit by Nationality"
   ]
  },
  {
   "cell_type": "code",
   "execution_count": 6,
   "id": "4fe0366e",
   "metadata": {},
   "outputs": [],
   "source": [
    "year = 2014\n",
    "\n",
    "# Reading the raw data in the folder on my personal computer\n",
    "import pandas as pd\n",
    "\n",
    "df = pd.read_excel(f\"E:/My Drive/ESTUDOS DATA SCIENCE/ie-employment-permit/data/raw_data/{year}/permits-issued-by-nationality {year}.xlsx\",\n",
    "                   skiprows=[1] # I needed to skip this row because I had the summarization of the values by year, which was uninteresting\n",
    ")"
   ]
  },
  {
   "cell_type": "code",
   "execution_count": 7,
   "id": "80794b70",
   "metadata": {},
   "outputs": [],
   "source": [
    "# Replacing the NaN values by the year\n",
    "df[\"Year\"] = df[\"Year\"].fillna(f\"{year}\")"
   ]
  },
  {
   "cell_type": "code",
   "execution_count": 8,
   "id": "c6954161",
   "metadata": {},
   "outputs": [],
   "source": [
    "# Before 2020 the column structures of the files were different. So, I needed to rename the column \"Total\" by \"Issued\" because after 2020 the new file didn't have the columns \"New\" and \"Renewals\", only \"Issued\". In this case, to keep the standard of the project, I needed to mantain only \"Issued\".\n",
    "df.rename(columns={\"Total\": \"Issued\", \"Nationality\": \"Country\"}, inplace=True) # I had to replace \"Nationality\" by just \"Country\" once that this analysis is about countries\n",
    "df.drop(columns=[\"New\", \"Renewal\"], inplace=True) # Here I realized that the column \"Sector\" that was empty and it was useless\n",
    "\n",
    "# I had to make some data cleaning before because some countries had different names years ago"
   ]
  },
  {
   "cell_type": "code",
   "execution_count": 9,
   "id": "9a149d9c",
   "metadata": {},
   "outputs": [],
   "source": [
    "# I grouped by country because in some cases when I was fixing I replaced the old name to the new name, ie Hong Kong -> China making double China\n",
    "df_grouped = df.groupby([\"Year\", \"Country\"], dropna=False).agg({\n",
    "    \"Issued\": \"sum\",\n",
    "    \"Refused\": \"sum\",\n",
    "    \"Withdrawn\": \"sum\"\n",
    "}).reset_index()"
   ]
  },
  {
   "cell_type": "code",
   "execution_count": 10,
   "id": "78f69de7",
   "metadata": {},
   "outputs": [
    {
     "name": "stdout",
     "output_type": "stream",
     "text": [
      "    Year      Country  Issued  Refused  Withdrawn\n",
      "0   2014  Afghanistan       1        0          0\n",
      "1   2014      Albania       4        0          0\n",
      "2   2014      Algeria       1        0          0\n",
      "3   2014       Angola       1        0          0\n",
      "4   2014    Argentina      26        3          0\n",
      "..   ...          ...     ...      ...        ...\n",
      "90  2014   Uzbekistan       1        0          0\n",
      "91  2014    Venezuela      37        4          0\n",
      "92  2014      Vietnam       5        2          0\n",
      "93  2014       Zambia       0        2          0\n",
      "94  2014     Zimbabwe       6        2          0\n",
      "\n",
      "[95 rows x 5 columns]\n"
     ]
    }
   ],
   "source": [
    "# I used the extension .csv because is lighter and easy to work with some libraries like pandas, sqlalchemy\n",
    "df_grouped.to_csv(f\"E:/My Drive/ESTUDOS DATA SCIENCE/ie-employment-permit/data/{year}/permits-by-nationality-{year}.csv\", index=False)\n",
    "\n",
    "print(df_grouped)"
   ]
  }
 ],
 "metadata": {
  "kernelspec": {
   "display_name": "Python 3",
   "language": "python",
   "name": "python3"
  },
  "language_info": {
   "codemirror_mode": {
    "name": "ipython",
    "version": 3
   },
   "file_extension": ".py",
   "mimetype": "text/x-python",
   "name": "python",
   "nbconvert_exporter": "python",
   "pygments_lexer": "ipython3",
   "version": "3.13.3"
  }
 },
 "nbformat": 4,
 "nbformat_minor": 5
}
