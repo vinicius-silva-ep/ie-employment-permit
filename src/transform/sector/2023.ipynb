{
 "cells": [
  {
   "cell_type": "markdown",
   "id": "ec7ec008",
   "metadata": {},
   "source": [
    "2023 - Employment Permit by Sector"
   ]
  },
  {
   "cell_type": "code",
   "execution_count": null,
   "id": "4fe0366e",
   "metadata": {},
   "outputs": [],
   "source": [
    "year = 2023\n",
    "\n",
    "# Reading the raw data in the folder on my personal computer\n",
    "import pandas as pd \n",
    "\n",
    "df = pd.read_excel(f\"E:/My Drive/ESTUDOS DATA SCIENCE/ie-employment-permit/data/raw_data/{year}/permits-by-sector-{year}.xlsx\",\n",
    "                   header=1,\n",
    "                  #  skiprows=[1, 2] # I needed to skip these rows because I had the summarization of the values by year (which was uninteresting)\n",
    ")"
   ]
  },
  {
   "cell_type": "code",
   "execution_count": 2,
   "id": "80794b70",
   "metadata": {},
   "outputs": [],
   "source": [
    "# Creating a new column\n",
    "df['Year'] = f\"{year}\"\n",
    "\n",
    "\n",
    "# I had to pivot the table and sort by year, month and sector\n",
    "df_melted = df.melt(\n",
    "    id_vars=['Economic Sector', 'Year'],\n",
    "    value_vars=['Jan', 'Feb', 'Mar', 'Apr', 'May', 'Jun',\n",
    "                'Jul', 'Aug', 'Sep', 'Oct', 'Nov', 'Dec'],\n",
    "    var_name='Month',\n",
    "    value_name='Issued'\n",
    ")\n",
    "\n",
    "# Renaming again to make the df tidy\n",
    "df = df_melted\n",
    "df = df.rename(columns={'Economic Sector': 'Sector'})\n",
    "df = df[['Year', 'Month', 'Sector', 'Issued']]\n",
    "\n",
    "# Creating new columns because from 2009-2019 the dataset got refused and withdrawn values, after 2020 we have only issued \"total\"\n",
    "df['Refused'] = ''\n",
    "df['Withdrawn'] = ''\n"
   ]
  },
  {
   "cell_type": "code",
   "execution_count": 3,
   "id": "78f69de7",
   "metadata": {},
   "outputs": [
    {
     "name": "stdout",
     "output_type": "stream",
     "text": [
      "     Year Month                                             Sector  Issued  \\\n",
      "0    2023   Jan                A - Agriculture, Forestry & Fishing    87.0   \n",
      "1    2023   Jan                             B - Mining & Quarrying     1.0   \n",
      "2    2023   Jan                        C - All Other Manufacturing    73.0   \n",
      "3    2023   Jan     C - Manufacture of Chemicals & Pharmaceuticals    62.0   \n",
      "4    2023   Jan  C - Manufacture of Computers, Electronics & Op...    36.0   \n",
      "..    ...   ...                                                ...     ...   \n",
      "295  2023   Dec                                      P - Education    16.0   \n",
      "296  2023   Dec                Q - Health & Social Work Activities   887.0   \n",
      "297  2023   Dec            R - Arts , Entertainment and Recreation    14.0   \n",
      "298  2023   Dec                       S - Other Service activities   109.0   \n",
      "299  2023   Dec  T - Domestic- Activities of Households as Empl...     NaN   \n",
      "\n",
      "    Refused Withdrawn  \n",
      "0                      \n",
      "1                      \n",
      "2                      \n",
      "3                      \n",
      "4                      \n",
      "..      ...       ...  \n",
      "295                    \n",
      "296                    \n",
      "297                    \n",
      "298                    \n",
      "299                    \n",
      "\n",
      "[300 rows x 6 columns]\n"
     ]
    }
   ],
   "source": [
    "# I used the extension .csv because is lighter and easy to work with some libraries like pandas, sqlalchemy\n",
    "df.to_csv(f\"E:/My Drive/ESTUDOS DATA SCIENCE/ie-employment-permit/data/{year}/permits-by-sector-{year}.csv\", index=False)\n",
    "\n",
    "print(df)"
   ]
  }
 ],
 "metadata": {
  "kernelspec": {
   "display_name": "Python 3",
   "language": "python",
   "name": "python3"
  },
  "language_info": {
   "codemirror_mode": {
    "name": "ipython",
    "version": 3
   },
   "file_extension": ".py",
   "mimetype": "text/x-python",
   "name": "python",
   "nbconvert_exporter": "python",
   "pygments_lexer": "ipython3",
   "version": "3.13.3"
  }
 },
 "nbformat": 4,
 "nbformat_minor": 5
}
