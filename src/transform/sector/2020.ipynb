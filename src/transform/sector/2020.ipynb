{
 "cells": [
  {
   "cell_type": "markdown",
   "id": "ec7ec008",
   "metadata": {},
   "source": [
    "2020 - Employment Permit by Sector"
   ]
  },
  {
   "cell_type": "code",
   "execution_count": null,
   "id": "4fe0366e",
   "metadata": {},
   "outputs": [
    {
     "name": "stdout",
     "output_type": "stream",
     "text": [
      "                                      Economic Sector  Unnamed: 1   Jan   Feb  \\\n",
      "0          J - Information & Communication Activities        4725   361   413   \n",
      "1                K - Financial & insurance Activities         977    73    85   \n",
      "2   C - Manufacture of Computers, Electronics & Op...         122     6     3   \n",
      "3                 A - Agriculture, Forestry & Fishing        1786   240   457   \n",
      "4                         C - All Other Manufacturing         202    36    10   \n",
      "5      C - Manufacture of Chemicals & Pharmaceuticals         294    15    15   \n",
      "6            C - Manufacture of Food, Drink & Tobacco         104     7     4   \n",
      "7                  C - Manufacture of Medical Devices          63     5     2   \n",
      "8     D - Electricity & Gas & Air Conditioning Supply          78     6     5   \n",
      "9   E - Water Supply - Sewerage Waste Management &...          11     1     1   \n",
      "10                                   F - Construction         616    84    42   \n",
      "11                       G - Wholesale & Retail Trade         135     5    11   \n",
      "12                            H - Transport & Storage         143     9     9   \n",
      "13       I - Accommodation & Food Services activities         814    92    75   \n",
      "14  M - All other Professional, Scientific & Techn...          88     5    11   \n",
      "15  M - Professional, Scientific&Technical Activities          65     5     4   \n",
      "16    N - Administrative & Support Service Activities          29     0     1   \n",
      "17                                      P - Education         104    14     7   \n",
      "18                Q - Health & Social Work Activities        5197   300   204   \n",
      "19            R - Arts , Entertainment and Recreation         239    21    26   \n",
      "20                       S - Other Service activities         607    46    41   \n",
      "21                             B - Mining & Quarrying           9     4     1   \n",
      "22                         L - Real Estate Activities           7     0     1   \n",
      "23                O - Public Administration & Defence           1     0     0   \n",
      "24  T - Domestic- Activities of Households as Empl...           3     0     0   \n",
      "25                                        Grand Total       16419  1335  1428   \n",
      "\n",
      "     Mar   Apr   May   Jun   Jul   Aug   Sep   Oct   Nov   Dec  \n",
      "0    216   516   473   385   448   400   466   406   365   276  \n",
      "1     54    94    79    97   103    85    91    79    81    56  \n",
      "2      6    10    22    19    21     8    10     9     6     2  \n",
      "3    128   153    47    92    78   101    76   185   130    99  \n",
      "4     11    16    24    25    18    11     8    15    12    16  \n",
      "5     23    47    31    22    24    26    25    32    23    11  \n",
      "6      3     8    13    17    15    12     4    11     5     5  \n",
      "7      5     5    11     5     6     4     6     6     7     1  \n",
      "8      3     7     8     9    18     7     2     5     7     1  \n",
      "9      0     0     0     1     4     0     0     0     2     2  \n",
      "10    44    65    58    35    45    48    46    66    53    30  \n",
      "11     5    16     8    14    25    10    10     9    15     7  \n",
      "12    12     8     9    12    11     8    18    13    23    11  \n",
      "13    30    56    64   115    88    63    46    56    77    52  \n",
      "14    10    13     7     9     8     6     3     5     5     6  \n",
      "15     2     4     0     7    12     4     5     6    11     5  \n",
      "16     1     1     3     3     3     3     6     4     1     3  \n",
      "17     5    10     3    13    10     7     8    14     8     5  \n",
      "18   591   644   762   627   373   173   241   307   477   498  \n",
      "19    21    18    22    19    28    21    22    18    13    10  \n",
      "20    50    71    56    56    67    49    49    43    44    35  \n",
      "21     0     2     1     0     0     0     0     0     1     0  \n",
      "22     0     1     1     1     0     0     1     1     0     1  \n",
      "23     0     0     1     0     0     0     0     0     0     0  \n",
      "24     2     0     0     0     0     0     0     1     0     0  \n",
      "25  1222  1765  1703  1583  1405  1046  1143  1291  1366  1132  \n"
     ]
    }
   ],
   "source": [
    "year = 2020\n",
    "\n",
    "# Reading the raw data in the folder on my personal computer\n",
    "import pandas as pd\n",
    "\n",
    "df = pd.read_excel(f\"E:/My Drive/ESTUDOS DATA SCIENCE/ie-employment-permit/data/raw_data/{year}/permits-by-sector-{year}.xlsx\",\n",
    "                   header=1,\n",
    "                #    skiprows=[1] # I needed to skip these rows because I had the summarization of the values by year (which was uninteresting)\n",
    ")"
   ]
  },
  {
   "cell_type": "code",
   "execution_count": 33,
   "id": "80794b70",
   "metadata": {},
   "outputs": [],
   "source": [
    "# Creating a new column\n",
    "df['Year'] = f\"{year}\"\n",
    "\n",
    "# Removing \"Grand Total\" row\n",
    "df = df[~df['Economic Sector'].str.strip().eq('Grand Total')]\n",
    "\n",
    "# I had to pivot the table and sort by year, month and sector\n",
    "df_melted = df.melt(\n",
    "    id_vars=['Economic Sector', 'Year'],\n",
    "    value_vars=['Jan', 'Feb', 'Mar', 'Apr', 'May', 'Jun',\n",
    "                'Jul', 'Aug', 'Sep', 'Oct', 'Nov', 'Dec'],\n",
    "    var_name='Month',\n",
    "    value_name='Issued'\n",
    ")\n",
    "\n",
    "# Renaming again to make the df tidy\n",
    "df = df_melted\n",
    "df = df.rename(columns={'Economic Sector': 'Sector'})\n",
    "df = df[['Year', 'Month', 'Sector', 'Issued']]\n",
    "\n",
    "# Creating new columns because from 2009-2019 the dataset got refused and withdrawn values, after 2020 we have only issued \"total\"\n",
    "df['Refused'] = ''\n",
    "df['Withdrawn'] = ''\n"
   ]
  },
  {
   "cell_type": "code",
   "execution_count": 34,
   "id": "78f69de7",
   "metadata": {},
   "outputs": [
    {
     "name": "stdout",
     "output_type": "stream",
     "text": [
      "     Year Month                                             Sector  Issued  \\\n",
      "0    2020   Jan         J - Information & Communication Activities     361   \n",
      "1    2020   Jan               K - Financial & insurance Activities      73   \n",
      "2    2020   Jan  C - Manufacture of Computers, Electronics & Op...       6   \n",
      "3    2020   Jan                A - Agriculture, Forestry & Fishing     240   \n",
      "4    2020   Jan                        C - All Other Manufacturing      36   \n",
      "..    ...   ...                                                ...     ...   \n",
      "295  2020   Dec                       S - Other Service activities      35   \n",
      "296  2020   Dec                             B - Mining & Quarrying       0   \n",
      "297  2020   Dec                         L - Real Estate Activities       1   \n",
      "298  2020   Dec                O - Public Administration & Defence       0   \n",
      "299  2020   Dec  T - Domestic- Activities of Households as Empl...       0   \n",
      "\n",
      "    Refused Withdrawn  \n",
      "0                      \n",
      "1                      \n",
      "2                      \n",
      "3                      \n",
      "4                      \n",
      "..      ...       ...  \n",
      "295                    \n",
      "296                    \n",
      "297                    \n",
      "298                    \n",
      "299                    \n",
      "\n",
      "[300 rows x 6 columns]\n"
     ]
    }
   ],
   "source": [
    "# I used the extension .csv because is lighter and easy to work with some libraries like pandas, sqlalchemy\n",
    "df.to_csv(f\"E:/My Drive/ESTUDOS DATA SCIENCE/ie-employment-permit/data/{year}/permits-by-sector-{year}.csv\", index=False)\n",
    "\n",
    "print(df)"
   ]
  }
 ],
 "metadata": {
  "kernelspec": {
   "display_name": "Python 3",
   "language": "python",
   "name": "python3"
  },
  "language_info": {
   "codemirror_mode": {
    "name": "ipython",
    "version": 3
   },
   "file_extension": ".py",
   "mimetype": "text/x-python",
   "name": "python",
   "nbconvert_exporter": "python",
   "pygments_lexer": "ipython3",
   "version": "3.13.3"
  }
 },
 "nbformat": 4,
 "nbformat_minor": 5
}
