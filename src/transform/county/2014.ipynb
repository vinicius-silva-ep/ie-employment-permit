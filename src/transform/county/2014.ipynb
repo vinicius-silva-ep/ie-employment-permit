{
 "cells": [
  {
   "cell_type": "markdown",
   "id": "ec7ec008",
   "metadata": {},
   "source": [
    "2014 - Employment Permit by County"
   ]
  },
  {
   "cell_type": "code",
   "execution_count": 15,
   "id": "4fe0366e",
   "metadata": {},
   "outputs": [],
   "source": [
    "# Reading the raw data in the folder on my personal computer\n",
    "import pandas as pd\n",
    "\n",
    "df = pd.read_excel(r\"E:/My Drive/ESTUDOS DATA SCIENCE/ie-employment-permit/data/raw_data_before_2020/2014/permits-issued-by-county-2014.xlsx\", # This case is using .xlsx, 2010 and 2009 were using the extension .xls\n",
    "                   skiprows=[1] # I needed to skip this row because I had the summarization of the values by year, which was uninteresting\n",
    ")"
   ]
  },
  {
   "cell_type": "code",
   "execution_count": 16,
   "id": "3225fc6d",
   "metadata": {},
   "outputs": [],
   "source": [
    "# Replacing the NaN values by the year\n",
    "df[\"Year\"] = df[\"Year\"].fillna(\"2014\") # I had to insert the name \"Year\" in the original table because it was empty"
   ]
  },
  {
   "cell_type": "code",
   "execution_count": null,
   "id": "5e8179c9",
   "metadata": {},
   "outputs": [],
   "source": [
    "# Before 2020 the column structures of the files were different. So, I needed to rename the column \"Total\" by \"Issued\" because after 2020 the new file didn't have the columns \"New\" and \"Renewals\", only \"Issued\". In this case, to keep the standard of the project, I needed to mantain only \"Issued\".\n",
    "df.rename(columns={\"Total\": \"Issued\", \"County/Country\": \"County\"}, inplace=True)\n",
    "df.drop(columns=[\"New\", \"Renewal\"], inplace=True)\n",
    "\n",
    "# I created the column \"Obs\" to make sure that all counties belong to Ireland or any issues that I could find by crossing some databases"
   ]
  },
  {
   "cell_type": "code",
   "execution_count": 18,
   "id": "11b4cb29",
   "metadata": {},
   "outputs": [],
   "source": [
    "# As this part of project is focused only in the counties, I had to group all missed places by \"Others\"\n",
    "\n",
    "# I had to made a copy of the df with the filtered rows by not being \"NaN\" (because some cases are about countries or counties from North Ireland)\n",
    "df_others = df[df[\"Obs\"].notna()].copy()\n",
    "# Replacing all values by just \"Others\" to facilitate the analysis\n",
    "df_others[\"County\"] = \"Others\"\n",
    "# Summarizing the columns\n",
    "df_others_grouped = df_others.groupby([\"Year\", \"County\"], as_index=False)[[\"Issued\", \"Refused\", \"Withdrawn\"]].sum()\n",
    "# Creating a dataframe with only the \"Others\" row\n",
    "df_main = df[df[\"Obs\"].isna()].copy()\n",
    "# Concatenating both dataframes, original and the modified copy\n",
    "df = pd.concat([df_main, df_others_grouped], ignore_index=True)\n",
    "# As I don't need to use the \"Obs\" column, I removed for the final file\n",
    "df.drop(columns=[\"Obs\"], inplace=True)"
   ]
  },
  {
   "cell_type": "code",
   "execution_count": 19,
   "id": "6b452bcc",
   "metadata": {},
   "outputs": [
    {
     "name": "stdout",
     "output_type": "stream",
     "text": [
      "    Year     County  Issued  Refused  Withdrawn\n",
      "0   2014     Carlow       8        6          1\n",
      "1   2014      Cavan      51        4          2\n",
      "2   2014      Clare      57       11          2\n",
      "3   2014       Cork     394       44         13\n",
      "4   2014    Donegal     119        7          2\n",
      "5   2014     Dublin    2946      270         85\n",
      "6   2014     Galway     199       20          2\n",
      "7   2014      Kerry     108        4          2\n",
      "8   2014    Kildare     470       36         13\n",
      "9   2014   Kilkenny      44        3          0\n",
      "10  2014      Laois      40        5          2\n",
      "11  2014    Leitrim       4        0          0\n",
      "12  2014   Limerick     166       14          9\n",
      "13  2014   Longford       8        3          0\n",
      "14  2014      Louth      69        8          0\n",
      "15  2014       Mayo      67        6          1\n",
      "16  2014      Meath      58       19          1\n",
      "17  2014   Monaghan      17        2          0\n",
      "18  2014     Offaly      27        4          0\n",
      "19  2014  Roscommon      17        2          1\n",
      "20  2014      Sligo      89        4          1\n",
      "21  2014  Tipperary      83        5          1\n",
      "22  2014  Waterford      66        4          0\n",
      "23  2014  Westmeath     238        2          1\n",
      "24  2014    Wexford      77        3          2\n",
      "25  2014    Wicklow      59       16          2\n",
      "26  2014     Others      14        1          1\n"
     ]
    }
   ],
   "source": [
    "# I used the extension .csv because is lighter and easy to work with some libraries like pandas, sqlalchemy\n",
    "df.to_csv(r\"E:/My Drive/ESTUDOS DATA SCIENCE/ie-employment-permit/data/2014/permits-issued-by-county-2014.csv\", index=False)\n",
    "\n",
    "print(df)"
   ]
  }
 ],
 "metadata": {
  "kernelspec": {
   "display_name": "Python 3",
   "language": "python",
   "name": "python3"
  },
  "language_info": {
   "codemirror_mode": {
    "name": "ipython",
    "version": 3
   },
   "file_extension": ".py",
   "mimetype": "text/x-python",
   "name": "python",
   "nbconvert_exporter": "python",
   "pygments_lexer": "ipython3",
   "version": "3.13.3"
  }
 },
 "nbformat": 4,
 "nbformat_minor": 5
}
