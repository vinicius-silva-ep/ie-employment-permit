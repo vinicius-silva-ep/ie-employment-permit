{
 "cells": [
  {
   "cell_type": "markdown",
   "id": "ec7ec008",
   "metadata": {},
   "source": [
    "2025 - Employment Permit by Nationality"
   ]
  },
  {
   "cell_type": "code",
   "execution_count": 1,
   "id": "4fe0366e",
   "metadata": {},
   "outputs": [],
   "source": [
    "year = 2025\n",
    "\n",
    "# Reading the raw data in the folder on my personal computer\n",
    "import pandas as pd\n",
    "\n",
    "# Path to the main and aux files\n",
    "path_main = f\"G:/My Drive/ESTUDOS DATA SCIENCE/ie-employment-permit/data/raw_data/{year}/permits-by-nationality-{year}.xlsx\"\n",
    "path_aux = \"G:/My Drive/ESTUDOS DATA SCIENCE/ie-employment-permit/data/world_countries.xlsx\"\n",
    "\n",
    "# Reads the main file, skipping unnecessary rows and setting the header\n",
    "df = pd.read_excel(\n",
    "    path_main,\n",
    "    skiprows=[2],\n",
    "    header=1\n",
    ")\n",
    "\n",
    "# Clean column names (very common on this project)\n",
    "df.columns = df.columns.str.strip()"
   ]
  },
  {
   "cell_type": "code",
   "execution_count": 2,
   "id": "e9f140e1",
   "metadata": {},
   "outputs": [],
   "source": [
    "# I had to replace \"Nationality\" by just \"Country\" once that this analysis is about countries\n",
    "df.rename(columns={\"Nationality\": \"Country\"}, inplace=True)\n",
    "\n",
    "# Reads the aux file which has the mapping of countries to continents and regions\n",
    "aux = pd.read_excel(path_aux, sheet_name=\"Aux_Table\")\n",
    "\n",
    "# Creating the mapping dictionary\n",
    "mapping = dict(zip(aux[\"Before\"], aux[\"After\"]))\n",
    "\n",
    "# Replacing the countries names based on the mapping dictionary\n",
    "df[\"Country\"] = df[\"Country\"].replace(mapping)\n",
    "\n",
    "# Creating a new column because of the new structure\n",
    "df[\"Year\"] = str(year)\n",
    "\n",
    "# Sorting the year column to be the first one \n",
    "df = df[[\"Year\"] + [col for col in df.columns if col != \"Year\"]]"
   ]
  },
  {
   "cell_type": "code",
   "execution_count": 3,
   "id": "8fff38d3",
   "metadata": {},
   "outputs": [],
   "source": [
    "# I grouped by country because in some cases when I was fixing I replaced the old name to the new name, ie Hong Kong -> China making double China\n",
    "df_grouped = df.groupby([\"Year\", \"Country\"], dropna=False).agg({\n",
    "    \"Issued\": \"sum\",\n",
    "    \"Refused\": \"sum\",\n",
    "    \"Withdrawn\": \"sum\"\n",
    "}).reset_index()\n",
    "\n",
    "# Filter rows where at least one of the numeric columns is non-zero\n",
    "numeric_cols = [\"Issued\", \"Refused\", \"Withdrawn\"]\n",
    "df_grouped = df_grouped[df_grouped[numeric_cols].any(axis=1)]"
   ]
  },
  {
   "cell_type": "code",
   "execution_count": 4,
   "id": "16809a8e",
   "metadata": {},
   "outputs": [
    {
     "name": "stdout",
     "output_type": "stream",
     "text": [
      "     Year      Country  Issued  Refused  Withdrawn\n",
      "0    2025  Afghanistan     4.0      3.0        5.0\n",
      "1    2025      Albania    12.0      4.0        7.0\n",
      "2    2025      Algeria    21.0      5.0       38.0\n",
      "4    2025       Angola     0.0      0.0        2.0\n",
      "7    2025    Argentina    70.0     14.0       28.0\n",
      "..    ...          ...     ...      ...        ...\n",
      "176  2025    Venezuela    14.0      2.0        6.0\n",
      "177  2025      Vietnam    84.0      4.0       46.0\n",
      "178  2025        Yemen     3.0      0.0        6.0\n",
      "179  2025       Zambia    14.0      3.0       13.0\n",
      "180  2025     Zimbabwe   607.0     84.0      614.0\n",
      "\n",
      "[126 rows x 5 columns]\n"
     ]
    }
   ],
   "source": [
    "# I used the extension .csv because is lighter and easy to work with some libraries like pandas, sqlalchemy\n",
    "df_grouped.to_csv(f\"G:/My Drive/ESTUDOS DATA SCIENCE/ie-employment-permit/data/{year}/permits-by-nationality-{year}.csv\", index=False)\n",
    "\n",
    "print(df_grouped)"
   ]
  }
 ],
 "metadata": {
  "kernelspec": {
   "display_name": "Python 3",
   "language": "python",
   "name": "python3"
  },
  "language_info": {
   "codemirror_mode": {
    "name": "ipython",
    "version": 3
   },
   "file_extension": ".py",
   "mimetype": "text/x-python",
   "name": "python",
   "nbconvert_exporter": "python",
   "pygments_lexer": "ipython3",
   "version": "3.13.5"
  }
 },
 "nbformat": 4,
 "nbformat_minor": 5
}
