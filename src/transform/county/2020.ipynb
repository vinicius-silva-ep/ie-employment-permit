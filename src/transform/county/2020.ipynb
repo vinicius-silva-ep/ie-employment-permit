{
 "cells": [
  {
   "cell_type": "markdown",
   "id": "ec7ec008",
   "metadata": {},
   "source": [
    "2020 - Employment Permit by County"
   ]
  },
  {
   "cell_type": "code",
   "execution_count": 1,
   "id": "4fe0366e",
   "metadata": {},
   "outputs": [],
   "source": [
    "# Reading the raw data in the folder on my personal computer\n",
    "import pandas as pd\n",
    "\n",
    "df = pd.read_excel(r\"G:/My Drive/ESTUDOS DATA SCIENCE/ie-employment-permit/data/raw_data/2020/permits-by-county-2020.xlsx\", # This case is using .xlsx and has a different file name, 2010 and 2009 were using the extension .xls\n",
    "                   header=1,\n",
    "                   skiprows=[2] # I needed to skip these rows because I had the summarization of the values by year (which was uninteresting)\n",
    ")"
   ]
  },
  {
   "cell_type": "code",
   "execution_count": 2,
   "id": "bf33a6e7",
   "metadata": {},
   "outputs": [],
   "source": [
    "# Creating a new column because of the new structure where the year is on top of the table\n",
    "df[\"Year\"] = 2020\n",
    "\n",
    "# Sorting the year column to be the first one \n",
    "df = df[[\"Year\"] + [col for col in df.columns if col != \"Year\"]]"
   ]
  },
  {
   "cell_type": "code",
   "execution_count": 3,
   "id": "83b76c5d",
   "metadata": {},
   "outputs": [],
   "source": [
    "# As this part of project is focused only in the counties, I had to group all missed places by \"Others\"\n",
    "\n",
    "# I had to made a copy of the df with the filtered rows by not being \"NaN\" (because some cases are about countries or counties from North Ireland)\n",
    "df_others = df[df[\"Obs\"].notna()].copy()\n",
    "# Replacing all values by just \"Others\" to facilitate the analysis\n",
    "df_others[\"County\"] = \"Others\"\n",
    "# Summarizing the columns\n",
    "df_others_grouped = df_others.groupby([\"Year\", \"County\"], as_index=False)[[\"Issued\", \"Refused\", \"Withdrawn\"]].sum()\n",
    "# Creating a dataframe with only the \"Others\" row\n",
    "df_main = df[df[\"Obs\"].isna()].copy()\n",
    "# Concatenating both dataframes, original and the modified copy\n",
    "df = pd.concat([df_main, df_others_grouped], ignore_index=True)\n",
    "# As I don't need to use the \"Obs\" column, I removed for the final file\n",
    "df.drop(columns=[\"Obs\"], inplace=True)"
   ]
  },
  {
   "cell_type": "code",
   "execution_count": 4,
   "id": "5102649c",
   "metadata": {},
   "outputs": [],
   "source": [
    "# Creating the Primary Key\n",
    "# Ensure Year and County are strings and remove spaces from County\n",
    "df[\"Year\"] = df[\"Year\"].astype(str)\n",
    "df[\"County\"] = df[\"County\"].astype(str).str.strip()\n",
    "df[\"id_county\"] = df[\"Year\"] + df[\"County\"].str.replace(r\"\\s+\", \"_\", regex=True)\n",
    "\n",
    "# Reordering columns\n",
    "cols = [\"id_county\", \"Year\", \"County\", \"Issued\", \"Refused\", \"Withdrawn\"]\n",
    "df = df[[c for c in cols if c in df.columns]]"
   ]
  },
  {
   "cell_type": "code",
   "execution_count": 5,
   "id": "362257f4",
   "metadata": {},
   "outputs": [
    {
     "name": "stdout",
     "output_type": "stream",
     "text": [
      "        id_county  Year     County  Issued  Refused  Withdrawn\n",
      "0      2020Carlow  2020     Carlow    62.0        3        3.0\n",
      "1       2020Cavan  2020      Cavan   316.0       44       10.0\n",
      "2       2020Clare  2020      Clare   136.0       30       11.0\n",
      "3        2020Cork  2020       Cork  1243.0       91       44.0\n",
      "4     2020Donegal  2020    Donegal   205.0       11       10.0\n",
      "5      2020Dublin  2020     Dublin  8520.0      461      321.0\n",
      "6      2020Galway  2020     Galway   590.0       50       31.0\n",
      "7       2020Kerry  2020      Kerry   235.0       15       10.0\n",
      "8     2020Kildare  2020    Kildare   572.0       31       20.0\n",
      "9    2020Kilkenny  2020   Kilkenny   229.0        6        9.0\n",
      "10      2020Laois  2020      Laois    82.0        3        NaN\n",
      "11    2020Leitrim  2020    Leitrim    23.0        3        2.0\n",
      "12   2020Limerick  2020   Limerick   670.0       39       38.0\n",
      "13   2020Longford  2020   Longford    86.0        1        3.0\n",
      "14      2020Louth  2020      Louth   418.0       12        8.0\n",
      "15       2020Mayo  2020       Mayo   245.0       14       13.0\n",
      "16      2020Meath  2020      Meath   321.0       15       31.0\n",
      "17   2020Monaghan  2020   Monaghan   110.0       12        2.0\n",
      "18     2020Offaly  2020     Offaly   299.0        7        5.0\n",
      "19  2020Roscommon  2020  Roscommon    80.0        6        1.0\n",
      "20      2020Sligo  2020      Sligo   147.0        9        3.0\n",
      "21  2020Tipperary  2020  Tipperary   224.0       17        8.0\n",
      "22  2020Waterford  2020  Waterford   725.0       17       25.0\n",
      "23  2020Westmeath  2020  Westmeath   216.0       19        9.0\n",
      "24    2020Wexford  2020    Wexford   410.0       10       23.0\n",
      "25    2020Wicklow  2020    Wicklow   145.0       20       16.0\n",
      "26     2020Others  2020     Others   110.0       10        4.0\n"
     ]
    }
   ],
   "source": [
    "# I used the extension .csv because is lighter and easy to work with some libraries like pandas, sqlalchemy\n",
    "df.to_csv(r\"G:/My Drive/ESTUDOS DATA SCIENCE/ie-employment-permit/data/2020/permits-issued-by-county-2020.csv\", index=False)\n",
    "\n",
    "print(df)"
   ]
  }
 ],
 "metadata": {
  "kernelspec": {
   "display_name": "Python 3",
   "language": "python",
   "name": "python3"
  },
  "language_info": {
   "codemirror_mode": {
    "name": "ipython",
    "version": 3
   },
   "file_extension": ".py",
   "mimetype": "text/x-python",
   "name": "python",
   "nbconvert_exporter": "python",
   "pygments_lexer": "ipython3",
   "version": "3.13.5"
  }
 },
 "nbformat": 4,
 "nbformat_minor": 5
}
