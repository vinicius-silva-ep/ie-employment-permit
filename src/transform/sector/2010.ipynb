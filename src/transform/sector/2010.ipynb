{
 "cells": [
  {
   "cell_type": "markdown",
   "id": "ec7ec008",
   "metadata": {},
   "source": [
    "2010 - Employment Permit by Sector"
   ]
  },
  {
   "cell_type": "code",
   "execution_count": 6,
   "id": "4fe0366e",
   "metadata": {},
   "outputs": [],
   "source": [
    "year = 2010\n",
    "\n",
    "# Reading the raw data in the folder on my personal computer\n",
    "import pandas as pd\n",
    "\n",
    "df = pd.read_excel(f\"E:/My Drive/ESTUDOS DATA SCIENCE/ie-employment-permit/data/raw_data/{year}/permits-issued-by-sector-{year}.xls\",\n",
    "                   skiprows=[1] # I needed to skip this row because I had the summarization of the values by year, which was uninteresting\n",
    ")"
   ]
  },
  {
   "cell_type": "code",
   "execution_count": 7,
   "id": "80794b70",
   "metadata": {},
   "outputs": [
    {
     "name": "stderr",
     "output_type": "stream",
     "text": [
      "C:\\Users\\vinic\\AppData\\Local\\Temp\\ipykernel_17356\\2892345963.py:3: FutureWarning: Series.fillna with 'method' is deprecated and will raise in a future version. Use obj.ffill() or obj.bfill() instead.\n",
      "  df['Month'] = df['Month'].fillna(method='ffill')\n"
     ]
    }
   ],
   "source": [
    "# Replacing the NaN values by the year and month\n",
    "df[\"Year\"] = df[\"Year\"].fillna(f\"{year}\")\n",
    "df['Month'] = df['Month'].fillna(method='ffill')\n",
    "\n",
    "# Renaming the sector column and removing subtotal rows\n",
    "df = df.rename(columns={'Unnamed: 2': 'Sector'})\n",
    "df = df[~((df['Sector'].isna()) & (df['Month'].notna()))]"
   ]
  },
  {
   "cell_type": "code",
   "execution_count": 8,
   "id": "c6954161",
   "metadata": {},
   "outputs": [],
   "source": [
    "# Before 2020 the column structures of the files were different. So, I needed to rename the column \"Total\" by \"Issued\" because after 2020 the new file didn't have the columns \"New\" and \"Renewals\", only \"Issued\". In this case, to keep the standard of the project, I needed to mantain only \"Issued\".\n",
    "df.rename(columns={\"Total\": \"Issued\"}, inplace=True) # Issued is the amount of new and renewals\n",
    "df.drop(columns=[\"New\", \"Renewals\", \"Unnamed: 3\"], inplace=True)"
   ]
  },
  {
   "cell_type": "code",
   "execution_count": 9,
   "id": "78f69de7",
   "metadata": {},
   "outputs": [
    {
     "name": "stdout",
     "output_type": "stream",
     "text": [
      "     Year Month                   Sector  Issued  Refused  Withdrawn\n",
      "1    2010   Jan  Agriculture & Fisheries      37       10          2\n",
      "2    2010   Jan                 Catering     121       41          9\n",
      "3    2010   Jan                 Domestic      11        3          0\n",
      "4    2010   Jan                Education      14        2          0\n",
      "5    2010   Jan            Entertainment      10        0          0\n",
      "..    ...   ...                      ...     ...      ...        ...\n",
      "114  2010   Dec            Entertainment       1        0          0\n",
      "115  2010   Dec      Exchange Agreements       2        0          0\n",
      "116  2010   Dec                 Industry      31        4          1\n",
      "117  2010   Dec        Medical & Nursing      45        8          1\n",
      "118  2010   Dec         Service Industry     118        7          2\n",
      "\n",
      "[107 rows x 6 columns]\n"
     ]
    }
   ],
   "source": [
    "# I used the extension .csv because is lighter and easy to work with some libraries like pandas, sqlalchemy\n",
    "df.to_csv(f\"E:/My Drive/ESTUDOS DATA SCIENCE/ie-employment-permit/data/{year}/permits-by-sector-{year}.csv\", index=False)\n",
    "\n",
    "print(df)"
   ]
  }
 ],
 "metadata": {
  "kernelspec": {
   "display_name": "Python 3",
   "language": "python",
   "name": "python3"
  },
  "language_info": {
   "codemirror_mode": {
    "name": "ipython",
    "version": 3
   },
   "file_extension": ".py",
   "mimetype": "text/x-python",
   "name": "python",
   "nbconvert_exporter": "python",
   "pygments_lexer": "ipython3",
   "version": "3.13.3"
  }
 },
 "nbformat": 4,
 "nbformat_minor": 5
}
