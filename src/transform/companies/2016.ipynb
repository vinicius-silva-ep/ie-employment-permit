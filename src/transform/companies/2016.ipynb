{
 "cells": [
  {
   "cell_type": "markdown",
   "id": "ec7ec008",
   "metadata": {},
   "source": [
    "2016 - Employment Permit by Companies"
   ]
  },
  {
   "cell_type": "code",
   "execution_count": 3,
   "id": "4fe0366e",
   "metadata": {},
   "outputs": [],
   "source": [
    "year = 2016\n",
    "\n",
    "# Reading the raw data in the folder on my personal computer\n",
    "import pandas as pd\n",
    "\n",
    "df = pd.read_excel(f\"E:/My Drive/ESTUDOS DATA SCIENCE/ie-employment-permit/data/raw_data/{year}/companies-issued-with-permits-{year}.xlsx\",\n",
    "                   skiprows=[1]\n",
    ")"
   ]
  },
  {
   "cell_type": "code",
   "execution_count": 4,
   "id": "80794b70",
   "metadata": {},
   "outputs": [],
   "source": [
    "# Removing rows where \"Company Name\" is empty\n",
    "df = df[df['Employer Name'].notna() & (df['Employer Name'].str.strip() != '')]\n",
    "\n",
    "# Removing rows where contais \"Total for\" value\n",
    "df = df[~df['Employer Name'].str.contains('Total for', na=False)]\n",
    "\n",
    "# Grouping by \"Company name\" because the next datasets don't have county information and using just the total information\n",
    "df['Employer Name'] = df['Employer Name'].str.strip().str.replace(r'\\s+', ' ', regex=True).str.title() # Normalizing data before grouping\n",
    "df = df.groupby('Employer Name', as_index=False)['Total'].sum()\n",
    "\n",
    "# Inserting the year\n",
    "df[\"Year\"] = f\"{year}\"\n",
    "\n",
    "# Renaming the company column and removing useless columns\n",
    "df = df.rename(columns={'Employer Name': 'Company'})\n",
    "\n",
    "# Sorting columns\n",
    "df = df[['Year', 'Company', 'Total']]"
   ]
  },
  {
   "cell_type": "code",
   "execution_count": 5,
   "id": "78f69de7",
   "metadata": {},
   "outputs": [
    {
     "name": "stdout",
     "output_type": "stream",
     "text": [
      "      Year                                     Company  Total\n",
      "0     2016                    3 Leaves Technology Ltd.      1\n",
      "1     2016                            3D Issue Limited      3\n",
      "2     2016                      4D Pharma Cork Limited      2\n",
      "3     2016  4Efulfillment.Com Ltd T/A 4Giftsdirect.Com      1\n",
      "4     2016                    4Tech Cardio Ireland Ltd      1\n",
      "...    ...                                         ...    ...\n",
      "2062  2016                  Ziff Davis Ireland Limited      1\n",
      "2063  2016                              Zinopy Limited      2\n",
      "2064  2016            Zoetis Belgium Sa (Irish Branch)     16\n",
      "2065  2016            Zurich Insurance Company Limited      2\n",
      "2066  2016                        Zurich Insurance Plc      3\n",
      "\n",
      "[2067 rows x 3 columns]\n"
     ]
    }
   ],
   "source": [
    "# I used the extension .csv because is lighter and easy to work with some libraries like pandas, sqlalchemy\n",
    "df.to_csv(f\"E:/My Drive/ESTUDOS DATA SCIENCE/ie-employment-permit/data/{year}/permits-by-companies-{year}.csv\", index=False)\n",
    "\n",
    "print(df)"
   ]
  }
 ],
 "metadata": {
  "kernelspec": {
   "display_name": "Python 3",
   "language": "python",
   "name": "python3"
  },
  "language_info": {
   "codemirror_mode": {
    "name": "ipython",
    "version": 3
   },
   "file_extension": ".py",
   "mimetype": "text/x-python",
   "name": "python",
   "nbconvert_exporter": "python",
   "pygments_lexer": "ipython3",
   "version": "3.13.3"
  }
 },
 "nbformat": 4,
 "nbformat_minor": 5
}
