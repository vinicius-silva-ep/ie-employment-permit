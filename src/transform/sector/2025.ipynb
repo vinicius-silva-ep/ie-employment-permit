{
 "cells": [
  {
   "cell_type": "markdown",
   "id": "ec7ec008",
   "metadata": {},
   "source": [
    "2025 - Employment Permit by Sector"
   ]
  },
  {
   "cell_type": "code",
   "execution_count": 13,
   "id": "4fe0366e",
   "metadata": {},
   "outputs": [
    {
     "name": "stdout",
     "output_type": "stream",
     "text": [
      "                                               Sector   Jan    Feb    Mar  \\\n",
      "0                 A - Agriculture, Forestry & Fishing   202  251.0  243.0   \n",
      "1                              B - Mining & Quarrying     9    6.0    NaN   \n",
      "2                         C - All Other Manufacturing   177  132.0  100.0   \n",
      "3      C - Manufacture of Chemicals & Pharmaceuticals    56   65.0   47.0   \n",
      "4   C - Manufacture of Computers, Electronics & Op...    33   70.0   49.0   \n",
      "5            C - Manufacture of Food, Drink & Tobacco    39   54.0   69.0   \n",
      "6                  C - Manufacture of Medical Devices    41   29.0   27.0   \n",
      "7     D - Electricity & Gas & Air Conditioning Supply    55   29.0   49.0   \n",
      "8   E - Water Supply - Sewerage Waste Management &...     2    2.0    3.0   \n",
      "9                                    F - Construction   265  155.0  230.0   \n",
      "10                       G - Wholesale & Retail Trade    68   42.0   55.0   \n",
      "11                            H - Transport & Storage   124  108.0   83.0   \n",
      "12       I - Accommodation & Food Services Activities   556  387.0  458.0   \n",
      "13         J - Information & Communication Activities   462  364.0  371.0   \n",
      "14               K - Financial & Insurance Activities   163  141.0  143.0   \n",
      "15                         L - Real Estate Activities     2    9.0    1.0   \n",
      "16  M - All other Professional, Scientific & Techn...    96   47.0   86.0   \n",
      "17  M - Professional, Scientific & Technical Activ...    30   31.0   26.0   \n",
      "18    N - Administrative & Support Service Activities    10    8.0   11.0   \n",
      "19                O - Public Administration & Defence     9    3.0    4.0   \n",
      "20                                      P - Education    48   31.0   43.0   \n",
      "21                Q - Health & Social Work Activities  1033  778.0  791.0   \n",
      "22             R - Arts, Entertainment and Recreation    39   48.0   73.0   \n",
      "23                       S - Other Service Activities   272  200.0  214.0   \n",
      "24  T - Domestic - Activities of Households as Emp...     1    NaN    NaN   \n",
      "25                                  No Sector Entered     2    1.0    3.0   \n",
      "\n",
      "      Apr  May    Jun    Jul  Aug  Grand Total  \n",
      "0   135.0  116   62.0  109.0  121         1239  \n",
      "1     3.0    5    3.0    8.0    9           43  \n",
      "2    51.0   74   49.0   74.0   97          754  \n",
      "3    47.0   34   21.0   34.0   59          363  \n",
      "4    18.0   23   36.0   31.0   29          289  \n",
      "5    46.0   49   29.0   31.0   79          396  \n",
      "6    12.0    7    6.0   18.0   20          160  \n",
      "7    17.0   30   19.0   24.0   31          254  \n",
      "8     7.0    3    1.0    5.0   12           35  \n",
      "9    87.0  108   68.0  136.0  195         1244  \n",
      "10   32.0   35   22.0   39.0   44          337  \n",
      "11   46.0  174   92.0  149.0  128          904  \n",
      "12  169.0  220  123.0  174.0  215         2302  \n",
      "13  229.0  224  196.0  243.0  302         2391  \n",
      "14   90.0   79  109.0  110.0  163          998  \n",
      "15    2.0    1    2.0    3.0    2           22  \n",
      "16   39.0   49   41.0   49.0   67          474  \n",
      "17   23.0   12   11.0   24.0   29          186  \n",
      "18    7.0    5    2.0    9.0   12           64  \n",
      "19    4.0    3    1.0    2.0    5           31  \n",
      "20   19.0   28   13.0   49.0   35          266  \n",
      "21  412.0  365  653.0  634.0  641         5307  \n",
      "22   34.0   31   37.0   54.0   76          392  \n",
      "23  128.0  143   84.0  145.0  149         1335  \n",
      "24    NaN    1    NaN    NaN    3            5  \n",
      "25    3.0    1    NaN    NaN  102          112  \n"
     ]
    }
   ],
   "source": [
    "year = 2025\n",
    "\n",
    "# Reading the raw data in the folder on my personal computer\n",
    "import pandas as pd \n",
    "\n",
    "df = pd.read_excel(f\"G:/My Drive/ESTUDOS DATA SCIENCE/ie-employment-permit/data/raw_data/{year}/permits-by-sector-{year}.xlsx\",\n",
    "                   header=0,\n",
    "                   skiprows=[1] # I needed to skip these rows because I had the summarization of the values by month (which was uninteresting)\n",
    ")\n",
    "\n",
    "# Verifying if the first column has no name, so I rename it to \"Sector\"\n",
    "if df.columns[0] in [None, \"\", \"Unnamed: 0\"]:\n",
    "    df.rename(columns={df.columns[0]: \"Sector\"}, inplace=True)\n",
    "print(df)"
   ]
  },
  {
   "cell_type": "code",
   "execution_count": 14,
   "id": "80794b70",
   "metadata": {},
   "outputs": [
    {
     "name": "stderr",
     "output_type": "stream",
     "text": [
      "C:\\Users\\vinic\\AppData\\Local\\Temp\\ipykernel_3772\\3309102362.py:26: SettingWithCopyWarning: \n",
      "A value is trying to be set on a copy of a slice from a DataFrame.\n",
      "Try using .loc[row_indexer,col_indexer] = value instead\n",
      "\n",
      "See the caveats in the documentation: https://pandas.pydata.org/pandas-docs/stable/user_guide/indexing.html#returning-a-view-versus-a-copy\n",
      "  df[col] = 0\n",
      "C:\\Users\\vinic\\AppData\\Local\\Temp\\ipykernel_3772\\3309102362.py:26: SettingWithCopyWarning: \n",
      "A value is trying to be set on a copy of a slice from a DataFrame.\n",
      "Try using .loc[row_indexer,col_indexer] = value instead\n",
      "\n",
      "See the caveats in the documentation: https://pandas.pydata.org/pandas-docs/stable/user_guide/indexing.html#returning-a-view-versus-a-copy\n",
      "  df[col] = 0\n",
      "C:\\Users\\vinic\\AppData\\Local\\Temp\\ipykernel_3772\\3309102362.py:31: SettingWithCopyWarning: \n",
      "A value is trying to be set on a copy of a slice from a DataFrame.\n",
      "Try using .loc[row_indexer,col_indexer] = value instead\n",
      "\n",
      "See the caveats in the documentation: https://pandas.pydata.org/pandas-docs/stable/user_guide/indexing.html#returning-a-view-versus-a-copy\n",
      "  df[col] = pd.to_numeric(df[col], errors='coerce').fillna(0)\n"
     ]
    }
   ],
   "source": [
    "# Creating a new column\n",
    "df['Year'] = f\"{year}\"\n",
    "\n",
    "# Garanteeing that the all months are present in the dataframe\n",
    "months = ['Jan', 'Feb', 'Mar', 'Apr', 'May', 'Jun',\n",
    "          'Jul', 'Aug', 'Sep', 'Oct', 'Nov', 'Dec']\n",
    "for m in months:\n",
    "    if m not in df.columns:\n",
    "        df[m] = 0  # ou '' se preferir string\n",
    "\n",
    "# Pivoting the dataframe to make it tidy\n",
    "df_melted = df.melt(\n",
    "    id_vars=['Sector', 'Year'],\n",
    "    value_vars=months,\n",
    "    var_name='Month',\n",
    "    value_name='Issued'\n",
    ")        \n",
    "\n",
    "# Renaming again to make the df tidy\n",
    "df = df_melted\n",
    "df = df[['Year', 'Month', 'Sector', 'Issued']]\n",
    "\n",
    "# Garanteeing that the columns 'Refused' and 'Withdrawn' are present in the dataframe\n",
    "for col in ['Refused', 'Withdrawn']:\n",
    "    if col not in df.columns:\n",
    "        df[col] = 0\n",
    "\n",
    "# Cenverting the numeric columns to numeric type, handling non-numeric values by coercing them to NaN and then filling NaN with 0\n",
    "numeric_cols = ['Issued', 'Refused', 'Withdrawn']\n",
    "for col in numeric_cols:\n",
    "    df[col] = pd.to_numeric(df[col], errors='coerce').fillna(0)\n",
    "\n",
    "# Filter rows where at least one of the numeric columns is non-zero\n",
    "df = df[df[numeric_cols].sum(axis=1) > 0]        \n"
   ]
  },
  {
   "cell_type": "code",
   "execution_count": 15,
   "id": "78f69de7",
   "metadata": {},
   "outputs": [
    {
     "name": "stdout",
     "output_type": "stream",
     "text": [
      "     Year Month                                             Sector  Issued  \\\n",
      "0    2025   Jan                A - Agriculture, Forestry & Fishing   202.0   \n",
      "1    2025   Jan                             B - Mining & Quarrying     9.0   \n",
      "2    2025   Jan                        C - All Other Manufacturing   177.0   \n",
      "3    2025   Jan     C - Manufacture of Chemicals & Pharmaceuticals    56.0   \n",
      "4    2025   Jan  C - Manufacture of Computers, Electronics & Op...    33.0   \n",
      "..    ...   ...                                                ...     ...   \n",
      "203  2025   Aug                Q - Health & Social Work Activities   641.0   \n",
      "204  2025   Aug             R - Arts, Entertainment and Recreation    76.0   \n",
      "205  2025   Aug                       S - Other Service Activities   149.0   \n",
      "206  2025   Aug  T - Domestic - Activities of Households as Emp...     3.0   \n",
      "207  2025   Aug                                  No Sector Entered   102.0   \n",
      "\n",
      "     Refused  Withdrawn  \n",
      "0          0          0  \n",
      "1          0          0  \n",
      "2          0          0  \n",
      "3          0          0  \n",
      "4          0          0  \n",
      "..       ...        ...  \n",
      "203        0          0  \n",
      "204        0          0  \n",
      "205        0          0  \n",
      "206        0          0  \n",
      "207        0          0  \n",
      "\n",
      "[200 rows x 6 columns]\n"
     ]
    }
   ],
   "source": [
    "# I used the extension .csv because is lighter and easy to work with some libraries like pandas, sqlalchemy\n",
    "df.to_csv(f\"G:/My Drive/ESTUDOS DATA SCIENCE/ie-employment-permit/data/{year}/permits-by-sector-{year}.csv\", index=False)\n",
    "\n",
    "print(df)"
   ]
  }
 ],
 "metadata": {
  "kernelspec": {
   "display_name": "Python 3",
   "language": "python",
   "name": "python3"
  },
  "language_info": {
   "codemirror_mode": {
    "name": "ipython",
    "version": 3
   },
   "file_extension": ".py",
   "mimetype": "text/x-python",
   "name": "python",
   "nbconvert_exporter": "python",
   "pygments_lexer": "ipython3",
   "version": "3.13.5"
  }
 },
 "nbformat": 4,
 "nbformat_minor": 5
}
