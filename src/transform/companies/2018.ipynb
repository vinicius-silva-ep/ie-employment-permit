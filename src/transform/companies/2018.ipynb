{
 "cells": [
  {
   "cell_type": "markdown",
   "id": "ec7ec008",
   "metadata": {},
   "source": [
    "2018 - Employment Permit by Companies"
   ]
  },
  {
   "cell_type": "code",
   "execution_count": 40,
   "id": "4fe0366e",
   "metadata": {},
   "outputs": [],
   "source": [
    "year = 2018\n",
    "\n",
    "# Reading the raw data in the folder on my personal computer\n",
    "import pandas as pd\n",
    "\n",
    "df = pd.read_excel(f\"E:/My Drive/ESTUDOS DATA SCIENCE/ie-employment-permit/data/raw_data/{year}/companies-issued-with-permits-{year}.xlsx\",\n",
    "                   skiprows=[1]\n",
    ")"
   ]
  },
  {
   "cell_type": "code",
   "execution_count": 41,
   "id": "80794b70",
   "metadata": {},
   "outputs": [],
   "source": [
    "# Filling the month column\n",
    "df['Month'] = df['Month'].astype(str).str.strip().replace('nan', pd.NA) # Removing all blank rows before\n",
    "df['Month'] = df['Month'].ffill()\n",
    "\n",
    "# Removing rows where \"Company Name\" is empty\n",
    "df = df[df['Employer Name'].notna() & (df['Employer Name'].str.strip() != '')]\n",
    "\n",
    "# Removing rows where contais \"Total for\" value\n",
    "df = df[~df['Employer Name'].str.contains('Total for', na=False)]\n",
    "\n",
    "# Grouping by \"Company name\" because the next datasets don't have county information and using just the total information\n",
    "df['Employer Name'] = df['Employer Name'].str.strip().str.replace(r'\\s+', ' ', regex=True).str.title() # Normalizing data before grouping\n",
    "\n",
    "# Grouping by employer name and month\n",
    "df = df.groupby(['Employer Name', 'Month'], as_index=False)['Total'].sum()\n",
    "\n",
    "# Adding the year\n",
    "df['Year'] = year\n",
    "\n",
    "# Renaming columns\n",
    "df = df.rename(columns={'Employer Name': 'Company'})\n",
    "df = df[['Year', 'Month', 'Company', 'Total']]\n",
    "\n",
    "# Sorting months\n",
    "month_order = ['Jan', 'Feb', 'Mar', 'Apr', 'May', 'Jun',\n",
    "               'Jul', 'Aug', 'Sep', 'Oct', 'Nov', 'Dec']\n",
    "df['Month'] = pd.Categorical(df['Month'], categories=month_order, ordered=True)\n",
    "df = df.sort_values(by=['Year', 'Month', 'Company'])"
   ]
  },
  {
   "cell_type": "code",
   "execution_count": 42,
   "id": "78f69de7",
   "metadata": {},
   "outputs": [
    {
     "name": "stdout",
     "output_type": "stream",
     "text": [
      "      Year Month                                   Company  Total\n",
      "2     2018   Jan                   360 Degrees Cycles Ltd.      1\n",
      "4     2018   Jan                        3D4Medical Limited      1\n",
      "15    2018   Jan     Aarc (Management Consultants) Limited      1\n",
      "26    2018   Jan                            Abbott Ireland      1\n",
      "30    2018   Jan             Abbott Ireland (Irish Branch)      1\n",
      "...    ...   ...                                       ...    ...\n",
      "5248  2018   Dec                            Zazzle Ireland      1\n",
      "5260  2018   Dec               Zenith Technologies Limited      1\n",
      "5279  2018   Dec  Zimmer Orthopedics Manufacturing Limited      1\n",
      "5281  2018   Dec        Zoetis Belgium S.A. (Irish Branch)      1\n",
      "5291  2018   Dec              Zutec Inc. (Ireland) Limited      1\n",
      "\n",
      "[5294 rows x 4 columns]\n"
     ]
    }
   ],
   "source": [
    "# I used the extension .csv because is lighter and easy to work with some libraries like pandas, sqlalchemy\n",
    "df.to_csv(f\"E:/My Drive/ESTUDOS DATA SCIENCE/ie-employment-permit/data/{year}/permits-by-companies-{year}.csv\", index=False)\n",
    "\n",
    "print(df)"
   ]
  }
 ],
 "metadata": {
  "kernelspec": {
   "display_name": "Python 3",
   "language": "python",
   "name": "python3"
  },
  "language_info": {
   "codemirror_mode": {
    "name": "ipython",
    "version": 3
   },
   "file_extension": ".py",
   "mimetype": "text/x-python",
   "name": "python",
   "nbconvert_exporter": "python",
   "pygments_lexer": "ipython3",
   "version": "3.13.3"
  }
 },
 "nbformat": 4,
 "nbformat_minor": 5
}
