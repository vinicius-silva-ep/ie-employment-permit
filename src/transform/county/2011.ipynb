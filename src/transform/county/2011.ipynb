{
 "cells": [
  {
   "cell_type": "markdown",
   "id": "ec7ec008",
   "metadata": {},
   "source": [
    "2011 - Employment Permit by County"
   ]
  },
  {
   "cell_type": "code",
   "execution_count": 8,
   "id": "4fe0366e",
   "metadata": {},
   "outputs": [],
   "source": [
    "# Reading the raw data in the folder on my personal computer\n",
    "import pandas as pd\n",
    "\n",
    "df = pd.read_excel(r\"G:/My Drive/ESTUDOS DATA SCIENCE/ie-employment-permit/data/raw_data/2011/permits-issued-by-county-2011.xlsx\", # This case is using .xlsx, 2010 and 2009 were using the extension .xls\n",
    "                   skiprows=[1] # I needed to skip this row because I had the summarization of the values by year, which was uninteresting\n",
    ")"
   ]
  },
  {
   "cell_type": "code",
   "execution_count": 9,
   "id": "9b1a91c6",
   "metadata": {},
   "outputs": [],
   "source": [
    "# Replacing the NaN values by the year\n",
    "df[\"Year\"] = df[\"Year\"].fillna(\"2011\")"
   ]
  },
  {
   "cell_type": "code",
   "execution_count": 10,
   "id": "8e32b4a6",
   "metadata": {},
   "outputs": [],
   "source": [
    "# Before 2020 the column structures of the files were different. So, I needed to rename the column \"Total\" by \"Issued\" because after 2020 the new file didn't have the columns \"New\" and \"Renewals\", only \"Issued\". In this case, to keep the standard of the project, I needed to mantain only \"Issued\".\n",
    "df.rename(columns={\"Total\": \"Issued\", \"County/Country\": \"County\"}, inplace=True) # I had to replace \"County/Country\" by just \"County\" once that this analysis is about counties\n",
    "df.drop(columns=[\"New\", \"Renewal\"], inplace=True)\n",
    "\n",
    "# I created the column \"Obs\" to make sure that all counties belong to Ireland or any issues that I could find by crossing some databases"
   ]
  },
  {
   "cell_type": "code",
   "execution_count": 11,
   "id": "bd2a9d86",
   "metadata": {},
   "outputs": [],
   "source": [
    "# As this part of project is focused only in the counties, I had to group all missed places by \"Others\"\n",
    "\n",
    "# I had to made a copy of the df with the filtered rows by not being \"NaN\" (because some cases are about countries or counties from North Ireland)\n",
    "df_others = df[df[\"Obs\"].notna()].copy()\n",
    "# Replacing all values by just \"Others\" to facilitate the analysis\n",
    "df_others[\"County\"] = \"Others\"\n",
    "# Summarizing the columns\n",
    "df_others_grouped = df_others.groupby([\"Year\", \"County\"], as_index=False)[[\"Issued\", \"Refused\", \"Withdrawn\"]].sum()\n",
    "# Creating a dataframe with only the \"Others\" row\n",
    "df_main = df[df[\"Obs\"].isna()].copy()\n",
    "# Concatenating both dataframes, original and the modified copy\n",
    "df = pd.concat([df_main, df_others_grouped], ignore_index=True)\n",
    "# As I don't need to use the \"Obs\" column, I removed for the final file\n",
    "df.drop(columns=[\"Obs\"], inplace=True)"
   ]
  },
  {
   "cell_type": "code",
   "execution_count": 12,
   "id": "34cc2715",
   "metadata": {},
   "outputs": [],
   "source": [
    "# Creating the Primary Key\n",
    "# Ensure Year and County are strings and remove spaces from County\n",
    "df[\"Year\"] = df[\"Year\"].astype(str)\n",
    "df[\"County\"] = df[\"County\"].astype(str).str.strip()\n",
    "df[\"id_county\"] = df[\"Year\"] + df[\"County\"].str.replace(r\"\\s+\", \"_\", regex=True)\n",
    "\n",
    "# Reordering columns\n",
    "cols = [\"id_county\", \"Year\", \"County\", \"Issued\", \"Refused\", \"Withdrawn\"]\n",
    "df = df[[c for c in cols if c in df.columns]]"
   ]
  },
  {
   "cell_type": "code",
   "execution_count": 13,
   "id": "58cbfff0",
   "metadata": {},
   "outputs": [
    {
     "name": "stdout",
     "output_type": "stream",
     "text": [
      "        id_county  Year     County  Issued  Refused  Withdrawn\n",
      "0      2011Carlow  2011     Carlow      31        7          1\n",
      "1       2011Cavan  2011      Cavan      44        6          0\n",
      "2       2011Clare  2011      Clare      81       20          4\n",
      "3        2011Cork  2011       Cork     417       64         12\n",
      "4     2011Donegal  2011    Donegal      65       12          6\n",
      "5      2011Dublin  2011     Dublin    2717      534        108\n",
      "6      2011Galway  2011     Galway     206       36          4\n",
      "7       2011Kerry  2011      Kerry      89       20          2\n",
      "8     2011Kildare  2011    Kildare     324       51         20\n",
      "9    2011Kilkenny  2011   Kilkenny      53       15          2\n",
      "10      2011Laois  2011      Laois      31        2          0\n",
      "11    2011Leitrim  2011    Leitrim       3        4          0\n",
      "12   2011Limerick  2011   Limerick     151       17          6\n",
      "13   2011Longford  2011   Longford      24        5          1\n",
      "14      2011Louth  2011      Louth      73       15          2\n",
      "15       2011Mayo  2011       Mayo      42       10          5\n",
      "16      2011Meath  2011      Meath      98       25          2\n",
      "17   2011Monaghan  2011   Monaghan      31       12          1\n",
      "18     2011Offaly  2011     Offaly      14       10          2\n",
      "19  2011Roscommon  2011  Roscommon      33        2          0\n",
      "20      2011Sligo  2011      Sligo      32        7          1\n",
      "21  2011Tipperary  2011  Tipperary     128       38          4\n",
      "22  2011Waterford  2011  Waterford      73       16          5\n",
      "23  2011Westmeath  2011  Westmeath     257       26          2\n",
      "24    2011Wexford  2011    Wexford      47       19          2\n",
      "25    2011Wicklow  2011    Wicklow     105       26          5\n",
      "26     2011Others  2011     Others      31        8          4\n"
     ]
    }
   ],
   "source": [
    "# I used the extension .csv because is lighter and easy to work with some libraries like pandas, sqlalchemy\n",
    "df.to_csv(r\"G:/My Drive/ESTUDOS DATA SCIENCE/ie-employment-permit/data/2011/permits-issued-by-county-2011.csv\", index=False)\n",
    "\n",
    "print(df)"
   ]
  }
 ],
 "metadata": {
  "kernelspec": {
   "display_name": "Python 3",
   "language": "python",
   "name": "python3"
  },
  "language_info": {
   "codemirror_mode": {
    "name": "ipython",
    "version": 3
   },
   "file_extension": ".py",
   "mimetype": "text/x-python",
   "name": "python",
   "nbconvert_exporter": "python",
   "pygments_lexer": "ipython3",
   "version": "3.13.5"
  }
 },
 "nbformat": 4,
 "nbformat_minor": 5
}
