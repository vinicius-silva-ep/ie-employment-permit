{
 "cells": [
  {
   "cell_type": "markdown",
   "id": "ec7ec008",
   "metadata": {},
   "source": [
    "2019 - Employment Permit by County"
   ]
  },
  {
   "cell_type": "code",
   "execution_count": 1,
   "id": "4fe0366e",
   "metadata": {},
   "outputs": [],
   "source": [
    "# Reading the raw data in the folder on my personal computer\n",
    "import pandas as pd\n",
    "\n",
    "df = pd.read_excel(r\"G:/My Drive/ESTUDOS DATA SCIENCE/ie-employment-permit/data/raw_data/2019/permits-by-county-2019.xlsx\", # This case is using .xlsx and has a different file name, 2010 and 2009 were using the extension .xls\n",
    "                   header=1,\n",
    "                   skiprows=[2] # I needed to skip these rows because I had the summarization of the values by year (which was uninteresting)\n",
    ")\n",
    "df = df.loc[:, ~df.columns.str.contains('^Unnamed')] # The structure for this sheet was different, so I needed to remove an empty column"
   ]
  },
  {
   "cell_type": "code",
   "execution_count": 2,
   "id": "2028596b",
   "metadata": {},
   "outputs": [],
   "source": [
    "# Replacing the NaN values by the year\n",
    "df[\"Year\"] = df[\"Year\"].fillna(\"2019\")"
   ]
  },
  {
   "cell_type": "code",
   "execution_count": 3,
   "id": "4278ca6c",
   "metadata": {},
   "outputs": [],
   "source": [
    "# Before 2020 the column structures of the files were different. So, I needed to rename the column \"Total\" by \"Issued\" because after 2020 the new file didn't have the columns \"New\" and \"Renewals\", only \"Issued\". In this case, to keep the standard of the project, I needed to mantain only \"Issued\".\n",
    "df.rename(columns={\"Total\": \"Issued\", \"County/Country\": \"County\"}, inplace=True)\n",
    "df.drop(columns=[\"New\", \"Renewal\"], inplace=True)\n",
    "\n",
    "# I created the column \"Obs\" to make sure that all counties belong to Ireland or any issues that I could find by crossing some databases"
   ]
  },
  {
   "cell_type": "code",
   "execution_count": 4,
   "id": "11b57609",
   "metadata": {},
   "outputs": [],
   "source": [
    "# As this part of project is focused only in the counties, I had to group all missed places by \"Others\"\n",
    "\n",
    "# I had to made a copy of the df with the filtered rows by not being \"NaN\" (because some cases are about countries or counties from North Ireland)\n",
    "df_others = df[df[\"Obs\"].notna()].copy()\n",
    "# Replacing all values by just \"Others\" to facilitate the analysis\n",
    "df_others[\"County\"] = \"Others\"\n",
    "# Summarizing the columns\n",
    "df_others_grouped = df_others.groupby([\"Year\", \"County\"], as_index=False)[[\"Issued\", \"Refused\", \"Withdrawn\"]].sum()\n",
    "# Creating a dataframe with only the \"Others\" row\n",
    "df_main = df[df[\"Obs\"].isna()].copy()\n",
    "# Concatenating both dataframes, original and the modified copy\n",
    "df = pd.concat([df_main, df_others_grouped], ignore_index=True)\n",
    "# As I don't need to use the \"Obs\" column, I removed for the final file\n",
    "df.drop(columns=[\"Obs\"], inplace=True)"
   ]
  },
  {
   "cell_type": "code",
   "execution_count": 5,
   "id": "5552d638",
   "metadata": {},
   "outputs": [],
   "source": [
    "# Creating the Primary Key\n",
    "# Ensure Year and County are strings and remove spaces from County\n",
    "df[\"Year\"] = df[\"Year\"].astype(str)\n",
    "df[\"County\"] = df[\"County\"].astype(str).str.strip()\n",
    "df[\"id_county\"] = df[\"Year\"] + df[\"County\"].str.replace(r\"\\s+\", \"_\", regex=True)\n",
    "\n",
    "# Reordering columns\n",
    "cols = [\"id_county\", \"Year\", \"County\", \"Issued\", \"Refused\", \"Withdrawn\"]\n",
    "df = df[[c for c in cols if c in df.columns]]"
   ]
  },
  {
   "cell_type": "code",
   "execution_count": 6,
   "id": "80f7e990",
   "metadata": {},
   "outputs": [
    {
     "name": "stdout",
     "output_type": "stream",
     "text": [
      "        id_county  Year     County  Issued  Refused  Withdrawn\n",
      "0      2019Carlow  2019     Carlow      88       18          3\n",
      "1       2019Cavan  2019      Cavan     299       26         29\n",
      "2       2019Clare  2019      Clare     197       30          6\n",
      "3        2019Cork  2019       Cork    1191      100         64\n",
      "4     2019Donegal  2019    Donegal     268       12         11\n",
      "5      2019Dublin  2019     Dublin    9338      616        378\n",
      "6      2019Galway  2019     Galway     623       53         25\n",
      "7       2019Kerry  2019      Kerry     212       23          7\n",
      "8     2019Kildare  2019    Kildare     339       42         26\n",
      "9    2019Kilkenny  2019   Kilkenny     152       10         13\n",
      "10      2019Laois  2019      Laois      88        7          4\n",
      "11    2019Leitrim  2019    Leitrim      15        2          0\n",
      "12   2019Limerick  2019   Limerick     555       47         40\n",
      "13   2019Longford  2019   Longford      87       22         11\n",
      "14      2019Louth  2019      Louth     361       29         24\n",
      "15       2019Mayo  2019       Mayo     199       17         24\n",
      "16      2019Meath  2019      Meath     307       51         23\n",
      "17   2019Monaghan  2019   Monaghan     283       21         29\n",
      "18     2019Offaly  2019     Offaly     152       53          3\n",
      "19  2019Roscommon  2019  Roscommon      85        4         11\n",
      "20      2019Sligo  2019      Sligo     133       12          3\n",
      "21  2019Tipperary  2019  Tipperary     229       34         21\n",
      "22  2019Waterford  2019  Waterford     457       18         22\n",
      "23  2019Westmeath  2019  Westmeath     241       29         11\n",
      "24    2019Wexford  2019    Wexford     383       57         47\n",
      "25    2019Wicklow  2019    Wicklow     100       26         11\n",
      "26     2019Others  2019     Others       1        5          2\n"
     ]
    }
   ],
   "source": [
    "# I used the extension .csv because is lighter and easy to work with some libraries like pandas, sqlalchemy\n",
    "df.to_csv(r\"G:/My Drive/ESTUDOS DATA SCIENCE/ie-employment-permit/data/2019/permits-issued-by-county-2019.csv\", index=False)\n",
    "\n",
    "print(df)"
   ]
  }
 ],
 "metadata": {
  "kernelspec": {
   "display_name": "Python 3",
   "language": "python",
   "name": "python3"
  },
  "language_info": {
   "codemirror_mode": {
    "name": "ipython",
    "version": 3
   },
   "file_extension": ".py",
   "mimetype": "text/x-python",
   "name": "python",
   "nbconvert_exporter": "python",
   "pygments_lexer": "ipython3",
   "version": "3.13.5"
  }
 },
 "nbformat": 4,
 "nbformat_minor": 5
}
