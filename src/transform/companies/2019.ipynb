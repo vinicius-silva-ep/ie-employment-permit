{
 "cells": [
  {
   "cell_type": "markdown",
   "id": "ec7ec008",
   "metadata": {},
   "source": [
    "2019 - Employment Permit by Companies"
   ]
  },
  {
   "cell_type": "code",
   "execution_count": 28,
   "id": "4fe0366e",
   "metadata": {},
   "outputs": [],
   "source": [
    "year = 2019\n",
    "\n",
    "# Reading the raw data in the folder on my personal computer\n",
    "import pandas as pd\n",
    "\n",
    "df = pd.read_excel(f\"E:/My Drive/ESTUDOS DATA SCIENCE/ie-employment-permit/data/raw_data/{year}/companies-issued-with-permits-{year}.xlsx\",\n",
    "                   header=1,\n",
    "                   skiprows=[2]\n",
    ")"
   ]
  },
  {
   "cell_type": "code",
   "execution_count": 29,
   "id": "80794b70",
   "metadata": {},
   "outputs": [],
   "source": [
    "# Removing the first empty column\n",
    "df.drop(columns=[\"Unnamed: 0\"], inplace=True)\n",
    "\n",
    "# Filling the month column\n",
    "df['Month'] = df['Month'].astype(str).str.strip().replace('nan', pd.NA) # Removing all blank rows before\n",
    "df['Month'] = df['Month'].ffill()\n",
    "\n",
    "# Removing rows where \"Company Name\" is empty\n",
    "df = df[df['Employer Name'].notna() & (df['Employer Name'].str.strip() != '')]\n",
    "\n",
    "# Removing rows where contais \"Total for\" value\n",
    "df = df[~df['Employer Name'].str.contains('Total for', na=False)]\n",
    "\n",
    "# Grouping by \"Company name\" because the next datasets don't have county information and using just the total information\n",
    "df['Employer Name'] = df['Employer Name'].str.strip().str.replace(r'\\s+', ' ', regex=True).str.title() # Normalizing data before grouping\n",
    "\n",
    "# Grouping by employer name and month\n",
    "df = df.groupby(['Employer Name', 'Month'], as_index=False)['Total'].sum()\n",
    "\n",
    "# Adding the year\n",
    "df['Year'] = year\n",
    "\n",
    "# Renaming columns\n",
    "df = df.rename(columns={'Employer Name': 'Company'})\n",
    "df = df[['Year', 'Month', 'Company', 'Total']]\n",
    "\n",
    "# Sorting months\n",
    "month_order = ['Jan', 'Feb', 'Mar', 'Apr', 'May', 'Jun',\n",
    "               'Jul', 'Aug', 'Sep', 'Oct', 'Nov', 'Dec']\n",
    "df['Month'] = pd.Categorical(df['Month'], categories=month_order, ordered=True)\n",
    "df = df.sort_values(by=['Year', 'Month', 'Company'])"
   ]
  },
  {
   "cell_type": "code",
   "execution_count": null,
   "id": "78f69de7",
   "metadata": {},
   "outputs": [
    {
     "name": "stdout",
     "output_type": "stream",
     "text": [
      "      Year Month                                       Company  Total\n",
      "3     2019   Jan                            3D4Medical Limited      1\n",
      "18    2019   Jan                  Abacus Systems Networks Ltd.      1\n",
      "20    2019   Jan                 Abbeybreaffy Nursing Home Ltd      1\n",
      "25    2019   Jan  Abbeylands Nursing Home Alzheimer'S Unit Ltd      1\n",
      "28    2019   Jan                                Abbott Ireland      1\n",
      "...    ...   ...                                           ...    ...\n",
      "5953  2019   Dec                       Zalando Ireland Limited      1\n",
      "5959  2019   Dec                                Zefone Limited      1\n",
      "5971  2019   Dec                   Zenith Technologies Limited      4\n",
      "5985  2019   Dec                                    Zhuohui Wu      1\n",
      "5998  2019   Dec                          Zurich Insurance Plc      1\n",
      "\n",
      "[6002 rows x 4 columns]\n"
     ]
    }
   ],
   "source": [
    "# I used the extension .csv because is lighter and easy to work with some libraries like pandas, sqlalchemy\n",
    "df.to_csv(f\"E:/My Drive/ESTUDOS DATA SCIENCE/ie-employment-permit/data/{year}/permits-by-companies-{year}.csv\", index=False)\n",
    "\n",
    "# I noticed that they didn't have August's values\n",
    "\n",
    "print(df)"
   ]
  }
 ],
 "metadata": {
  "kernelspec": {
   "display_name": "Python 3",
   "language": "python",
   "name": "python3"
  },
  "language_info": {
   "codemirror_mode": {
    "name": "ipython",
    "version": 3
   },
   "file_extension": ".py",
   "mimetype": "text/x-python",
   "name": "python",
   "nbconvert_exporter": "python",
   "pygments_lexer": "ipython3",
   "version": "3.13.3"
  }
 },
 "nbformat": 4,
 "nbformat_minor": 5
}
