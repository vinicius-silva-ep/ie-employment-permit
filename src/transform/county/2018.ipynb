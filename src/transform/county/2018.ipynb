{
 "cells": [
  {
   "cell_type": "markdown",
   "id": "ec7ec008",
   "metadata": {},
   "source": [
    "2018 - Employment Permit by County"
   ]
  },
  {
   "cell_type": "code",
   "execution_count": 1,
   "id": "4fe0366e",
   "metadata": {},
   "outputs": [],
   "source": [
    "# Reading the raw data in the folder on my personal computer\n",
    "import pandas as pd\n",
    "\n",
    "df = pd.read_excel(r\"G:/My Drive/ESTUDOS DATA SCIENCE/ie-employment-permit/data/raw_data/2018/permits-by-county-2018.xlsx\", # This case is using .xlsx and has a different file name, 2010 and 2009 were using the extension .xls\n",
    "                   skiprows=[1] # I needed to skip these rows because I had the summarization of the values by year (which was uninteresting) and one more row without any sense\n",
    ")"
   ]
  },
  {
   "cell_type": "code",
   "execution_count": 2,
   "id": "9b614365",
   "metadata": {},
   "outputs": [],
   "source": [
    "# Replacing the NaN values by the year\n",
    "df[\"Year\"] = df[\"Year\"].fillna(\"2018\")"
   ]
  },
  {
   "cell_type": "code",
   "execution_count": 3,
   "id": "42ed0fe5",
   "metadata": {},
   "outputs": [],
   "source": [
    "# Before 2020 the column structures of the files were different. So, I needed to rename the column \"Total\" by \"Issued\" because after 2020 the new file didn't have the columns \"New\" and \"Renewals\", only \"Issued\". In this case, to keep the standard of the project, I needed to mantain only \"Issued\".\n",
    "df.rename(columns={\"Total\": \"Issued\", \"County/Country\": \"County\"}, inplace=True)\n",
    "df.drop(columns=[\"New\", \"Renewal\"], inplace=True)\n",
    "\n",
    "# I created the column \"Obs\" to make sure that all counties belong to Ireland or any issues that I could find by crossing some databases"
   ]
  },
  {
   "cell_type": "code",
   "execution_count": 4,
   "id": "32cb11d4",
   "metadata": {},
   "outputs": [],
   "source": [
    "# As this part of project is focused only in the counties, I had to group all missed places by \"Others\"\n",
    "\n",
    "# I had to made a copy of the df with the filtered rows by not being \"NaN\" (because some cases are about countries or counties from North Ireland)\n",
    "df_others = df[df[\"Obs\"].notna()].copy()\n",
    "# Replacing all values by just \"Others\" to facilitate the analysis\n",
    "df_others[\"County\"] = \"Others\"\n",
    "# Summarizing the columns\n",
    "df_others_grouped = df_others.groupby([\"Year\", \"County\"], as_index=False)[[\"Issued\", \"Refused\", \"Withdrawn\"]].sum()\n",
    "# Creating a dataframe with only the \"Others\" row\n",
    "df_main = df[df[\"Obs\"].isna()].copy()\n",
    "# Concatenating both dataframes, original and the modified copy\n",
    "df = pd.concat([df_main, df_others_grouped], ignore_index=True)\n",
    "# As I don't need to use the \"Obs\" column, I removed for the final file\n",
    "df.drop(columns=[\"Obs\"], inplace=True)"
   ]
  },
  {
   "cell_type": "code",
   "execution_count": 5,
   "id": "dde1dc9f",
   "metadata": {},
   "outputs": [],
   "source": [
    "# Creating the Primary Key\n",
    "# Ensure Year and County are strings and remove spaces from County\n",
    "df[\"Year\"] = df[\"Year\"].astype(str)\n",
    "df[\"County\"] = df[\"County\"].astype(str).str.strip()\n",
    "df[\"id_county\"] = df[\"Year\"] + df[\"County\"].str.replace(r\"\\s+\", \"_\", regex=True)\n",
    "\n",
    "# Reordering columns\n",
    "cols = [\"id_county\", \"Year\", \"County\", \"Issued\", \"Refused\", \"Withdrawn\"]\n",
    "df = df[[c for c in cols if c in df.columns]]"
   ]
  },
  {
   "cell_type": "code",
   "execution_count": 6,
   "id": "852b1720",
   "metadata": {},
   "outputs": [
    {
     "name": "stdout",
     "output_type": "stream",
     "text": [
      "        id_county  Year     County  Issued  Refused  Withdrawn\n",
      "0      2018Carlow  2018     Carlow      18        2          4\n",
      "1       2018Cavan  2018      Cavan     182        8         10\n",
      "2       2018Clare  2018      Clare      90       18          6\n",
      "3        2018Cork  2018       Cork    1145      123         57\n",
      "4     2018Donegal  2018    Donegal     186       21         18\n",
      "5      2018Dublin  2018     Dublin    7341      600        281\n",
      "6      2018Galway  2018     Galway     567       58         21\n",
      "7       2018Kerry  2018      Kerry     222       11          9\n",
      "8     2018Kildare  2018    Kildare     375       68         14\n",
      "9    2018Kilkenny  2018   Kilkenny     192       10         10\n",
      "10      2018Laois  2018      Laois      71        6          3\n",
      "11    2018Leitrim  2018    Leitrim      22        2          2\n",
      "12   2018Limerick  2018   Limerick     546       56         15\n",
      "13   2018Longford  2018   Longford      49       14          1\n",
      "14      2018Louth  2018      Louth     419       31         12\n",
      "15       2018Mayo  2018       Mayo     170       16          8\n",
      "16      2018Meath  2018      Meath     170       25          5\n",
      "17   2018Monaghan  2018   Monaghan     103        4          9\n",
      "18     2018Offaly  2018     Offaly     128       14          6\n",
      "19  2018Roscommon  2018  Roscommon      95       15          2\n",
      "20      2018Sligo  2018      Sligo     125       12          2\n",
      "21  2018Tipperary  2018  Tipperary     199       15         12\n",
      "22  2018Waterford  2018  Waterford     524       20          6\n",
      "23  2018Westmeath  2018  Westmeath     171       19         10\n",
      "24    2018Wexford  2018    Wexford     217       37          5\n",
      "25    2018Wicklow  2018    Wicklow      68       32          9\n",
      "26     2018Others  2018     Others       3       10          5\n"
     ]
    }
   ],
   "source": [
    "# I used the extension .csv because is lighter and easy to work with some libraries like pandas, sqlalchemy\n",
    "df.to_csv(r\"G:/My Drive/ESTUDOS DATA SCIENCE/ie-employment-permit/data/2018/permits-issued-by-county-2018.csv\", index=False)\n",
    "\n",
    "print(df)"
   ]
  }
 ],
 "metadata": {
  "kernelspec": {
   "display_name": "Python 3",
   "language": "python",
   "name": "python3"
  },
  "language_info": {
   "codemirror_mode": {
    "name": "ipython",
    "version": 3
   },
   "file_extension": ".py",
   "mimetype": "text/x-python",
   "name": "python",
   "nbconvert_exporter": "python",
   "pygments_lexer": "ipython3",
   "version": "3.13.5"
  }
 },
 "nbformat": 4,
 "nbformat_minor": 5
}
