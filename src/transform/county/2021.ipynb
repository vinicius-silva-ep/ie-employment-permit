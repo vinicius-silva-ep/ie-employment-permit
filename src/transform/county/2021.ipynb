{
 "cells": [
  {
   "cell_type": "markdown",
   "id": "ec7ec008",
   "metadata": {},
   "source": [
    "2021 - Employment Permit by County"
   ]
  },
  {
   "cell_type": "code",
   "execution_count": 18,
   "id": "4fe0366e",
   "metadata": {},
   "outputs": [],
   "source": [
    "# Reading the raw data in the folder on my personal computer\n",
    "import pandas as pd\n",
    "\n",
    "df = pd.read_excel(r\"E:/My Drive/ESTUDOS DATA SCIENCE/ie-employment-permit/data/raw_data/2021/permits-by-county-2021.xlsx\", # This case is using .xlsx and has a different file name, 2010 and 2009 were using the extension .xls\n",
    "                   header=1,\n",
    "                   skiprows=[2] # I needed to skip these rows because I had the summarization of the values by year (which was uninteresting)\n",
    ")"
   ]
  },
  {
   "cell_type": "code",
   "execution_count": 19,
   "id": "b823b90b",
   "metadata": {},
   "outputs": [],
   "source": [
    "# As the structure of the columns were modified after 2020, I had to rename automatically the first one by \"County\"\n",
    "df.rename(columns={\"Unnamed: 0\": \"County\"}, inplace=True)"
   ]
  },
  {
   "cell_type": "code",
   "execution_count": 20,
   "id": "282a404e",
   "metadata": {},
   "outputs": [],
   "source": [
    "# Creating a new column because of the new structure where the year is on top of the table\n",
    "df[\"Year\"] = 2021\n",
    "\n",
    "# Sorting the year column to be the first one \n",
    "df = df[[\"Year\"] + [col for col in df.columns if col != \"Year\"]]"
   ]
  },
  {
   "cell_type": "code",
   "execution_count": 21,
   "id": "b51331a4",
   "metadata": {},
   "outputs": [],
   "source": [
    "# As this part of project is focused only in the counties, I had to group all missed places by \"Others\"\n",
    "\n",
    "# I had to made a copy of the df with the filtered rows by not being \"NaN\" (because some cases are about countries or counties from North Ireland)\n",
    "df_others = df[df[\"Obs\"].notna()].copy()\n",
    "# Replacing all values by just \"Others\" to facilitate the analysis\n",
    "df_others[\"County\"] = \"Others\"\n",
    "# Summarizing the columns\n",
    "df_others_grouped = df_others.groupby([\"Year\", \"County\"], as_index=False)[[\"Issued\", \"Refused\", \"Withdrawn\"]].sum()\n",
    "# Creating a dataframe with only the \"Others\" row\n",
    "df_main = df[df[\"Obs\"].isna()].copy()\n",
    "# Concatenating both dataframes, original and the modified copy\n",
    "df = pd.concat([df_main, df_others_grouped], ignore_index=True)\n",
    "# As I don't need to use the \"Obs\" column, I removed for the final file\n",
    "df.drop(columns=[\"Obs\"], inplace=True)"
   ]
  },
  {
   "cell_type": "code",
   "execution_count": 22,
   "id": "903a51e4",
   "metadata": {},
   "outputs": [
    {
     "name": "stdout",
     "output_type": "stream",
     "text": [
      "    Year     County  Issued  Refused  Withdrawn\n",
      "0   2021     Carlow      92     12.0          6\n",
      "1   2021      Cavan     235     16.0         16\n",
      "2   2021      Clare     138     12.0          4\n",
      "3   2021       Cork    1232     80.0         50\n",
      "4   2021    Donegal     320     15.0         10\n",
      "5   2021     Dublin    8636    419.0        372\n",
      "6   2021     Galway     678     62.0         37\n",
      "7   2021      Kerry     232      5.0         12\n",
      "8   2021    Kildare     528     32.0         46\n",
      "9   2021   Kilkenny     217     13.0          8\n",
      "10  2021      Laois      78      4.0          3\n",
      "11  2021    Leitrim      71      NaN          2\n",
      "12  2021   Limerick     908     50.0         37\n",
      "13  2021   Longford      90     17.0          5\n",
      "14  2021      Louth     308     22.0         13\n",
      "15  2021       Mayo     210     13.0          6\n",
      "16  2021      Meath     301     49.0         23\n",
      "17  2021   Monaghan     126      7.0          2\n",
      "18  2021     Offaly     170      8.0          5\n",
      "19  2021  Roscommon      93      6.0          3\n",
      "20  2021      Sligo     140      4.0          2\n",
      "21  2021  Tipperary     276     30.0         16\n",
      "22  2021  Waterford     408     24.0          6\n",
      "23  2021  Westmeath     246     12.0         17\n",
      "24  2021    Wexford     315     22.0         16\n",
      "25  2021    Wicklow     168     20.0         15\n",
      "26  2021     Others      59      3.0          4\n"
     ]
    }
   ],
   "source": [
    "# I used the extension .csv because is lighter and easy to work with some libraries like pandas, sqlalchemy\n",
    "df.to_csv(r\"E:/My Drive/ESTUDOS DATA SCIENCE/ie-employment-permit/data/2021/permits-issued-by-county-2021.csv\", index=False)\n",
    "\n",
    "print(df)"
   ]
  }
 ],
 "metadata": {
  "kernelspec": {
   "display_name": "Python 3",
   "language": "python",
   "name": "python3"
  },
  "language_info": {
   "codemirror_mode": {
    "name": "ipython",
    "version": 3
   },
   "file_extension": ".py",
   "mimetype": "text/x-python",
   "name": "python",
   "nbconvert_exporter": "python",
   "pygments_lexer": "ipython3",
   "version": "3.13.3"
  }
 },
 "nbformat": 4,
 "nbformat_minor": 5
}
