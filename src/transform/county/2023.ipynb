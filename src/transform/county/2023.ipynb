{
 "cells": [
  {
   "cell_type": "markdown",
   "id": "ec7ec008",
   "metadata": {},
   "source": [
    "2023 - Employment Permit by County"
   ]
  },
  {
   "cell_type": "code",
   "execution_count": 1,
   "id": "4fe0366e",
   "metadata": {},
   "outputs": [],
   "source": [
    "# Reading the raw data in the folder on my personal computer\n",
    "import pandas as pd\n",
    "\n",
    "df = pd.read_excel(r\"G:/My Drive/ESTUDOS DATA SCIENCE/ie-employment-permit/data/raw_data/2023/permits-by-county-2023.xlsx\", # This case is using .xlsx and has a different file name, 2010 and 2009 were using the extension .xls\n",
    "                   header=1,\n",
    "                   skiprows=[2] # I needed to skip these rows because I had the summarization of the values by year (which was uninteresting)\n",
    ")"
   ]
  },
  {
   "cell_type": "code",
   "execution_count": 2,
   "id": "3b05a3ad",
   "metadata": {},
   "outputs": [],
   "source": [
    "# As the structure of the columns were modified after 2020, I had to rename automatically the first one by \"County\"\n",
    "df.rename(columns={\"Unnamed: 0\": \"County\"}, inplace=True)"
   ]
  },
  {
   "cell_type": "code",
   "execution_count": 3,
   "id": "94b48d13",
   "metadata": {},
   "outputs": [],
   "source": [
    "# Creating a new column because of the new structure where the year is on top of the table\n",
    "df[\"Year\"] = 2023\n",
    "\n",
    "# Sorting the year column to be the first one \n",
    "df = df[[\"Year\"] + [col for col in df.columns if col != \"Year\"]]"
   ]
  },
  {
   "cell_type": "code",
   "execution_count": 4,
   "id": "01549287",
   "metadata": {},
   "outputs": [],
   "source": [
    "# As this part of project is focused only in the counties, I had to group all missed places by \"Others\"\n",
    "\n",
    "# I had to made a copy of the df with the filtered rows by not being \"NaN\" (because some cases are about countries or counties from North Ireland)\n",
    "df_others = df[df[\"Obs\"].notna()].copy()\n",
    "# Replacing all values by just \"Others\" to facilitate the analysis\n",
    "df_others[\"County\"] = \"Others\"\n",
    "# Summarizing the columns\n",
    "df_others_grouped = df_others.groupby([\"Year\", \"County\"], as_index=False)[[\"Issued\", \"Refused\", \"Withdrawn\"]].sum()\n",
    "# Creating a dataframe with only the \"Others\" row\n",
    "df_main = df[df[\"Obs\"].isna()].copy()\n",
    "# Concatenating both dataframes, original and the modified copy\n",
    "df = pd.concat([df_main, df_others_grouped], ignore_index=True)\n",
    "# As I don't need to use the \"Obs\" column, I removed for the final file\n",
    "df.drop(columns=[\"Obs\"], inplace=True)"
   ]
  },
  {
   "cell_type": "code",
   "execution_count": 5,
   "id": "70db6f79",
   "metadata": {},
   "outputs": [],
   "source": [
    "# Creating the Primary Key\n",
    "# Ensure Year and County are strings and remove spaces from County\n",
    "df[\"Year\"] = df[\"Year\"].astype(str)\n",
    "df[\"County\"] = df[\"County\"].astype(str).str.strip()\n",
    "df[\"id_county\"] = df[\"Year\"] + df[\"County\"].str.replace(r\"\\s+\", \"_\", regex=True)\n",
    "\n",
    "# Reordering columns\n",
    "cols = [\"id_county\", \"Year\", \"County\", \"Issued\", \"Refused\", \"Withdrawn\"]\n",
    "df = df[[c for c in cols if c in df.columns]]"
   ]
  },
  {
   "cell_type": "code",
   "execution_count": 6,
   "id": "e1f2bef9",
   "metadata": {},
   "outputs": [
    {
     "name": "stdout",
     "output_type": "stream",
     "text": [
      "        id_county  Year     County   Issued  Refused  Withdrawn\n",
      "0      2023Carlow  2023     Carlow    161.0        7        3.0\n",
      "1       2023Cavan  2023      Cavan    312.0       18        5.0\n",
      "2       2023Clare  2023      Clare    496.0       30        6.0\n",
      "3        2023Cork  2023       Cork   2613.0      123       49.0\n",
      "4     2023Donegal  2023    Donegal    387.0       19       14.0\n",
      "5      2023Dublin  2023     Dublin  15401.0      752      265.0\n",
      "6      2023Galway  2023     Galway   1387.0       85       35.0\n",
      "7       2023Kerry  2023      Kerry    384.0       26       15.0\n",
      "8     2023Kildare  2023    Kildare   1734.0       53       29.0\n",
      "9    2023Kilkenny  2023   Kilkenny    491.0       24       10.0\n",
      "10      2023Laois  2023      Laois    213.0       14        2.0\n",
      "11    2023Leitrim  2023    Leitrim     54.0        5        2.0\n",
      "12   2023Limerick  2023   Limerick   1600.0       84       34.0\n",
      "13   2023Longford  2023   Longford    120.0       13        2.0\n",
      "14      2023Louth  2023      Louth    649.0       20        6.0\n",
      "15       2023Mayo  2023       Mayo    378.0       19       10.0\n",
      "16      2023Meath  2023      Meath   1137.0       53       18.0\n",
      "17   2023Monaghan  2023   Monaghan    240.0       34       40.0\n",
      "18     2023Offaly  2023     Offaly    328.0       10        7.0\n",
      "19  2023Roscommon  2023  Roscommon    138.0        8        2.0\n",
      "20      2023Sligo  2023      Sligo    220.0       20        4.0\n",
      "21  2023Tipperary  2023  Tipperary    531.0       33       17.0\n",
      "22  2023Waterford  2023  Waterford    660.0       16       10.0\n",
      "23  2023Westmeath  2023  Westmeath    391.0       21       10.0\n",
      "24    2023Wexford  2023    Wexford    606.0       31       25.0\n",
      "25    2023Wicklow  2023    Wicklow    275.0       47        5.0\n",
      "26     2023Others  2023     Others     75.0       10       16.0\n"
     ]
    }
   ],
   "source": [
    "# I used the extension .csv because is lighter and easy to work with some libraries like pandas, sqlalchemy\n",
    "df.to_csv(r\"G:/My Drive/ESTUDOS DATA SCIENCE/ie-employment-permit/data/2023/permits-issued-by-county-2023.csv\", index=False)\n",
    "\n",
    "print(df)"
   ]
  }
 ],
 "metadata": {
  "kernelspec": {
   "display_name": "Python 3",
   "language": "python",
   "name": "python3"
  },
  "language_info": {
   "codemirror_mode": {
    "name": "ipython",
    "version": 3
   },
   "file_extension": ".py",
   "mimetype": "text/x-python",
   "name": "python",
   "nbconvert_exporter": "python",
   "pygments_lexer": "ipython3",
   "version": "3.13.5"
  }
 },
 "nbformat": 4,
 "nbformat_minor": 5
}
