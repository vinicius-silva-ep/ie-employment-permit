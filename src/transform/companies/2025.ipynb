{
 "cells": [
  {
   "cell_type": "markdown",
   "id": "ec7ec008",
   "metadata": {},
   "source": [
    "2025 - Employment Permit by Companies"
   ]
  },
  {
   "cell_type": "code",
   "execution_count": 8,
   "id": "4fe0366e",
   "metadata": {},
   "outputs": [
    {
     "name": "stdout",
     "output_type": "stream",
     "text": [
      "                                             Unnamed: 0  Jan  Feb  Mar  Apr  \\\n",
      "0                                 IQVIA RDS IRELAND LTD  NaN  NaN  NaN  NaN   \n",
      "1     '-\\tMoran Industrial and Agricultural Solution...  NaN  NaN  NaN  NaN   \n",
      "2                         19th Hole Hospitality Limited  NaN  1.0  NaN  NaN   \n",
      "3                       24 Doc (Doctor On Call) Limited  NaN  NaN  NaN  NaN   \n",
      "4                            24hr Care Services Limited  3.0  1.0  1.0  NaN   \n",
      "...                                                 ...  ...  ...  ...  ...   \n",
      "7459                               ZSTS Express Limited  NaN  NaN  NaN  NaN   \n",
      "7460                      Zucchini's Restaurant Limited  1.0  NaN  NaN  NaN   \n",
      "7461                       Zurich Insurance Company Ltd  1.0  NaN  1.0  NaN   \n",
      "7462                        Z-We-Ton (Alandale) Limited  NaN  NaN  NaN  NaN   \n",
      "7463                          Z-We-Ton (Raheen) Limited  NaN  NaN  NaN  NaN   \n",
      "\n",
      "      May  Jun  Jul  Aug  Grand Total  \n",
      "0     NaN  NaN  1.0  NaN          1.0  \n",
      "1     NaN  NaN  NaN  NaN          NaN  \n",
      "2     NaN  NaN  NaN  NaN          1.0  \n",
      "3     NaN  1.0  NaN  NaN          1.0  \n",
      "4     2.0  1.0  5.0  3.0         16.0  \n",
      "...   ...  ...  ...  ...          ...  \n",
      "7459  NaN  1.0  NaN  NaN          1.0  \n",
      "7460  NaN  NaN  NaN  NaN          1.0  \n",
      "7461  NaN  NaN  NaN  NaN          2.0  \n",
      "7462  1.0  NaN  NaN  NaN          1.0  \n",
      "7463  NaN  NaN  NaN  NaN          NaN  \n",
      "\n",
      "[7464 rows x 10 columns]\n"
     ]
    }
   ],
   "source": [
    "year = 2025\n",
    "\n",
    "# Reading the raw data in the folder on my personal computer\n",
    "import pandas as pd\n",
    "\n",
    "df = pd.read_excel(f\"G:/My Drive/ESTUDOS DATA SCIENCE/ie-employment-permit/data/raw_data/{year}/permits-issued-to-companies-{year}.xlsx\",\n",
    "                header=0,\n",
    "                skiprows=[1]\n",
    ")\n",
    "print(df)"
   ]
  },
  {
   "cell_type": "code",
   "execution_count": 9,
   "id": "80794b70",
   "metadata": {},
   "outputs": [],
   "source": [
    "# Renaming the first column\n",
    "df = df.rename(columns={df.columns[0]: \"Company\"})\n",
    "\n",
    "# Melting the dataframe to have a tidy format\n",
    "month_order = [\"Jan\", \"Feb\", \"Mar\", \"Apr\", \"May\", \"Jun\",\n",
    "               \"Jul\", \"Aug\", \"Sep\", \"Oct\", \"Nov\", \"Dec\"]\n",
    "for m in month_order:\n",
    "    if m not in df.columns:\n",
    "        df[m] = 0\n",
    "\n",
    "# Melting the values into months\n",
    "df = df.melt(\n",
    "    id_vars=[\"Company\"], \n",
    "    value_vars=month_order,\n",
    "    var_name=\"Month\",\n",
    "    value_name=\"Total\"\n",
    ")        \n",
    "\n",
    "# Converting Total to numeric, forcing errors to NaN and then filling NaN with 0\n",
    "df['Total'] = pd.to_numeric(df['Total'], errors='coerce').fillna(0)\n",
    "\n",
    "# Removing rows where Total is 0\n",
    "df = df[df['Total'] > 0]\n",
    "\n",
    "# Adding the Year column\n",
    "df['Year'] = year\n",
    "\n",
    "# Normalizing the Company names (removing leading/trailing spaces, multiple spaces, and standardizing case)\n",
    "df['Company'] = df['Company'].str.strip().str.replace(r'\\s+', ' ', regex=True).str.title()\n",
    "\n",
    "# Sorting the dataframe by Year, Month (in calendar order), and Company\n",
    "df = df[['Year', 'Month', 'Company', 'Total']]\n",
    "df[\"Month\"] = pd.Categorical(df[\"Month\"], categories=month_order, ordered=True)\n",
    "df = df.sort_values(by=[\"Month\", \"Company\"])"
   ]
  },
  {
   "cell_type": "code",
   "execution_count": null,
   "id": "78f69de7",
   "metadata": {},
   "outputs": [
    {
     "name": "stdout",
     "output_type": "stream",
     "text": [
      "       Year Month                           Company  Total\n",
      "4      2025   Jan        24Hr Care Services Limited    3.0\n",
      "6      2025   Jan           2K Games Dublin Limited    1.0\n",
      "8      2025   Jan               4D Varghese Limited    1.0\n",
      "17     2025   Jan  A To Z Innovative Solutions Ltd.    1.0\n",
      "21     2025   Jan      A&M Interior Glazing Limited    4.0\n",
      "...     ...   ...                               ...    ...\n",
      "59698  2025   Aug              Zifo Ireland Limited    1.0\n",
      "59699  2025   Aug           Zill Consulting Limited    1.0\n",
      "59704  2025   Aug               Zoetis Belgium S.A.    1.0\n",
      "59706  2025   Aug              Zs Retailers Limited    1.0\n",
      "52717  2025   Aug         Áth Trasna Medical Centre    1.0\n",
      "\n",
      "[10096 rows x 4 columns]\n"
     ]
    }
   ],
   "source": [
    "# I used the extension .csv because is lighter and easy to work with some libraries like pandas, sqlalchemy\n",
    "df.to_csv(f\"G:/My Drive/ESTUDOS DATA SCIENCE/ie-employment-permit/data/{year}/permits-by-companies-{year}.csv\", index=False)\n",
    "print(df)"
   ]
  }
 ],
 "metadata": {
  "kernelspec": {
   "display_name": "Python 3",
   "language": "python",
   "name": "python3"
  },
  "language_info": {
   "codemirror_mode": {
    "name": "ipython",
    "version": 3
   },
   "file_extension": ".py",
   "mimetype": "text/x-python",
   "name": "python",
   "nbconvert_exporter": "python",
   "pygments_lexer": "ipython3",
   "version": "3.13.5"
  }
 },
 "nbformat": 4,
 "nbformat_minor": 5
}
