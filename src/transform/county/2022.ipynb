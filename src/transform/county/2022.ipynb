{
 "cells": [
  {
   "cell_type": "markdown",
   "id": "ec7ec008",
   "metadata": {},
   "source": [
    "2022 - Employment Permit by County"
   ]
  },
  {
   "cell_type": "code",
   "execution_count": 31,
   "id": "4fe0366e",
   "metadata": {},
   "outputs": [],
   "source": [
    "# Reading the raw data in the folder on my personal computer\n",
    "import pandas as pd\n",
    "\n",
    "df = pd.read_excel(r\"E:/My Drive/ESTUDOS DATA SCIENCE/ie-employment-permit/data/raw_data/2022/permits-by-county-2022.xlsx\", # This case is using .xlsx and has a different file name, 2010 and 2009 were using the extension .xls\n",
    "                   header=1,\n",
    "                   skiprows=[2] # I needed to skip these rows because I had the summarization of the values by year (which was uninteresting)\n",
    ")"
   ]
  },
  {
   "cell_type": "code",
   "execution_count": 32,
   "id": "bb980406",
   "metadata": {},
   "outputs": [],
   "source": [
    "# As the structure of the columns were modified after 2020, I had to rename automatically the first one by \"County\"\n",
    "df.rename(columns={\"Unnamed: 0\": \"County\"}, inplace=True)"
   ]
  },
  {
   "cell_type": "code",
   "execution_count": 33,
   "id": "f6c704d6",
   "metadata": {},
   "outputs": [],
   "source": [
    "# Creating a new column because of the new structure where the year is on top of the table\n",
    "df[\"Year\"] = 2022\n",
    "\n",
    "# Sorting the year column to be the first one \n",
    "df = df[[\"Year\"] + [col for col in df.columns if col != \"Year\"]]"
   ]
  },
  {
   "cell_type": "code",
   "execution_count": 34,
   "id": "0488bffa",
   "metadata": {},
   "outputs": [],
   "source": [
    "# As this part of project is focused only in the counties, I had to group all missed places by \"Others\"\n",
    "\n",
    "# I had to made a copy of the df with the filtered rows by not being \"NaN\" (because some cases are about countries or counties from North Ireland)\n",
    "df_others = df[df[\"Obs\"].notna()].copy()\n",
    "# Replacing all values by just \"Others\" to facilitate the analysis\n",
    "df_others[\"County\"] = \"Others\"\n",
    "# Summarizing the columns\n",
    "df_others_grouped = df_others.groupby([\"Year\", \"County\"], as_index=False)[[\"Issued\", \"Refused\", \"Withdrawn\"]].sum()\n",
    "# Creating a dataframe with only the \"Others\" row\n",
    "df_main = df[df[\"Obs\"].isna()].copy()\n",
    "# Concatenating both dataframes, original and the modified copy\n",
    "df = pd.concat([df_main, df_others_grouped], ignore_index=True)\n",
    "# As I don't need to use the \"Obs\" column, I removed for the final file\n",
    "df.drop(columns=[\"Obs\"], inplace=True)"
   ]
  },
  {
   "cell_type": "code",
   "execution_count": 35,
   "id": "b55f57e2",
   "metadata": {},
   "outputs": [
    {
     "name": "stdout",
     "output_type": "stream",
     "text": [
      "    Year     County   Issued  Refused  Withdrawn\n",
      "0   2022     Carlow    242.0       61        4.0\n",
      "1   2022      Cavan    667.0       43       22.0\n",
      "2   2022      Clare    332.0       62       11.0\n",
      "3   2022       Cork   3047.0      301      125.0\n",
      "4   2022    Donegal    430.0       57       20.0\n",
      "5   2022     Dublin  21097.0     1574      585.0\n",
      "6   2022     Galway   1440.0      128       63.0\n",
      "7   2022      Kerry    423.0       44       27.0\n",
      "8   2022    Kildare   2234.0      219      191.0\n",
      "9   2022   Kilkenny    398.0       44       16.0\n",
      "10  2022      Laois    177.0       31        8.0\n",
      "11  2022    Leitrim     64.0        8        1.0\n",
      "12  2022   Limerick   1525.0      190      105.0\n",
      "13  2022   Longford    146.0        9        1.0\n",
      "14  2022      Louth    642.0       57       84.0\n",
      "15  2022       Mayo    569.0       51       20.0\n",
      "16  2022      Meath   1064.0      187       53.0\n",
      "17  2022   Monaghan    684.0       12       44.0\n",
      "18  2022     Offaly    575.0       22       15.0\n",
      "19  2022  Roscommon    236.0       24        8.0\n",
      "20  2022      Sligo    281.0       13        5.0\n",
      "21  2022  Tipperary    542.0       80       77.0\n",
      "22  2022  Waterford   1303.0       45       69.0\n",
      "23  2022  Westmeath    571.0       49       28.0\n",
      "24  2022    Wexford    859.0       79      108.0\n",
      "25  2022    Wicklow    348.0       72       12.0\n",
      "26  2022     Others     59.0       14        3.0\n"
     ]
    }
   ],
   "source": [
    "# I used the extension .csv because is lighter and easy to work with some libraries like pandas, sqlalchemy\n",
    "df.to_csv(r\"E:/My Drive/ESTUDOS DATA SCIENCE/ie-employment-permit/data/2022/permits-issued-by-county-2022.csv\", index=False)\n",
    "\n",
    "print(df)"
   ]
  }
 ],
 "metadata": {
  "kernelspec": {
   "display_name": "Python 3",
   "language": "python",
   "name": "python3"
  },
  "language_info": {
   "codemirror_mode": {
    "name": "ipython",
    "version": 3
   },
   "file_extension": ".py",
   "mimetype": "text/x-python",
   "name": "python",
   "nbconvert_exporter": "python",
   "pygments_lexer": "ipython3",
   "version": "3.13.3"
  }
 },
 "nbformat": 4,
 "nbformat_minor": 5
}
