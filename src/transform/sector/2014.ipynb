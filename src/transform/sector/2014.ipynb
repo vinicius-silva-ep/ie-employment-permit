{
 "cells": [
  {
   "cell_type": "markdown",
   "id": "ec7ec008",
   "metadata": {},
   "source": [
    "2014 - Employment Permit by Sector"
   ]
  },
  {
   "cell_type": "code",
   "execution_count": 1,
   "id": "4fe0366e",
   "metadata": {},
   "outputs": [],
   "source": [
    "year = 2014\n",
    "\n",
    "# Reading the raw data in the folder on my personal computer\n",
    "import pandas as pd\n",
    "\n",
    "df = pd.read_excel(f\"E:/My Drive/ESTUDOS DATA SCIENCE/ie-employment-permit/data/raw_data/{year}/permits-issued-by-sector-{year}.xlsx\",\n",
    "                   skiprows=[1] # I needed to skip this row because I had the summarization of the values by year, which was uninteresting\n",
    ")"
   ]
  },
  {
   "cell_type": "code",
   "execution_count": 2,
   "id": "80794b70",
   "metadata": {},
   "outputs": [
    {
     "name": "stderr",
     "output_type": "stream",
     "text": [
      "C:\\Users\\vinic\\AppData\\Local\\Temp\\ipykernel_16192\\2892345963.py:3: FutureWarning: Series.fillna with 'method' is deprecated and will raise in a future version. Use obj.ffill() or obj.bfill() instead.\n",
      "  df['Month'] = df['Month'].fillna(method='ffill')\n"
     ]
    }
   ],
   "source": [
    "# Replacing the NaN values by the year and month\n",
    "df[\"Year\"] = df[\"Year\"].fillna(f\"{year}\")\n",
    "df['Month'] = df['Month'].fillna(method='ffill')\n",
    "\n",
    "# Renaming the sector column and removing subtotal rows\n",
    "df = df.rename(columns={'Unnamed: 2': 'Sector'})\n",
    "df = df[~((df['Sector'].isna()) & (df['Month'].notna()))]"
   ]
  },
  {
   "cell_type": "code",
   "execution_count": 3,
   "id": "c6954161",
   "metadata": {},
   "outputs": [],
   "source": [
    "# Before 2020 the column structures of the files were different. So, I needed to rename the column \"Total\" by \"Issued\" because after 2020 the new file didn't have the columns \"New\" and \"Renewals\", only \"Issued\". In this case, to keep the standard of the project, I needed to mantain only \"Issued\".\n",
    "df.rename(columns={\"Total\": \"Issued\"}, inplace=True) # Issued is the amount of new and renewals\n",
    "df.drop(columns=[\"New\", \"Renewal\"], inplace=True)"
   ]
  },
  {
   "cell_type": "code",
   "execution_count": 4,
   "id": "78f69de7",
   "metadata": {},
   "outputs": [
    {
     "name": "stdout",
     "output_type": "stream",
     "text": [
      "     Year Month                   Sector  Issued  Refused  Withdrawn\n",
      "1    2014   Jan  Agriculture & Fisheries       3        3          0\n",
      "2    2014   Jan                 Catering      18        2          0\n",
      "3    2014   Jan                 Domestic       2        1          0\n",
      "4    2014   Jan                Education       6        1          0\n",
      "5    2014   Jan            Entertainment       7        0          0\n",
      "..    ...   ...                      ...     ...      ...        ...\n",
      "111  2014   Dec                Education       0        3          0\n",
      "112  2014   Dec                 Industry     143       18          0\n",
      "113  2014   Dec        Medical & Nursing     225       10          6\n",
      "114  2014   Dec         Service Industry     179       19          1\n",
      "115  2014   Dec                    Sport       3        0          0\n",
      "\n",
      "[104 rows x 6 columns]\n"
     ]
    }
   ],
   "source": [
    "# I used the extension .csv because is lighter and easy to work with some libraries like pandas, sqlalchemy\n",
    "df.to_csv(f\"E:/My Drive/ESTUDOS DATA SCIENCE/ie-employment-permit/data/{year}/permits-by-sector-{year}.csv\", index=False)\n",
    "\n",
    "print(df)"
   ]
  }
 ],
 "metadata": {
  "kernelspec": {
   "display_name": "Python 3",
   "language": "python",
   "name": "python3"
  },
  "language_info": {
   "codemirror_mode": {
    "name": "ipython",
    "version": 3
   },
   "file_extension": ".py",
   "mimetype": "text/x-python",
   "name": "python",
   "nbconvert_exporter": "python",
   "pygments_lexer": "ipython3",
   "version": "3.13.3"
  }
 },
 "nbformat": 4,
 "nbformat_minor": 5
}
