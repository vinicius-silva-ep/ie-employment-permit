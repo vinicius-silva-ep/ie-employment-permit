{
 "cells": [
  {
   "cell_type": "markdown",
   "id": "ec7ec008",
   "metadata": {},
   "source": [
    "2025 - Employment Permit by County"
   ]
  },
  {
   "cell_type": "code",
   "execution_count": 1,
   "id": "4fe0366e",
   "metadata": {},
   "outputs": [
    {
     "name": "stdout",
     "output_type": "stream",
     "text": [
      "           Unnamed: 0   Issued  Refused  Withdrawn\n",
      "0   No County Entered      NaN      NaN     4620.0\n",
      "1              Antrim      NaN      1.0        NaN\n",
      "2              Carlow    128.0     14.0       76.0\n",
      "3               Cavan    385.0     40.0      234.0\n",
      "4               Clare    379.0     54.0      260.0\n",
      "5                Cork   2130.0    224.0      898.0\n",
      "6             Donegal    377.0     52.0      178.0\n",
      "7                Down      1.0      NaN        NaN\n",
      "8              Dublin  10503.0    997.0     3715.0\n",
      "9              Galway    765.0     85.0      373.0\n",
      "10              Kerry    396.0     38.0      198.0\n",
      "11            Kildare    914.0    139.0      445.0\n",
      "12           Kilkenny    405.0     33.0      147.0\n",
      "13              Laois    170.0     50.0       90.0\n",
      "14            Leitrim     68.0      6.0       26.0\n",
      "15           Limerick   1164.0    123.0      525.0\n",
      "16           Longford    101.0     17.0       26.0\n",
      "17              Louth    348.0     35.0      122.0\n",
      "18               Mayo    271.0     33.0      140.0\n",
      "19              Meath    907.0    146.0      405.0\n",
      "20           Monaghan    351.0     29.0       99.0\n",
      "21             Offaly    268.0     23.0       83.0\n",
      "22          Roscommon    141.0     19.0       90.0\n",
      "23              Sligo    158.0     38.0       73.0\n",
      "24          Tipperary    491.0     43.0      223.0\n",
      "25          Waterford    566.0     55.0      200.0\n",
      "26          Westmeath    315.0     59.0      163.0\n",
      "27            Wexford    565.0     41.0      294.0\n",
      "28            Wicklow    275.0     27.0      171.0\n"
     ]
    }
   ],
   "source": [
    "from datetime import datetime\n",
    "\n",
    "current_year = datetime.now().year\n",
    "\n",
    "year = current_year\n",
    "\n",
    "# Reading the raw data in the folder on my personal computer\n",
    "import pandas as pd\n",
    "import os\n",
    "\n",
    "df = pd.read_excel(f\"G:/My Drive/ESTUDOS DATA SCIENCE/ie-employment-permit/data/raw_data/{year}/permits-by-county-{year}.xlsx\",\n",
    "                header=1,\n",
    "                skiprows=[2]\n",
    ")\n",
    "print(df)"
   ]
  },
  {
   "cell_type": "code",
   "execution_count": 2,
   "id": "4529ff8d",
   "metadata": {},
   "outputs": [],
   "source": [
    "# As the structure of the columns were modified after 2020, I had to rename automatically the first one by \"County\"\n",
    "df.rename(columns={\"Unnamed: 0\": \"County\"}, inplace=True)"
   ]
  },
  {
   "cell_type": "code",
   "execution_count": 3,
   "id": "6188dec5",
   "metadata": {},
   "outputs": [],
   "source": [
    "# Creating a new column because of the new structure where the year is on top of the table\n",
    "df[\"Year\"] = year\n",
    "\n",
    "# Sorting the year column to be the first one \n",
    "df = df[[\"Year\"] + [col for col in df.columns if col != \"Year\"]]"
   ]
  },
  {
   "cell_type": "code",
   "execution_count": 4,
   "id": "c2ee1e6f",
   "metadata": {},
   "outputs": [],
   "source": [
    "# Reading counties/provinces reference\n",
    "counties_df = pd.read_excel(\"G:/My Drive/ESTUDOS DATA SCIENCE/ie-employment-permit/data/counties_and_provincies.xlsx\")\n",
    "\n",
    "# Creating the Obs column\n",
    "def get_obs(county):\n",
    "    if county == \"No County Entered\":\n",
    "        return county\n",
    "    # If the County isnt on the file, its Northern Ireland\n",
    "    match = counties_df[counties_df[\"County\"] == county]\n",
    "    if match.empty:\n",
    "        return \"Northern Ireland\"\n",
    "    else:\n",
    "        return \"\" \n",
    "\n",
    "df[\"Obs\"] = df[\"County\"].apply(get_obs)"
   ]
  },
  {
   "cell_type": "code",
   "execution_count": 5,
   "id": "ce7b430b",
   "metadata": {},
   "outputs": [],
   "source": [
    "# As this part of project is focused only in the counties, I had to group all missed places by \"Others\"\n",
    "\n",
    "# df[\"Obs\"] == \"\" → Northern Ireland\n",
    "# df[\"Obs\"] != \"\" → Others (North Ireland ou No County Entered)\n",
    "\n",
    "\n",
    "# Filtering rows that needs to be \"Others\"\n",
    "df_others = df[df[\"Obs\"] != \"\"].copy()\n",
    "df_others[\"County\"] = \"Others\"\n",
    "df_others_grouped = df_others.groupby([\"Year\", \"County\"], as_index=False)[[\"Issued\", \"Refused\", \"Withdrawn\"]].sum(min_count=1)\n",
    "\n",
    "# Republic of Ireland's rows (Obs == \"\")\n",
    "df_main = df[df[\"Obs\"] == \"\"].copy()\n",
    "df = pd.concat([df_main, df_others_grouped], ignore_index=True)\n",
    "\n",
    "# Removing Obs column\n",
    "df.drop(columns=[\"Obs\"], inplace=True)\n"
   ]
  },
  {
   "cell_type": "code",
   "execution_count": 6,
   "id": "d832e3a8",
   "metadata": {},
   "outputs": [],
   "source": [
    "# Creating the Primary Key\n",
    "# Ensure Year and County are strings and remove spaces from County\n",
    "df[\"Year\"] = df[\"Year\"].astype(str)\n",
    "df[\"County\"] = df[\"County\"].astype(str).str.strip()\n",
    "df[\"id_county\"] = df[\"Year\"] + df[\"County\"].str.replace(r\"\\s+\", \"_\", regex=True)\n",
    "\n",
    "# Reordering columns\n",
    "cols = [\"id_county\", \"Year\", \"County\", \"Issued\", \"Refused\", \"Withdrawn\"]\n",
    "df = df[[c for c in cols if c in df.columns]]"
   ]
  },
  {
   "cell_type": "code",
   "execution_count": 7,
   "id": "fb0fe98c",
   "metadata": {},
   "outputs": [
    {
     "name": "stdout",
     "output_type": "stream",
     "text": [
      "        id_county  Year     County   Issued  Refused  Withdrawn\n",
      "0      2025Carlow  2025     Carlow    128.0     14.0       76.0\n",
      "1       2025Cavan  2025      Cavan    385.0     40.0      234.0\n",
      "2       2025Clare  2025      Clare    379.0     54.0      260.0\n",
      "3        2025Cork  2025       Cork   2130.0    224.0      898.0\n",
      "4     2025Donegal  2025    Donegal    377.0     52.0      178.0\n",
      "5      2025Dublin  2025     Dublin  10503.0    997.0     3715.0\n",
      "6      2025Galway  2025     Galway    765.0     85.0      373.0\n",
      "7       2025Kerry  2025      Kerry    396.0     38.0      198.0\n",
      "8     2025Kildare  2025    Kildare    914.0    139.0      445.0\n",
      "9    2025Kilkenny  2025   Kilkenny    405.0     33.0      147.0\n",
      "10      2025Laois  2025      Laois    170.0     50.0       90.0\n",
      "11    2025Leitrim  2025    Leitrim     68.0      6.0       26.0\n",
      "12   2025Limerick  2025   Limerick   1164.0    123.0      525.0\n",
      "13   2025Longford  2025   Longford    101.0     17.0       26.0\n",
      "14      2025Louth  2025      Louth    348.0     35.0      122.0\n",
      "15       2025Mayo  2025       Mayo    271.0     33.0      140.0\n",
      "16      2025Meath  2025      Meath    907.0    146.0      405.0\n",
      "17   2025Monaghan  2025   Monaghan    351.0     29.0       99.0\n",
      "18     2025Offaly  2025     Offaly    268.0     23.0       83.0\n",
      "19  2025Roscommon  2025  Roscommon    141.0     19.0       90.0\n",
      "20      2025Sligo  2025      Sligo    158.0     38.0       73.0\n",
      "21  2025Tipperary  2025  Tipperary    491.0     43.0      223.0\n",
      "22  2025Waterford  2025  Waterford    566.0     55.0      200.0\n",
      "23  2025Westmeath  2025  Westmeath    315.0     59.0      163.0\n",
      "24    2025Wexford  2025    Wexford    565.0     41.0      294.0\n",
      "25    2025Wicklow  2025    Wicklow    275.0     27.0      171.0\n",
      "26     2025Others  2025     Others      1.0      1.0     4620.0\n"
     ]
    }
   ],
   "source": [
    "# Creates the folder if it doesnt exist\n",
    "output_dir = f\"G:/My Drive/ESTUDOS DATA SCIENCE/ie-employment-permit/data/{year}\"\n",
    "os.makedirs(output_dir, exist_ok=True)\n",
    "\n",
    "# Save as csv\n",
    "csv_path = os.path.join(output_dir, f\"permits-issued-by-county-{year}.csv\")\n",
    "df.to_csv(csv_path, index=False)\n",
    "\n",
    "print(df)"
   ]
  }
 ],
 "metadata": {
  "kernelspec": {
   "display_name": "Python 3",
   "language": "python",
   "name": "python3"
  },
  "language_info": {
   "codemirror_mode": {
    "name": "ipython",
    "version": 3
   },
   "file_extension": ".py",
   "mimetype": "text/x-python",
   "name": "python",
   "nbconvert_exporter": "python",
   "pygments_lexer": "ipython3",
   "version": "3.13.5"
  }
 },
 "nbformat": 4,
 "nbformat_minor": 5
}
