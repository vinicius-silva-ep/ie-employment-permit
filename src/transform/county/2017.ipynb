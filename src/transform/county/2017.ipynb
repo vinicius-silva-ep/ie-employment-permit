{
 "cells": [
  {
   "cell_type": "markdown",
   "id": "ec7ec008",
   "metadata": {},
   "source": [
    "2017 - Employment Permit by County"
   ]
  },
  {
   "cell_type": "code",
   "execution_count": 1,
   "id": "4fe0366e",
   "metadata": {},
   "outputs": [],
   "source": [
    "# Reading the raw data in the folder on my personal computer\n",
    "import pandas as pd\n",
    "\n",
    "df = pd.read_excel(r\"E:/My Drive/ESTUDOS DATA SCIENCE/ie-employment-permit/data/raw_data/2017/permits-issued-by-county-2017.xlsx\", # This case is using .xlsx, 2010 and 2009 were using the extension .xls\n",
    "                   skiprows=[1, 2] # I needed to skip these rows because I had the summarization of the values by year (which was uninteresting) and one more row without any sense\n",
    ")"
   ]
  },
  {
   "cell_type": "code",
   "execution_count": 2,
   "id": "7df1bea3",
   "metadata": {},
   "outputs": [],
   "source": [
    "# Replacing the NaN values by the year\n",
    "df[\"Year\"] = df[\"Year\"].fillna(\"2017\")"
   ]
  },
  {
   "cell_type": "code",
   "execution_count": 3,
   "id": "c99dd67d",
   "metadata": {},
   "outputs": [],
   "source": [
    "# Before 2020 the column structures of the files were different. So, I needed to rename the column \"Total\" by \"Issued\" because after 2020 the new file didn't have the columns \"New\" and \"Renewals\", only \"Issued\". In this case, to keep the standard of the project, I needed to mantain only \"Issued\".\n",
    "df.rename(columns={\"Total\": \"Issued\", \"County/Country\": \"County\"}, inplace=True)\n",
    "df.drop(columns=[\"New\", \"Renewal\", \"Type of Permit\"], inplace=True) # This case I had \"Type of Permit\" an empty column\n",
    "\n",
    "# I created the column \"Obs\" to make sure that all counties belong to Ireland or any issues that I could find by crossing some databases"
   ]
  },
  {
   "cell_type": "code",
   "execution_count": 4,
   "id": "95a17b46",
   "metadata": {},
   "outputs": [],
   "source": [
    "# As this part of project is focused only in the counties, I had to group all missed places by \"Others\"\n",
    "\n",
    "# I had to made a copy of the df with the filtered rows by not being \"NaN\" (because some cases are about countries or counties from North Ireland)\n",
    "df_others = df[df[\"Obs\"].notna()].copy()\n",
    "# Replacing all values by just \"Others\" to facilitate the analysis\n",
    "df_others[\"County\"] = \"Others\"\n",
    "# Summarizing the columns\n",
    "df_others_grouped = df_others.groupby([\"Year\", \"County\"], as_index=False)[[\"Issued\", \"Refused\", \"Withdrawn\"]].sum()\n",
    "# Creating a dataframe with only the \"Others\" row\n",
    "df_main = df[df[\"Obs\"].isna()].copy()\n",
    "# Concatenating both dataframes, original and the modified copy\n",
    "df = pd.concat([df_main, df_others_grouped], ignore_index=True)\n",
    "# As I don't need to use the \"Obs\" column, I removed for the final file\n",
    "df.drop(columns=[\"Obs\"], inplace=True)"
   ]
  },
  {
   "cell_type": "code",
   "execution_count": 5,
   "id": "780a9ca5",
   "metadata": {},
   "outputs": [
    {
     "name": "stdout",
     "output_type": "stream",
     "text": [
      "    Year     County  Issued  Refused  Withdrawn\n",
      "0   2017     Carlow      25       13          0\n",
      "1   2017      Cavan     152       12          2\n",
      "2   2017      Clare      73       25          4\n",
      "3   2017       Cork     890      106         34\n",
      "4   2017    Donegal     181       17          5\n",
      "5   2017     Dublin    6755      791        153\n",
      "6   2017     Galway     430       59         17\n",
      "7   2017      Kerry     162       28          9\n",
      "8   2017    Kildare     303       41          9\n",
      "9   2017   Kilkenny     148       15          8\n",
      "10  2017      Laois      66       11          2\n",
      "11  2017    Leitrim       5        1          1\n",
      "12  2017   Limerick     375       44         10\n",
      "13  2017   Longford      41        9          1\n",
      "14  2017      Louth     269       43         11\n",
      "15  2017       Mayo     176       22          3\n",
      "16  2017      Meath     185       59         13\n",
      "17  2017   Monaghan      37        6          1\n",
      "18  2017     Offaly      80        7          7\n",
      "19  2017  Roscommon      54       10          4\n",
      "20  2017      Sligo     126        8          7\n",
      "21  2017  Tipperary     170       29          3\n",
      "22  2017  Waterford     211       32          3\n",
      "23  2017  Westmeath     175       14          2\n",
      "24  2017    Wexford     187       25          7\n",
      "25  2017    Wicklow      76       25          2\n",
      "26  2017     Others       9        6          1\n"
     ]
    }
   ],
   "source": [
    "# I used the extension .csv because is lighter and easy to work with some libraries like pandas, sqlalchemy\n",
    "df.to_csv(r\"E:/My Drive/ESTUDOS DATA SCIENCE/ie-employment-permit/data/2017/permits-issued-by-county-2017.csv\", index=False)\n",
    "\n",
    "print(df)"
   ]
  }
 ],
 "metadata": {
  "kernelspec": {
   "display_name": "Python 3",
   "language": "python",
   "name": "python3"
  },
  "language_info": {
   "codemirror_mode": {
    "name": "ipython",
    "version": 3
   },
   "file_extension": ".py",
   "mimetype": "text/x-python",
   "name": "python",
   "nbconvert_exporter": "python",
   "pygments_lexer": "ipython3",
   "version": "3.13.3"
  }
 },
 "nbformat": 4,
 "nbformat_minor": 5
}
