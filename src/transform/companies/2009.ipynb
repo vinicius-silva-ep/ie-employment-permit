{
 "cells": [
  {
   "cell_type": "markdown",
   "id": "ec7ec008",
   "metadata": {},
   "source": [
    "2009 - Employment Permit by Companies"
   ]
  },
  {
   "cell_type": "code",
   "execution_count": 7,
   "id": "4fe0366e",
   "metadata": {},
   "outputs": [],
   "source": [
    "year = 2009\n",
    "\n",
    "# Reading the raw data in the folder on my personal computer\n",
    "import pandas as pd\n",
    "\n",
    "df = pd.read_excel(f\"E:/My Drive/ESTUDOS DATA SCIENCE/ie-employment-permit/data/raw_data/{year}/companes-issued-with-permits-{year}.xls\",\n",
    "                   header=3\n",
    ")"
   ]
  },
  {
   "cell_type": "code",
   "execution_count": null,
   "id": "80794b70",
   "metadata": {},
   "outputs": [],
   "source": [
    "# Removing rows where \"Company Name\" is empty\n",
    "df = df[df['Company Name'].notna() & (df['Company Name'].str.strip() != '')]\n",
    "\n",
    "# Removing rows where contais \"Total for\" value\n",
    "df = df[~df['Company Name'].str.contains('Total for', na=False)]\n",
    "\n",
    "# Grouping by \"Company name\" because the next datasets don't have county information and using just the total information\n",
    "df['Company Name'] = df['Company Name'].str.strip().str.replace(r'\\s+', ' ', regex=True).str.title() # Normalizing data before grouping\n",
    "df = df.groupby('Company Name', as_index=False)['Total'].sum()\n",
    "\n",
    "# Inserting the year\n",
    "df[\"Year\"] = f\"{year}\"\n",
    "\n",
    "# Renaming the company column and removing useless columns\n",
    "df = df.rename(columns={'Company Name': 'Company'})\n",
    "# df = df.drop(columns=[\"County\", \"New \", \"Renewal\"], inplace=True, errors='ignore')\n",
    "\n",
    "# Sorting columns\n",
    "df = df[['Year', 'Company', 'Total']]"
   ]
  },
  {
   "cell_type": "code",
   "execution_count": 9,
   "id": "78f69de7",
   "metadata": {},
   "outputs": [
    {
     "name": "stdout",
     "output_type": "stream",
     "text": [
      "      Year                                          Company Total\n",
      "0     2009                                 20/20 Vision Ltd     1\n",
      "1     2009                  365 Hosting Ltd T/A Hosting 365     1\n",
      "2     2009                                       747 Travel     1\n",
      "3     2009                               A & S Clothing Ltd     1\n",
      "4     2009                               A B Mauri (UK) Ltd     1\n",
      "...    ...                                              ...   ...\n",
      "3396  2009      Zhengking Ltd T/A Pagoda Chinese Restaurant     1\n",
      "3397  2009                        Zied Bartache t/a Padrone     1\n",
      "3398  2009                                     Zoe Woodward     1\n",
      "3399  2009  Zula Investments Limited t/a Sinners Restaurant     1\n",
      "3400  2009                    Áras Sláinte Ltd T/A The Well     3\n",
      "\n",
      "[3401 rows x 3 columns]\n"
     ]
    }
   ],
   "source": [
    "# I used the extension .csv because is lighter and easy to work with some libraries like pandas, sqlalchemy\n",
    "df.to_csv(f\"E:/My Drive/ESTUDOS DATA SCIENCE/ie-employment-permit/data/{year}/permits-by-companies-{year}.csv\", index=False)\n",
    "\n",
    "print(df)"
   ]
  }
 ],
 "metadata": {
  "kernelspec": {
   "display_name": "Python 3",
   "language": "python",
   "name": "python3"
  },
  "language_info": {
   "codemirror_mode": {
    "name": "ipython",
    "version": 3
   },
   "file_extension": ".py",
   "mimetype": "text/x-python",
   "name": "python",
   "nbconvert_exporter": "python",
   "pygments_lexer": "ipython3",
   "version": "3.13.3"
  }
 },
 "nbformat": 4,
 "nbformat_minor": 5
}
