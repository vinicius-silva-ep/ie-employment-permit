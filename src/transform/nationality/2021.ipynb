{
 "cells": [
  {
   "cell_type": "markdown",
   "id": "ec7ec008",
   "metadata": {},
   "source": [
    "2020 - Employment Permit by Nationality"
   ]
  },
  {
   "cell_type": "code",
   "execution_count": 4,
   "id": "4fe0366e",
   "metadata": {},
   "outputs": [],
   "source": [
    "year = 2020\n",
    "\n",
    "# Reading the raw data in the folder on my personal computer\n",
    "import pandas as pd\n",
    "\n",
    "df = pd.read_excel(f\"E:/My Drive/ESTUDOS DATA SCIENCE/ie-employment-permit/data/raw_data/{year}/permits-by-nationality-{year}.xlsx\",\n",
    "                   header=1,\n",
    "                   skiprows=[2] # I needed to skip these rows because I had the summarization of the values by year, and for december which was uninteresting\n",
    ")"
   ]
  },
  {
   "cell_type": "code",
   "execution_count": 5,
   "id": "e9f140e1",
   "metadata": {},
   "outputs": [],
   "source": [
    "# I had to replace \"Nationality\" by just \"Country\" once that this analysis is about countries\n",
    "df.rename(columns={\"Nationality\": \"Country\"}, inplace=True)\n",
    "\n",
    "# Creating a new column because of the new structure\n",
    "df[\"Year\"] = f\"{year}\"\n",
    "\n",
    "# Sorting the year column to be the first one \n",
    "df = df[[\"Year\"] + [col for col in df.columns if col != \"Year\"]]"
   ]
  },
  {
   "cell_type": "code",
   "execution_count": 6,
   "id": "8fff38d3",
   "metadata": {},
   "outputs": [],
   "source": [
    "# I grouped by country because in some cases when I was fixing I replaced the old name to the new name, ie Hong Kong -> China making double China\n",
    "df_grouped = df.groupby([\"Year\", \"Country\"], dropna=False).agg({\n",
    "    \"Issued\": \"sum\",\n",
    "    \"Refused\": \"sum\",\n",
    "    \"Withdrawn\": \"sum\"\n",
    "}).reset_index()"
   ]
  },
  {
   "cell_type": "code",
   "execution_count": 7,
   "id": "16809a8e",
   "metadata": {},
   "outputs": [
    {
     "name": "stdout",
     "output_type": "stream",
     "text": [
      "     Year      Country  Issued  Refused  Withdrawn\n",
      "0    2020  Afghanistan    14.0      0.0        1.0\n",
      "1    2020      Albania    29.0      1.0        1.0\n",
      "2    2020      Algeria    13.0      0.0        1.0\n",
      "3    2020       Angola     1.0      0.0        0.0\n",
      "4    2020    Argentina    61.0      4.0        0.0\n",
      "..    ...          ...     ...      ...        ...\n",
      "112  2020    Venezuela    37.0      5.0        0.0\n",
      "113  2020      Vietnam   155.0      7.0        3.0\n",
      "114  2020        Yemen     7.0      0.0        0.0\n",
      "115  2020       Zambia     6.0      0.0        0.0\n",
      "116  2020     Zimbabwe   165.0      4.0        9.0\n",
      "\n",
      "[117 rows x 5 columns]\n"
     ]
    }
   ],
   "source": [
    "# I used the extension .csv because is lighter and easy to work with some libraries like pandas, sqlalchemy\n",
    "df_grouped.to_csv(f\"E:/My Drive/ESTUDOS DATA SCIENCE/ie-employment-permit/data/{year}/permits-by-nationality-{year}.csv\", index=False)\n",
    "\n",
    "print(df_grouped)"
   ]
  }
 ],
 "metadata": {
  "kernelspec": {
   "display_name": "Python 3",
   "language": "python",
   "name": "python3"
  },
  "language_info": {
   "codemirror_mode": {
    "name": "ipython",
    "version": 3
   },
   "file_extension": ".py",
   "mimetype": "text/x-python",
   "name": "python",
   "nbconvert_exporter": "python",
   "pygments_lexer": "ipython3",
   "version": "3.13.3"
  }
 },
 "nbformat": 4,
 "nbformat_minor": 5
}
