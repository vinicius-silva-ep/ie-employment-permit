{
 "cells": [
  {
   "cell_type": "markdown",
   "id": "ec7ec008",
   "metadata": {},
   "source": [
    "2023 - Employment Permit by Companies"
   ]
  },
  {
   "cell_type": "code",
   "execution_count": 2,
   "id": "4fe0366e",
   "metadata": {},
   "outputs": [],
   "source": [
    "year = 2023\n",
    "\n",
    "# Reading the raw data in the folder on my personal computer\n",
    "import pandas as pd\n",
    "\n",
    "df = pd.read_excel(f\"G:/My Drive/ESTUDOS DATA SCIENCE/ie-employment-permit/data/raw_data/{year}/permits-issued-to-companies-{year}.xlsx\",\n",
    "                header=2,\n",
    "                skiprows=[3]\n",
    ")"
   ]
  },
  {
   "cell_type": "code",
   "execution_count": 3,
   "id": "80794b70",
   "metadata": {},
   "outputs": [],
   "source": [
    "# Renaming the first column\n",
    "df = df.rename(columns={df.columns[0]: \"Company\"})\n",
    "\n",
    "# Melting the values into months\n",
    "df = df.melt(id_vars=[\"Company\"], \n",
    "                    value_vars=[\"Jan\", \"Feb\", \"Mar\", \"Apr\", \"May\", \"Jun\",\n",
    "                                \"Jul\", \"Aug\", \"Sep\", \"Oct\", \"Nov\", \"Dec\"],\n",
    "                    var_name=\"Month\",\n",
    "                    value_name=\"Total\")\n",
    "\n",
    "# Removes the nan of total column\n",
    "df = df.dropna(subset=[\"Total\"])\n",
    "\n",
    "# Adding the year\n",
    "df['Year'] = year\n",
    "\n",
    "# Sorting columns\n",
    "df = df[[\"Year\", \"Month\", \"Company\", \"Total\"]]\n",
    "\n",
    "# Sorting by month (according to the calendar)\n",
    "month_order = [\"Jan\", \"Feb\", \"Mar\", \"Apr\", \"May\", \"Jun\",\n",
    "               \"Jul\", \"Aug\", \"Sep\", \"Oct\", \"Nov\", \"Dec\"]\n",
    "df[\"Month\"] = pd.Categorical(df[\"Month\"], categories=month_order, ordered=True)\n",
    "df['Company'] = df['Company'].str.strip().str.replace(r'\\s+', ' ', regex=True).str.title() # Normalizing data\n",
    "\n",
    "df = df[['Year', 'Month', 'Company', 'Total']]\n",
    "df = df.sort_values(by=[\"Month\", \"Company\"])"
   ]
  },
  {
   "cell_type": "code",
   "execution_count": 4,
   "id": "78f69de7",
   "metadata": {},
   "outputs": [
    {
     "name": "stdout",
     "output_type": "stream",
     "text": [
      "       Year Month                         Company  Total\n",
      "21     2023   Jan            A N H Healthcare Ltd    1.0\n",
      "29     2023   Jan       A. Cliffe Haulage Limited    1.0\n",
      "32     2023   Jan  A.R.D. Precision (Irl) Limited    4.0\n",
      "89     2023   Jan                  Aarval Limited    5.0\n",
      "38     2023   Jan                     Abb Limited    1.0\n",
      "...     ...   ...                             ...    ...\n",
      "80998  2023   Dec     Zagros Food Company Limited    1.0\n",
      "81007  2023   Dec                   Zealandia Ltd    1.0\n",
      "81011  2023   Dec   Zendesk International Limited    1.0\n",
      "81024  2023   Dec             Zoetis Belgium S.A.    1.0\n",
      "81047  2023   Dec             Ó Mathúna Hotel Teo    1.0\n",
      "\n",
      "[13713 rows x 4 columns]\n"
     ]
    }
   ],
   "source": [
    "# I used the extension .csv because is lighter and easy to work with some libraries like pandas, sqlalchemy\n",
    "df.to_csv(f\"G:/My Drive/ESTUDOS DATA SCIENCE/ie-employment-permit/data/{year}/permits-by-companies-{year}.csv\", index=False)\n",
    "\n",
    "# I noticed that they didn't have August's values\n",
    "\n",
    "print(df)"
   ]
  }
 ],
 "metadata": {
  "kernelspec": {
   "display_name": "Python 3",
   "language": "python",
   "name": "python3"
  },
  "language_info": {
   "codemirror_mode": {
    "name": "ipython",
    "version": 3
   },
   "file_extension": ".py",
   "mimetype": "text/x-python",
   "name": "python",
   "nbconvert_exporter": "python",
   "pygments_lexer": "ipython3",
   "version": "3.13.5"
  }
 },
 "nbformat": 4,
 "nbformat_minor": 5
}
