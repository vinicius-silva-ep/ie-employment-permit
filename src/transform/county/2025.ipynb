{
 "cells": [
  {
   "cell_type": "markdown",
   "id": "ec7ec008",
   "metadata": {},
   "source": [
    "2025 - Employment Permit by County"
   ]
  },
  {
   "cell_type": "code",
   "execution_count": 27,
   "id": "4fe0366e",
   "metadata": {},
   "outputs": [
    {
     "name": "stdout",
     "output_type": "stream",
     "text": [
      "           Unnamed: 0  Issued  Refused  Withdrawn\n",
      "0   No County Entered     NaN      NaN     3985.0\n",
      "1              Antrim     NaN      1.0        NaN\n",
      "2              Carlow   122.0     13.0       66.0\n",
      "3               Cavan   301.0     33.0      221.0\n",
      "4               Clare   336.0     88.0      230.0\n",
      "5                Cork  1867.0    199.0      798.0\n",
      "6             Donegal   309.0     45.0      150.0\n",
      "7                Down     1.0      NaN        NaN\n",
      "8              Dublin  9277.0    897.0     3249.0\n",
      "9              Galway   665.0     83.0      329.0\n",
      "10              Kerry   355.0     26.0      157.0\n",
      "11            Kildare   833.0    124.0      394.0\n",
      "12           Kilkenny   378.0     34.0      126.0\n",
      "13              Laois   139.0     52.0       71.0\n",
      "14            Leitrim    49.0      3.0       33.0\n",
      "15           Limerick  1023.0    113.0      465.0\n",
      "16           Longford    90.0     15.0       26.0\n",
      "17              Louth   296.0     30.0      107.0\n",
      "18               Mayo   223.0     29.0      123.0\n",
      "19              Meath   831.0    142.0      358.0\n",
      "20           Monaghan   326.0     27.0       91.0\n",
      "21             Offaly   234.0     21.0       69.0\n",
      "22          Roscommon   126.0     18.0       64.0\n",
      "23              Sligo   143.0     42.0       69.0\n",
      "24          Tipperary   370.0     36.0      184.0\n",
      "25          Waterford   488.0     49.0      177.0\n",
      "26          Westmeath   285.0     54.0      154.0\n",
      "27            Wexford   596.0     34.0      283.0\n",
      "28            Wicklow   240.0     26.0      154.0\n"
     ]
    }
   ],
   "source": [
    "from datetime import datetime\n",
    "\n",
    "current_year = datetime.now().year\n",
    "\n",
    "year = current_year\n",
    "\n",
    "# Reading the raw data in the folder on my personal computer\n",
    "import pandas as pd\n",
    "import os\n",
    "\n",
    "df = pd.read_excel(f\"G:/My Drive/ESTUDOS DATA SCIENCE/ie-employment-permit/data/raw_data/{year}/permits-by-county-{year}.xlsx\",\n",
    "                header=1,\n",
    "                skiprows=[2]\n",
    ")\n",
    "print(df)"
   ]
  },
  {
   "cell_type": "code",
   "execution_count": 28,
   "id": "4529ff8d",
   "metadata": {},
   "outputs": [],
   "source": [
    "# As the structure of the columns were modified after 2020, I had to rename automatically the first one by \"County\"\n",
    "df.rename(columns={\"Unnamed: 0\": \"County\"}, inplace=True)"
   ]
  },
  {
   "cell_type": "code",
   "execution_count": 29,
   "id": "6188dec5",
   "metadata": {},
   "outputs": [],
   "source": [
    "# Creating a new column because of the new structure where the year is on top of the table\n",
    "df[\"Year\"] = year\n",
    "\n",
    "# Sorting the year column to be the first one \n",
    "df = df[[\"Year\"] + [col for col in df.columns if col != \"Year\"]]"
   ]
  },
  {
   "cell_type": "code",
   "execution_count": 30,
   "id": "c2ee1e6f",
   "metadata": {},
   "outputs": [],
   "source": [
    "# Reading counties/provinces reference\n",
    "counties_df = pd.read_excel(\"G:/My Drive/ESTUDOS DATA SCIENCE/ie-employment-permit/data/counties_and_provincies.xlsx\")\n",
    "\n",
    "# Creating the Obs column\n",
    "def get_obs(county):\n",
    "    if county == \"No County Entered\":\n",
    "        return county\n",
    "    # If the County isnt on the file, its Northern Ireland\n",
    "    match = counties_df[counties_df[\"County\"] == county]\n",
    "    if match.empty:\n",
    "        return \"Northern Ireland\"\n",
    "    else:\n",
    "        return \"\" \n",
    "\n",
    "df[\"Obs\"] = df[\"County\"].apply(get_obs)"
   ]
  },
  {
   "cell_type": "code",
   "execution_count": 31,
   "id": "ce7b430b",
   "metadata": {},
   "outputs": [],
   "source": [
    "# As this part of project is focused only in the counties, I had to group all missed places by \"Others\"\n",
    "\n",
    "# df[\"Obs\"] == \"\" → Northern Ireland\n",
    "# df[\"Obs\"] != \"\" → Others (North Ireland ou No County Entered)\n",
    "\n",
    "\n",
    "# Filtering rows that needs to be \"Others\"\n",
    "df_others = df[df[\"Obs\"] != \"\"].copy()\n",
    "df_others[\"County\"] = \"Others\"\n",
    "df_others_grouped = df_others.groupby([\"Year\", \"County\"], as_index=False)[[\"Issued\", \"Refused\", \"Withdrawn\"]].sum(min_count=1)\n",
    "\n",
    "# Republic of Ireland's rows (Obs == \"\")\n",
    "df_main = df[df[\"Obs\"] == \"\"].copy()\n",
    "df = pd.concat([df_main, df_others_grouped], ignore_index=True)\n",
    "\n",
    "# Removing Obs column\n",
    "df.drop(columns=[\"Obs\"], inplace=True)\n"
   ]
  },
  {
   "cell_type": "code",
   "execution_count": 32,
   "id": "fb0fe98c",
   "metadata": {},
   "outputs": [
    {
     "name": "stdout",
     "output_type": "stream",
     "text": [
      "    Year     County  Issued  Refused  Withdrawn\n",
      "0   2025     Carlow   122.0     13.0       66.0\n",
      "1   2025      Cavan   301.0     33.0      221.0\n",
      "2   2025      Clare   336.0     88.0      230.0\n",
      "3   2025       Cork  1867.0    199.0      798.0\n",
      "4   2025    Donegal   309.0     45.0      150.0\n",
      "5   2025     Dublin  9277.0    897.0     3249.0\n",
      "6   2025     Galway   665.0     83.0      329.0\n",
      "7   2025      Kerry   355.0     26.0      157.0\n",
      "8   2025    Kildare   833.0    124.0      394.0\n",
      "9   2025   Kilkenny   378.0     34.0      126.0\n",
      "10  2025      Laois   139.0     52.0       71.0\n",
      "11  2025    Leitrim    49.0      3.0       33.0\n",
      "12  2025   Limerick  1023.0    113.0      465.0\n",
      "13  2025   Longford    90.0     15.0       26.0\n",
      "14  2025      Louth   296.0     30.0      107.0\n",
      "15  2025       Mayo   223.0     29.0      123.0\n",
      "16  2025      Meath   831.0    142.0      358.0\n",
      "17  2025   Monaghan   326.0     27.0       91.0\n",
      "18  2025     Offaly   234.0     21.0       69.0\n",
      "19  2025  Roscommon   126.0     18.0       64.0\n",
      "20  2025      Sligo   143.0     42.0       69.0\n",
      "21  2025  Tipperary   370.0     36.0      184.0\n",
      "22  2025  Waterford   488.0     49.0      177.0\n",
      "23  2025  Westmeath   285.0     54.0      154.0\n",
      "24  2025    Wexford   596.0     34.0      283.0\n",
      "25  2025    Wicklow   240.0     26.0      154.0\n",
      "26  2025     Others     1.0      1.0     3985.0\n"
     ]
    }
   ],
   "source": [
    "# Creates the folder if it doesnt exist\n",
    "output_dir = f\"G:/My Drive/ESTUDOS DATA SCIENCE/ie-employment-permit/data/{year}\"\n",
    "os.makedirs(output_dir, exist_ok=True)\n",
    "\n",
    "# Save as csv\n",
    "csv_path = os.path.join(output_dir, f\"permits-issued-by-county-{year}.csv\")\n",
    "df.to_csv(csv_path, index=False)\n",
    "\n",
    "print(df)"
   ]
  }
 ],
 "metadata": {
  "kernelspec": {
   "display_name": "Python 3",
   "language": "python",
   "name": "python3"
  },
  "language_info": {
   "codemirror_mode": {
    "name": "ipython",
    "version": 3
   },
   "file_extension": ".py",
   "mimetype": "text/x-python",
   "name": "python",
   "nbconvert_exporter": "python",
   "pygments_lexer": "ipython3",
   "version": "3.13.5"
  }
 },
 "nbformat": 4,
 "nbformat_minor": 5
}
