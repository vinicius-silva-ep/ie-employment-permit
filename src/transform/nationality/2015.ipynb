{
 "cells": [
  {
   "cell_type": "markdown",
   "id": "ec7ec008",
   "metadata": {},
   "source": [
    "2015 - Employment Permit by Nationality"
   ]
  },
  {
   "cell_type": "code",
   "execution_count": 2,
   "id": "4fe0366e",
   "metadata": {},
   "outputs": [],
   "source": [
    "year = 2015\n",
    "\n",
    "# Reading the raw data in the folder on my personal computer\n",
    "import pandas as pd\n",
    "\n",
    "df = pd.read_excel(f\"E:/My Drive/ESTUDOS DATA SCIENCE/ie-employment-permit/data/raw_data/{year}/permits-issued-by-nationality-{year}.xlsx\",\n",
    "                   skiprows=[1] # I needed to skip this row because I had the summarization of the values by year, which was uninteresting\n",
    ")"
   ]
  },
  {
   "cell_type": "code",
   "execution_count": 3,
   "id": "80794b70",
   "metadata": {},
   "outputs": [],
   "source": [
    "# Replacing the NaN values by the year\n",
    "df[\"Year\"] = df[\"Year\"].fillna(f\"{year}\")"
   ]
  },
  {
   "cell_type": "code",
   "execution_count": 4,
   "id": "c6954161",
   "metadata": {},
   "outputs": [],
   "source": [
    "# Before 2020 the column structures of the files were different. So, I needed to rename the column \"Total\" by \"Issued\" because after 2020 the new file didn't have the columns \"New\" and \"Renewals\", only \"Issued\". In this case, to keep the standard of the project, I needed to mantain only \"Issued\".\n",
    "df.rename(columns={\"Total\": \"Issued\", \"Nationality\": \"Country\"}, inplace=True) # I had to replace \"Nationality\" by just \"Country\" once that this analysis is about countries\n",
    "df.drop(columns=[\"New\", \"Renewal\"], inplace=True) # Here I realized that the column \"Sector\" that was empty and it was useless\n",
    "\n",
    "# I had to make some data cleaning before because some countries had different names years ago"
   ]
  },
  {
   "cell_type": "code",
   "execution_count": 5,
   "id": "9a149d9c",
   "metadata": {},
   "outputs": [],
   "source": [
    "# I grouped by country because in some cases when I was fixing I replaced the old name to the new name, ie Hong Kong -> China making double China\n",
    "df_grouped = df.groupby([\"Year\", \"Country\"], dropna=False).agg({\n",
    "    \"Issued\": \"sum\",\n",
    "    \"Refused\": \"sum\",\n",
    "    \"Withdrawn\": \"sum\"\n",
    "}).reset_index()"
   ]
  },
  {
   "cell_type": "code",
   "execution_count": 6,
   "id": "78f69de7",
   "metadata": {},
   "outputs": [
    {
     "name": "stdout",
     "output_type": "stream",
     "text": [
      "     Year      Country  Issued  Refused  Withdrawn\n",
      "0    2015  Afghanistan       1        0          0\n",
      "1    2015      Albania       7        3          0\n",
      "2    2015      Algeria       3        0          0\n",
      "3    2015      Andorra       2        0          0\n",
      "4    2015       Angola       2        0          0\n",
      "..    ...          ...     ...      ...        ...\n",
      "96   2015    Venezuela      55       19          1\n",
      "97   2015      Vietnam       9        3          0\n",
      "98   2015        Yemen       1        0          0\n",
      "99   2015       Zambia       3        2          0\n",
      "100  2015     Zimbabwe       9        0          0\n",
      "\n",
      "[101 rows x 5 columns]\n"
     ]
    }
   ],
   "source": [
    "# I used the extension .csv because is lighter and easy to work with some libraries like pandas, sqlalchemy\n",
    "df_grouped.to_csv(f\"E:/My Drive/ESTUDOS DATA SCIENCE/ie-employment-permit/data/{year}/permits-by-nationality-{year}.csv\", index=False)\n",
    "\n",
    "print(df_grouped)"
   ]
  }
 ],
 "metadata": {
  "kernelspec": {
   "display_name": "Python 3",
   "language": "python",
   "name": "python3"
  },
  "language_info": {
   "codemirror_mode": {
    "name": "ipython",
    "version": 3
   },
   "file_extension": ".py",
   "mimetype": "text/x-python",
   "name": "python",
   "nbconvert_exporter": "python",
   "pygments_lexer": "ipython3",
   "version": "3.13.3"
  }
 },
 "nbformat": 4,
 "nbformat_minor": 5
}
