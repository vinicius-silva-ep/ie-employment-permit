{
 "cells": [
  {
   "cell_type": "markdown",
   "id": "ec7ec008",
   "metadata": {},
   "source": [
    "2016 - Employment Permit by Sector"
   ]
  },
  {
   "cell_type": "code",
   "execution_count": 1,
   "id": "4fe0366e",
   "metadata": {},
   "outputs": [],
   "source": [
    "year = 2016\n",
    "\n",
    "# Reading the raw data in the folder on my personal computer\n",
    "import pandas as pd\n",
    "\n",
    "df = pd.read_excel(f\"E:/My Drive/ESTUDOS DATA SCIENCE/ie-employment-permit/data/raw_data/{year}/permits-issued-by-sector-{year}.xlsx\",\n",
    "                   skiprows=[1] # I needed to skip this row because I had the summarization of the values by year, which was uninteresting\n",
    ")"
   ]
  },
  {
   "cell_type": "code",
   "execution_count": 2,
   "id": "80794b70",
   "metadata": {},
   "outputs": [
    {
     "name": "stderr",
     "output_type": "stream",
     "text": [
      "C:\\Users\\vinic\\AppData\\Local\\Temp\\ipykernel_5144\\2892345963.py:3: FutureWarning: Series.fillna with 'method' is deprecated and will raise in a future version. Use obj.ffill() or obj.bfill() instead.\n",
      "  df['Month'] = df['Month'].fillna(method='ffill')\n"
     ]
    }
   ],
   "source": [
    "# Replacing the NaN values by the year and month\n",
    "df[\"Year\"] = df[\"Year\"].fillna(f\"{year}\")\n",
    "df['Month'] = df['Month'].fillna(method='ffill')\n",
    "\n",
    "# Renaming the sector column and removing subtotal rows\n",
    "df = df.rename(columns={'Unnamed: 2': 'Sector'})\n",
    "df = df[~((df['Sector'].isna()) & (df['Month'].notna()))]"
   ]
  },
  {
   "cell_type": "code",
   "execution_count": 3,
   "id": "c6954161",
   "metadata": {},
   "outputs": [],
   "source": [
    "# Before 2020 the column structures of the files were different. So, I needed to rename the column \"Total\" by \"Issued\" because after 2020 the new file didn't have the columns \"New\" and \"Renewals\", only \"Issued\". In this case, to keep the standard of the project, I needed to mantain only \"Issued\".\n",
    "df.rename(columns={\"Total\": \"Issued\"}, inplace=True) # Issued is the amount of new and renewals\n",
    "df.drop(columns=[\"New\", \"Renewal\"], inplace=True)"
   ]
  },
  {
   "cell_type": "code",
   "execution_count": 4,
   "id": "78f69de7",
   "metadata": {},
   "outputs": [
    {
     "name": "stdout",
     "output_type": "stream",
     "text": [
      "     Year Month                   Sector  Issued  Refused  Withdrawn\n",
      "1    2016   Jan  Agriculture & Fisheries       2        2          0\n",
      "2    2016   Jan                 Catering       7       11          1\n",
      "3    2016   Jan                Education       3        1          0\n",
      "4    2016   Jan            Entertainment       1        0          0\n",
      "5    2016   Jan                 Industry     153        6         21\n",
      "..    ...   ...                      ...     ...      ...        ...\n",
      "123  2016   Dec                 Industry      80        9          6\n",
      "124  2016   Dec        Medical & Nursing     245       19         10\n",
      "125  2016   Dec           None specified       5        5          0\n",
      "126  2016   Dec         Service Industry     200       40          5\n",
      "127  2016   Dec                    Sport       0        3          1\n",
      "\n",
      "[116 rows x 6 columns]\n"
     ]
    }
   ],
   "source": [
    "# I used the extension .csv because is lighter and easy to work with some libraries like pandas, sqlalchemy\n",
    "df.to_csv(f\"E:/My Drive/ESTUDOS DATA SCIENCE/ie-employment-permit/data/{year}/permits-by-sector-{year}.csv\", index=False)\n",
    "\n",
    "print(df)"
   ]
  }
 ],
 "metadata": {
  "kernelspec": {
   "display_name": "Python 3",
   "language": "python",
   "name": "python3"
  },
  "language_info": {
   "codemirror_mode": {
    "name": "ipython",
    "version": 3
   },
   "file_extension": ".py",
   "mimetype": "text/x-python",
   "name": "python",
   "nbconvert_exporter": "python",
   "pygments_lexer": "ipython3",
   "version": "3.13.3"
  }
 },
 "nbformat": 4,
 "nbformat_minor": 5
}
