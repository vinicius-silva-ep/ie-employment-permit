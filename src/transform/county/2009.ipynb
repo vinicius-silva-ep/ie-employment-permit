{
 "cells": [
  {
   "cell_type": "markdown",
   "id": "ec7ec008",
   "metadata": {},
   "source": [
    "2009 - Employment Permit by County"
   ]
  },
  {
   "cell_type": "code",
   "execution_count": 2,
   "id": "4fe0366e",
   "metadata": {},
   "outputs": [],
   "source": [
    "# Reading the raw data in the folder on my personal computer\n",
    "import pandas as pd\n",
    "\n",
    "df = pd.read_excel(r\"E:/My Drive/ESTUDOS DATA SCIENCE/ie-employment-permit/data/raw_data/2009/permits-issued-by-county-2009.xls\",\n",
    "                   skiprows=[1] # I needed to skip this row because I had the summarization of the values by year, which was uninteresting\n",
    ")"
   ]
  },
  {
   "cell_type": "code",
   "execution_count": 3,
   "id": "cafe9be8",
   "metadata": {},
   "outputs": [],
   "source": [
    "# Replacing the NaN values by the year\n",
    "df[\"Year\"] = df[\"Year\"].fillna(\"2009\")"
   ]
  },
  {
   "cell_type": "code",
   "execution_count": 4,
   "id": "79a4fd8c",
   "metadata": {},
   "outputs": [],
   "source": [
    "# Before 2020 the column structures of the files were different. So, I needed to rename the column \"Total\" by \"Issued\" because after 2020 the new file didn't have the columns \"New\" and \"Renewals\", only \"Issued\". In this case, to keep the standard of the project, I needed to mantain only \"Issued\".\n",
    "df.rename(columns={\"Total\": \"Issued\", \"County/Country\": \"County\"}, inplace=True) # I had to replace \"County/Country\" by just \"County\" once that this analysis is about counties\n",
    "df.drop(columns=[\"New \", \"Renewals\", \"Group\"], inplace=True) # Here I realized that there were some issues in the column names like \"New \" instead of \"New\" and the \"Group\" column was empty\n",
    "\n",
    "# I created the column \"Obs\" to make sure that all counties belong to Ireland or any issues that I could find by crossing some databases"
   ]
  },
  {
   "cell_type": "code",
   "execution_count": 5,
   "id": "cc8312c1",
   "metadata": {},
   "outputs": [],
   "source": [
    "# As this part of project is focused only in the counties, I had to group all missed places by \"Others\"\n",
    "\n",
    "# I had to made a copy of the df with the filtered rows by not being \"NaN\" (because some cases are about countries or counties from North Ireland)\n",
    "df_others = df[df[\"Obs\"].notna()].copy()\n",
    "# Replacing all values by just \"Others\" to facilitate the analysis\n",
    "df_others[\"County\"] = \"Others\"\n",
    "# Summarizing the columns\n",
    "df_others_grouped = df_others.groupby([\"Year\", \"County\"], as_index=False)[[\"Issued\", \"Refused\", \"Withdrawn\"]].sum()\n",
    "# Creating a dataframe with only the \"Others\" row\n",
    "df_main = df[df[\"Obs\"].isna()].copy()\n",
    "# Concatenating both dataframes, original and the modified copy\n",
    "df = pd.concat([df_main, df_others_grouped], ignore_index=True)\n",
    "# As I don't need to use the \"Obs\" column, I removed for the final file\n",
    "df.drop(columns=[\"Obs\"], inplace=True)"
   ]
  },
  {
   "cell_type": "code",
   "execution_count": 6,
   "id": "83415df8",
   "metadata": {},
   "outputs": [
    {
     "name": "stdout",
     "output_type": "stream",
     "text": [
      "    Year     County  Issued  Refused  Withdrawn\n",
      "0   2009     Carlow      66       11          2\n",
      "1   2009      Cavan      67       59          6\n",
      "2   2009      Clare     125       42          5\n",
      "3   2009       Cork     551      145         17\n",
      "4   2009    Donegal     109       34          6\n",
      "5   2009     Dublin    4001      754        260\n",
      "6   2009     Galway     336       93         14\n",
      "7   2009      Kerry      92       44          5\n",
      "8   2009    Kildare     971      151         28\n",
      "9   2009   Kilkenny      71       27          7\n",
      "10  2009      Laois      36       16          0\n",
      "11  2009    Leitrim      14       11          1\n",
      "12  2009   Limerick     189       60         16\n",
      "13  2009   Longford      37       13          2\n",
      "14  2009      Louth      80       41          8\n",
      "15  2009       Mayo      88       34          4\n",
      "16  2009      Meath     241       66         15\n",
      "17  2009   Monaghan      41       29          6\n",
      "18  2009     Offaly      32       14          3\n",
      "19  2009  Roscommon      24       13          1\n",
      "20  2009      Sligo      36       13          2\n",
      "21  2009  Tipperary     204       90         10\n",
      "22  2009  Waterford      74       36          3\n",
      "23  2009  Westmeath     179       35          4\n",
      "24  2009    Wexford      71       31          5\n",
      "25  2009    Wicklow     225       38         12\n",
      "26  2009     Others       2        1          0\n"
     ]
    }
   ],
   "source": [
    "# I used the extension .csv because is lighter and easy to work with some libraries like pandas, sqlalchemy\n",
    "df.to_csv(r\"E:/My Drive/ESTUDOS DATA SCIENCE/ie-employment-permit/data/2009/permits-issued-by-county-2009.csv\", index=False)\n",
    "\n",
    "print(df)"
   ]
  }
 ],
 "metadata": {
  "kernelspec": {
   "display_name": "Python 3",
   "language": "python",
   "name": "python3"
  },
  "language_info": {
   "codemirror_mode": {
    "name": "ipython",
    "version": 3
   },
   "file_extension": ".py",
   "mimetype": "text/x-python",
   "name": "python",
   "nbconvert_exporter": "python",
   "pygments_lexer": "ipython3",
   "version": "3.13.3"
  }
 },
 "nbformat": 4,
 "nbformat_minor": 5
}
