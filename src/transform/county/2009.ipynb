{
 "cells": [
  {
   "cell_type": "markdown",
   "id": "ec7ec008",
   "metadata": {},
   "source": [
    "2009 - Employment Permit by County"
   ]
  },
  {
   "cell_type": "code",
   "execution_count": 5,
   "id": "4fe0366e",
   "metadata": {},
   "outputs": [],
   "source": [
    "# Reading the raw data in the folder on my personal computer\n",
    "import pandas as pd\n",
    "\n",
    "df = pd.read_excel(r\"E:/My Drive/ESTUDOS DATA SCIENCE/ie-employment-permit/data/raw_data_before_2020/2009/permits-issued-by-county-2009.xls\")"
   ]
  },
  {
   "cell_type": "code",
   "execution_count": 6,
   "id": "3e51cfc3",
   "metadata": {},
   "outputs": [
    {
     "name": "stdout",
     "output_type": "stream",
     "text": [
      "      Year County/Country  New   Renewals  Group  Total  Refused  Withdrawn\n",
      "0   2009.0            NaN  4024      3938      0   7962     1901        442\n",
      "1      NaN         Antrim     0         1      0      1        1          0\n",
      "2      NaN         Carlow    36        30      0     66       11          2\n",
      "3      NaN          Cavan    15        52      0     67       59          6\n",
      "4      NaN          Clare    65        60      0    125       42          5\n",
      "5      NaN           Cork   265       286      0    551      145         17\n",
      "6      NaN        Donegal    40        69      0    109       34          6\n",
      "7      NaN           Down     0         1      0      1        0          0\n",
      "8      NaN         Dublin  2062      1939      0   4001      754        260\n",
      "9      NaN         Galway   200       136      0    336       93         14\n",
      "10     NaN          Kerry    31        61      0     92       44          5\n",
      "11     NaN        Kildare   581       390      0    971      151         28\n",
      "12     NaN       Kilkenny    30        41      0     71       27          7\n",
      "13     NaN          Laois     5        31      0     36       16          0\n",
      "14     NaN        Leitrim     6         8      0     14       11          1\n",
      "15     NaN       Limerick    83       106      0    189       60         16\n",
      "16     NaN       Longford    23        14      0     37       13          2\n",
      "17     NaN          Louth    39        41      0     80       41          8\n",
      "18     NaN           Mayo    40        48      0     88       34          4\n",
      "19     NaN          Meath    84       157      0    241       66         15\n",
      "20     NaN       Monaghan    16        25      0     41       29          6\n",
      "21     NaN         Offaly    13        19      0     32       14          3\n",
      "22     NaN      Roscommon     9        15      0     24       13          1\n",
      "23     NaN          Sligo    13        23      0     36       13          2\n",
      "24     NaN      Tipperary    91       113      0    204       90         10\n",
      "25     NaN      Waterford    31        43      0     74       36          3\n",
      "26     NaN      Westmeath   134        45      0    179       35          4\n",
      "27     NaN        Wexford    20        51      0     71       31          5\n",
      "28     NaN        Wicklow    92       133      0    225       38         12\n"
     ]
    }
   ],
   "source": [
    "print(df)"
   ]
  }
 ],
 "metadata": {
  "kernelspec": {
   "display_name": "Python 3",
   "language": "python",
   "name": "python3"
  },
  "language_info": {
   "codemirror_mode": {
    "name": "ipython",
    "version": 3
   },
   "file_extension": ".py",
   "mimetype": "text/x-python",
   "name": "python",
   "nbconvert_exporter": "python",
   "pygments_lexer": "ipython3",
   "version": "3.13.3"
  }
 },
 "nbformat": 4,
 "nbformat_minor": 5
}
