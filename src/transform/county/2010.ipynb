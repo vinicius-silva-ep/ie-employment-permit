{
 "cells": [
  {
   "cell_type": "markdown",
   "id": "ec7ec008",
   "metadata": {},
   "source": [
    "2010 - Employment Permit by County"
   ]
  },
  {
   "cell_type": "code",
   "execution_count": null,
   "id": "4fe0366e",
   "metadata": {},
   "outputs": [],
   "source": [
    "# Reading the raw data in the folder on my personal computer\n",
    "import pandas as pd\n",
    "\n",
    "df = pd.read_excel(r\"E:/My Drive/ESTUDOS DATA SCIENCE/ie-employment-permit/data/raw_data_before_2020/2010/permits-issued-by-county-2010.xls\", # This case is using .xls\n",
    "                   skiprows=[1] # I needed to skip this row because I had the summarization of the values by year, which was uninteresting\n",
    ")"
   ]
  },
  {
   "cell_type": "code",
   "execution_count": 43,
   "id": "9f4b3251",
   "metadata": {},
   "outputs": [],
   "source": [
    "# Replacing the NaN values by the year\n",
    "df[\"Year\"] = df[\"Year\"].fillna(\"2010\")"
   ]
  },
  {
   "cell_type": "code",
   "execution_count": 44,
   "id": "008944be",
   "metadata": {},
   "outputs": [],
   "source": [
    "# Before 2020 the column structures of the files were different. So, I needed to rename the column \"Total\" by \"Issued\" because after 2020 the new file didn't have the columns \"New\" and \"Renewals\", only \"Issued\". In this case, to keep the standard of the project, I needed to mantain only \"Issued\".\n",
    "df.rename(columns={\"Total\": \"Issued\", \"County/Country\": \"County\"}, inplace=True) # I had to replace \"County/Country\" by just \"County\" once that this analysis is about counties\n",
    "df.drop(columns=[\"New\", \"Renewal\", \"Sector\"], inplace=True) # Here I realized that the column \"Sector\" that was empty and it was useless\n",
    "\n",
    "# I created the column \"Obs\" to make sure that all counties belong to Ireland or any issues that I could find by crossing some databases"
   ]
  },
  {
   "cell_type": "code",
   "execution_count": 45,
   "id": "022f2665",
   "metadata": {},
   "outputs": [],
   "source": [
    "# As this part of project is focused only in the counties, I had to group all missed places by \"Others\"\n",
    "\n",
    "# I had to made a copy of the df with the filtered rows by not being \"NaN\" (because some cases are about countries or counties from North Ireland)\n",
    "df_others = df[df[\"Obs\"].notna()].copy()\n",
    "# Replacing all values by just \"Others\" to facilitate the analysis\n",
    "df_others[\"County\"] = \"Others\"\n",
    "# Summarizing the columns\n",
    "df_others_grouped = df_others.groupby([\"Year\", \"County\"], as_index=False)[[\"Issued\", \"Refused\", \"Withdrawn\"]].sum()\n",
    "# Creating a dataframe with only the \"Others\" row\n",
    "df_main = df[df[\"Obs\"].isna()].copy()\n",
    "# Concatenating both dataframes, original and the modified copy\n",
    "df = pd.concat([df_main, df_others_grouped], ignore_index=True)\n",
    "# As I don't need to use the \"Obs\" column, I removed for the final file\n",
    "df.drop(columns=[\"Obs\"], inplace=True)"
   ]
  },
  {
   "cell_type": "code",
   "execution_count": 46,
   "id": "c0c9bb58",
   "metadata": {},
   "outputs": [
    {
     "name": "stdout",
     "output_type": "stream",
     "text": [
      "    Year     County  Issued  Refused  Withdrawn\n",
      "0   2010     Carlow      79        5          0\n",
      "1   2010      Cavan     100       10          3\n",
      "2   2010      Clare     134       18          4\n",
      "3   2010       Cork     584       79         21\n",
      "4   2010    Donegal      87       22          2\n",
      "5   2010     Dublin    3776      451        101\n",
      "6   2010     Galway     277       50          3\n",
      "7   2010      Kerry      88        6          6\n",
      "8   2010    Kildare     702       85         11\n",
      "9   2010   Kilkenny      92       10          2\n",
      "10  2010      Laois      50        7          1\n",
      "11  2010    Leitrim      23        6          1\n",
      "12  2010   Limerick     197       26          2\n",
      "13  2010   Longford      30       13          0\n",
      "14  2010      Louth     105       14          5\n",
      "15  2010       Mayo      80       16          1\n",
      "16  2010      Meath     222       21          9\n",
      "17  2010   Monaghan      41        2          0\n",
      "18  2010     Offaly      51        3          0\n",
      "19  2010  Roscommon      31        8          1\n",
      "20  2010      Sligo      45        6          3\n",
      "21  2010  Tipperary     231       29          6\n",
      "22  2010  Waterford      97       26          3\n",
      "23  2010  Westmeath     104       16          2\n",
      "24  2010    Wexford      96       13          5\n",
      "25  2010    Wicklow     217       29         11\n",
      "26  2010     Others     175        2         10\n"
     ]
    }
   ],
   "source": [
    "# I used the extension .csv because is lighter and easy to work with some libraries like pandas, sqlalchemy\n",
    "df.to_csv(r\"E:/My Drive/ESTUDOS DATA SCIENCE/ie-employment-permit/data/2010/permits-issued-by-county-2010.csv\", index=False)\n",
    "\n",
    "print(df)"
   ]
  }
 ],
 "metadata": {
  "kernelspec": {
   "display_name": "Python 3",
   "language": "python",
   "name": "python3"
  },
  "language_info": {
   "codemirror_mode": {
    "name": "ipython",
    "version": 3
   },
   "file_extension": ".py",
   "mimetype": "text/x-python",
   "name": "python",
   "nbconvert_exporter": "python",
   "pygments_lexer": "ipython3",
   "version": "3.13.3"
  }
 },
 "nbformat": 4,
 "nbformat_minor": 5
}
