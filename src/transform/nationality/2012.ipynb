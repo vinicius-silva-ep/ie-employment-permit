{
 "cells": [
  {
   "cell_type": "markdown",
   "id": "ec7ec008",
   "metadata": {},
   "source": [
    "2012 - Employment Permit by Nationality"
   ]
  },
  {
   "cell_type": "code",
   "execution_count": 21,
   "id": "4fe0366e",
   "metadata": {},
   "outputs": [],
   "source": [
    "# Reading the raw data in the folder on my personal computer\n",
    "import pandas as pd\n",
    "\n",
    "df = pd.read_excel(r\"E:/My Drive/ESTUDOS DATA SCIENCE/ie-employment-permit/data/raw_data/2012/permits-issued-by-nationality-2012.xlsx\",\n",
    "                   skiprows=[1] # I needed to skip this row because I had the summarization of the values by year, which was uninteresting\n",
    ")"
   ]
  },
  {
   "cell_type": "code",
   "execution_count": 22,
   "id": "accc7ee7",
   "metadata": {},
   "outputs": [],
   "source": [
    "# Replacing the NaN values by the year\n",
    "df[\"Year\"] = df[\"Year\"].fillna(\"2012\")"
   ]
  },
  {
   "cell_type": "code",
   "execution_count": 23,
   "id": "3bca6ecb",
   "metadata": {},
   "outputs": [],
   "source": [
    "# Before 2020 the column structures of the files were different. So, I needed to rename the column \"Total\" by \"Issued\" because after 2020 the new file didn't have the columns \"New\" and \"Renewals\", only \"Issued\". In this case, to keep the standard of the project, I needed to mantain only \"Issued\".\n",
    "df.rename(columns={\"Total\": \"Issued\", \"Nationality\": \"Country\"}, inplace=True) # I had to replace \"Nationality\" by just \"Country\" once that this analysis is about countries\n",
    "df.drop(columns=[\"New\", \"Renewal\"], inplace=True) # Here I realized that the column \"Sector\" that was empty and it was useless\n",
    "\n",
    "# I had to make some data cleaning before because some countries had different names years ago"
   ]
  },
  {
   "cell_type": "code",
   "execution_count": 24,
   "id": "45c332d2",
   "metadata": {},
   "outputs": [],
   "source": [
    "# I grouped by country because in some cases when I was fixing I replaced the old name to the new name, ie Hong Kong -> China making double China\n",
    "df_grouped = df.groupby([\"Year\", \"Country\"], dropna=False).agg({\n",
    "    \"Issued\": \"sum\",\n",
    "    \"Refused\": \"sum\",\n",
    "    \"Withdrawn\": \"sum\"\n",
    "}).reset_index()"
   ]
  },
  {
   "cell_type": "code",
   "execution_count": 25,
   "id": "57542f79",
   "metadata": {},
   "outputs": [
    {
     "name": "stdout",
     "output_type": "stream",
     "text": [
      "    Year    Country  Issued  Refused  Withdrawn\n",
      "0   2012    Albania       2        1          0\n",
      "1   2012    Algeria       2        1          0\n",
      "2   2012  Argentina      15        4          0\n",
      "3   2012    Armenia       2        0          0\n",
      "4   2012  Australia      59        4          1\n",
      "..   ...        ...     ...      ...        ...\n",
      "86  2012    Uruguay       2        0          0\n",
      "87  2012  Venezuela       1        1          0\n",
      "88  2012    Vietnam       3        1          0\n",
      "89  2012     Zambia       2        0          1\n",
      "90  2012   Zimbabwe       9        4          1\n",
      "\n",
      "[91 rows x 5 columns]\n"
     ]
    }
   ],
   "source": [
    "# I used the extension .csv because is lighter and easy to work with some libraries like pandas, sqlalchemy\n",
    "df_grouped.to_csv(r\"E:/My Drive/ESTUDOS DATA SCIENCE/ie-employment-permit/data/2012/permits-by-nationality-2012.csv\", index=False)\n",
    "\n",
    "print(df_grouped)"
   ]
  }
 ],
 "metadata": {
  "kernelspec": {
   "display_name": "Python 3",
   "language": "python",
   "name": "python3"
  },
  "language_info": {
   "codemirror_mode": {
    "name": "ipython",
    "version": 3
   },
   "file_extension": ".py",
   "mimetype": "text/x-python",
   "name": "python",
   "nbconvert_exporter": "python",
   "pygments_lexer": "ipython3",
   "version": "3.13.3"
  }
 },
 "nbformat": 4,
 "nbformat_minor": 5
}
