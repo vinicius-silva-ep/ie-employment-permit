{
 "cells": [
  {
   "cell_type": "markdown",
   "id": "ec7ec008",
   "metadata": {},
   "source": [
    "2011 - Employment Permit by Nationality"
   ]
  },
  {
   "cell_type": "code",
   "execution_count": 17,
   "id": "4fe0366e",
   "metadata": {},
   "outputs": [],
   "source": [
    "# Reading the raw data in the folder on my personal computer\n",
    "import pandas as pd\n",
    "\n",
    "df = pd.read_excel(r\"E:/My Drive/ESTUDOS DATA SCIENCE/ie-employment-permit/data/raw_data/2011/permits-issued-by-nationality-2011.xlsx\",\n",
    "                   skiprows=[1] # I needed to skip this row because I had the summarization of the values by year, which was uninteresting\n",
    ")"
   ]
  },
  {
   "cell_type": "code",
   "execution_count": 18,
   "id": "3dc02328",
   "metadata": {},
   "outputs": [],
   "source": [
    "# Replacing the NaN values by the year\n",
    "df[\"Year\"] = df[\"Year\"].fillna(\"2011\")"
   ]
  },
  {
   "cell_type": "code",
   "execution_count": 19,
   "id": "d4b31145",
   "metadata": {},
   "outputs": [],
   "source": [
    "# Before 2020 the column structures of the files were different. So, I needed to rename the column \"Total\" by \"Issued\" because after 2020 the new file didn't have the columns \"New\" and \"Renewals\", only \"Issued\". In this case, to keep the standard of the project, I needed to mantain only \"Issued\".\n",
    "df.rename(columns={\"Total\": \"Issued\", \"Nationality\": \"Country\"}, inplace=True) # I had to replace \"Nationality\" by just \"Country\" once that this analysis is about countries\n",
    "df.drop(columns=[\"New\", \"Renewal\"], inplace=True) # Here I realized that the column \"Sector\" that was empty and it was useless\n",
    "\n",
    "# I had to make some data cleaning before because some countries had different names years ago"
   ]
  },
  {
   "cell_type": "code",
   "execution_count": 20,
   "id": "0c4a4b63",
   "metadata": {},
   "outputs": [],
   "source": [
    "# I grouped by country because in some cases when I was fixing I replaced the old name to the new name, ie Hong Kong -> China making double China\n",
    "df_grouped = df.groupby([\"Year\", \"Country\"], dropna=False).agg({\n",
    "    \"Issued\": \"sum\",\n",
    "    \"Refused\": \"sum\",\n",
    "    \"Withdrawn\": \"sum\"\n",
    "}).reset_index()"
   ]
  },
  {
   "cell_type": "code",
   "execution_count": 21,
   "id": "36f1a2e1",
   "metadata": {},
   "outputs": [
    {
     "name": "stdout",
     "output_type": "stream",
     "text": [
      "    Year        Country  Issued  Refused  Withdrawn\n",
      "0   2011        Albania       2        2          0\n",
      "1   2011        Algeria       5        0          0\n",
      "2   2011      Argentina       9        9          1\n",
      "3   2011        Armenia       3        1          0\n",
      "4   2011      Australia      59        7          1\n",
      "..   ...            ...     ...      ...        ...\n",
      "87  2011  United States     496       31         12\n",
      "88  2011      Venezuela       6        3          0\n",
      "89  2011        Vietnam       4        0          0\n",
      "90  2011         Zambia       4        0          0\n",
      "91  2011       Zimbabwe      19        5          3\n",
      "\n",
      "[92 rows x 5 columns]\n"
     ]
    }
   ],
   "source": [
    "# I used the extension .csv because is lighter and easy to work with some libraries like pandas, sqlalchemy\n",
    "df_grouped.to_csv(r\"E:/My Drive/ESTUDOS DATA SCIENCE/ie-employment-permit/data/2011/permits-by-nationality-2011.csv\", index=False)\n",
    "\n",
    "print(df_grouped)"
   ]
  }
 ],
 "metadata": {
  "kernelspec": {
   "display_name": "Python 3",
   "language": "python",
   "name": "python3"
  },
  "language_info": {
   "codemirror_mode": {
    "name": "ipython",
    "version": 3
   },
   "file_extension": ".py",
   "mimetype": "text/x-python",
   "name": "python",
   "nbconvert_exporter": "python",
   "pygments_lexer": "ipython3",
   "version": "3.13.3"
  }
 },
 "nbformat": 4,
 "nbformat_minor": 5
}
