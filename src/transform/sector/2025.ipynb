{
 "cells": [
  {
   "cell_type": "markdown",
   "id": "ec7ec008",
   "metadata": {},
   "source": [
    "2025 - Employment Permit by Sector"
   ]
  },
  {
   "cell_type": "code",
   "execution_count": 7,
   "id": "4fe0366e",
   "metadata": {},
   "outputs": [],
   "source": [
    "year = 2025\n",
    "\n",
    "# Reading the raw data in the folder on my personal computer\n",
    "import pandas as pd \n",
    "\n",
    "df = pd.read_excel(f\"G:/My Drive/ESTUDOS DATA SCIENCE/ie-employment-permit/data/raw_data/{year}/permits-by-sector-{year}.xlsx\",\n",
    "                   header=0\n",
    ")\n",
    "\n",
    "# Verifying if the first column has no name, so I rename it to \"Sector\"\n",
    "if df.columns[0] in [None, \"\", \"Unnamed: 0\"]:\n",
    "    df.rename(columns={df.columns[0]: \"Sector\"}, inplace=True)"
   ]
  },
  {
   "cell_type": "code",
   "execution_count": 8,
   "id": "80794b70",
   "metadata": {},
   "outputs": [
    {
     "name": "stderr",
     "output_type": "stream",
     "text": [
      "C:\\Users\\vinic\\AppData\\Local\\Temp\\ipykernel_15436\\2247327282.py:44: SettingWithCopyWarning: \n",
      "A value is trying to be set on a copy of a slice from a DataFrame.\n",
      "Try using .loc[row_indexer,col_indexer] = value instead\n",
      "\n",
      "See the caveats in the documentation: https://pandas.pydata.org/pandas-docs/stable/user_guide/indexing.html#returning-a-view-versus-a-copy\n",
      "  df[col] = 0\n",
      "C:\\Users\\vinic\\AppData\\Local\\Temp\\ipykernel_15436\\2247327282.py:44: SettingWithCopyWarning: \n",
      "A value is trying to be set on a copy of a slice from a DataFrame.\n",
      "Try using .loc[row_indexer,col_indexer] = value instead\n",
      "\n",
      "See the caveats in the documentation: https://pandas.pydata.org/pandas-docs/stable/user_guide/indexing.html#returning-a-view-versus-a-copy\n",
      "  df[col] = 0\n",
      "C:\\Users\\vinic\\AppData\\Local\\Temp\\ipykernel_15436\\2247327282.py:49: SettingWithCopyWarning: \n",
      "A value is trying to be set on a copy of a slice from a DataFrame.\n",
      "Try using .loc[row_indexer,col_indexer] = value instead\n",
      "\n",
      "See the caveats in the documentation: https://pandas.pydata.org/pandas-docs/stable/user_guide/indexing.html#returning-a-view-versus-a-copy\n",
      "  df[col] = pd.to_numeric(df[col], errors='coerce').fillna(0)\n"
     ]
    }
   ],
   "source": [
    "# Creating a new column\n",
    "df['Year'] = f\"{year}\"\n",
    "\n",
    "# Garantee that the first column is named 'Sector'\n",
    "if df.columns[0] in [None, \"\", \"Unnamed: 0\"]:\n",
    "    df.rename(columns={df.columns[0]: \"Sector\"}, inplace=True)\n",
    "else:\n",
    "    df.rename(columns={df.columns[0]: \"Sector\"}, inplace=True)\n",
    "\n",
    "# Standardizing column names\n",
    "cols = df.columns.tolist()\n",
    "df.columns = [c if c in ['Sector', 'Year'] else c.strip().title()[:3] for c in cols]\n",
    "\n",
    "# Months list\n",
    "months = ['Jan', 'Feb', 'Mar', 'Apr', 'May', 'Jun',\n",
    "          'Jul', 'Aug', 'Sep', 'Oct', 'Nov', 'Dec']\n",
    "\n",
    "# Identify month columns in the DataFrame\n",
    "month_cols = [c for c in df.columns if c in months]\n",
    "\n",
    "# Garantee all months are present in the DataFrame\n",
    "for m in months:\n",
    "    if m not in df.columns:\n",
    "        df[m] = 0\n",
    "\n",
    "# Organize month columns in the correct order\n",
    "df_melted = df.melt(\n",
    "    id_vars=['Sector', 'Year'],\n",
    "    value_vars=month_cols,\n",
    "    var_name='Month',\n",
    "    value_name='Issued'\n",
    ")\n",
    "\n",
    "# Remove summary rows\n",
    "df_melted = df_melted[~df_melted['Sector'].astype(str).str.contains('Grand Total', case=False, na=False)]\n",
    "df_melted = df_melted[~df_melted['Sector'].astype(str).str.contains('Total', case=False, na=False)]\n",
    "\n",
    "# Organize final DataFrame\n",
    "df = df_melted[['Year', 'Month', 'Sector', 'Issued']]\n",
    "\n",
    "# Garantee that the columns 'Refused' and 'Withdrawn' are present in the dataframe\n",
    "for col in ['Refused', 'Withdrawn']:\n",
    "    if col not in df.columns:\n",
    "        df[col] = 0\n",
    "\n",
    "# Converting the numeric columns to numeric type, handling non-numeric values by coercing them to NaN and then filling NaN with 0\n",
    "numeric_cols = ['Issued', 'Refused', 'Withdrawn']\n",
    "for col in numeric_cols:\n",
    "    df[col] = pd.to_numeric(df[col], errors='coerce').fillna(0)\n",
    "\n",
    "# Filter rows where at least one of the numeric columns is non-zero\n",
    "df = df[df[numeric_cols].sum(axis=1) > 0]\n",
    "\n",
    "\n",
    "\n"
   ]
  },
  {
   "cell_type": "code",
   "execution_count": 9,
   "id": "78f69de7",
   "metadata": {},
   "outputs": [
    {
     "name": "stdout",
     "output_type": "stream",
     "text": [
      "     Year Month                                             Sector  Issued  \\\n",
      "1    2025   Jan                A - Agriculture, Forestry & Fishing   204.0   \n",
      "2    2025   Jan                             B - Mining & Quarrying     9.0   \n",
      "3    2025   Jan                        C - All Other Manufacturing   180.0   \n",
      "4    2025   Jan     C - Manufacture of Chemicals & Pharmaceuticals    55.0   \n",
      "5    2025   Jan  C - Manufacture of Computers, Electronics & Op...    32.0   \n",
      "..    ...   ...                                                ...     ...   \n",
      "237  2025   Sep                                      P - Education    42.0   \n",
      "238  2025   Sep                Q - Health & Social Work Activities   619.0   \n",
      "239  2025   Sep             R - Arts, Entertainment and Recreation    74.0   \n",
      "240  2025   Sep                       S - Other Service Activities   155.0   \n",
      "241  2025   Sep  T - Domestic - Activities of Households as Emp...     2.0   \n",
      "\n",
      "     Refused  Withdrawn  \n",
      "1          0          0  \n",
      "2          0          0  \n",
      "3          0          0  \n",
      "4          0          0  \n",
      "5          0          0  \n",
      "..       ...        ...  \n",
      "237        0          0  \n",
      "238        0          0  \n",
      "239        0          0  \n",
      "240        0          0  \n",
      "241        0          0  \n",
      "\n",
      "[220 rows x 6 columns]\n"
     ]
    }
   ],
   "source": [
    "# I used the extension .csv because is lighter and easy to work with some libraries like pandas, sqlalchemy\n",
    "df.to_csv(f\"G:/My Drive/ESTUDOS DATA SCIENCE/ie-employment-permit/data/{year}/permits-by-sector-{year}.csv\", index=False)\n",
    "\n",
    "print(df)"
   ]
  }
 ],
 "metadata": {
  "kernelspec": {
   "display_name": "Python 3",
   "language": "python",
   "name": "python3"
  },
  "language_info": {
   "codemirror_mode": {
    "name": "ipython",
    "version": 3
   },
   "file_extension": ".py",
   "mimetype": "text/x-python",
   "name": "python",
   "nbconvert_exporter": "python",
   "pygments_lexer": "ipython3",
   "version": "3.13.5"
  }
 },
 "nbformat": 4,
 "nbformat_minor": 5
}
