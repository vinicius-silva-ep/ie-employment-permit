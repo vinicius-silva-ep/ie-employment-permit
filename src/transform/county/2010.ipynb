{
 "cells": [
  {
   "cell_type": "markdown",
   "id": "ec7ec008",
   "metadata": {},
   "source": [
    "2010 - Employment Permit by County"
   ]
  },
  {
   "cell_type": "code",
   "execution_count": null,
   "id": "4fe0366e",
   "metadata": {},
   "outputs": [],
   "source": [
    "# Reading the raw data in the folder on my personal computer\n",
    "import pandas as pd\n",
    "\n",
    "df = pd.read_excel(r\"E:/My Drive/ESTUDOS DATA SCIENCE/ie-employment-permit/data/raw_data_before_2020/2010/permits-issued-by-county-2010.xls\",\n",
    "                   skiprows=[1] # I needed to skip this row because I had the summarize of the values of the year, which was uninteresting\n",
    ")"
   ]
  },
  {
   "cell_type": "code",
   "execution_count": null,
   "id": "cafe9be8",
   "metadata": {},
   "outputs": [],
   "source": [
    "# Replacing the NaN values by the year\n",
    "df[\"Year\"] = df[\"Year\"].fillna(\"2010\")"
   ]
  },
  {
   "cell_type": "code",
   "execution_count": null,
   "id": "79a4fd8c",
   "metadata": {},
   "outputs": [],
   "source": [
    "# # Before 2020 the columns structure of the files were different. So, I needed to rename the column \"Total\" by \"Issued\" because after 2020 the new file didn't have the columns \"New\" and \"Renewals\", only \"Issued\". In this case, to keep the standard of the project, I needed to mantain only \"Issued\".\n",
    "\n",
    "# df.rename(columns={\"Total\": \"Issued\", \"County/Country\": \"County\"}, inplace=True) # I had to replace \"County/Country\" by just \"County\" once that this analysis is about counties\n",
    "# df.drop(columns=[\"New \", \"Renewals\", \"Group\"], inplace=True) # Here I realized that were some issues in the column names like \"New \" instead of \"New\"\n",
    "\n",
    "# # I created the column \"Obs\" to make sure that all counties belong to Ireland or any issues that I could find by crossing some databases"
   ]
  },
  {
   "cell_type": "code",
   "execution_count": null,
   "id": "83415df8",
   "metadata": {},
   "outputs": [
    {
     "name": "stdout",
     "output_type": "stream",
     "text": [
      "    Year     County  Issued  Refused  Withdrawn            Obs\n",
      "0   2009     Antrim       1        1          0  North Ireland\n",
      "1   2009     Carlow      66       11          2            NaN\n",
      "2   2009      Cavan      67       59          6            NaN\n",
      "3   2009      Clare     125       42          5            NaN\n",
      "4   2009       Cork     551      145         17            NaN\n",
      "5   2009    Donegal     109       34          6            NaN\n",
      "6   2009       Down       1        0          0  North Ireland\n",
      "7   2009     Dublin    4001      754        260            NaN\n",
      "8   2009     Galway     336       93         14            NaN\n",
      "9   2009      Kerry      92       44          5            NaN\n",
      "10  2009    Kildare     971      151         28            NaN\n",
      "11  2009   Kilkenny      71       27          7            NaN\n",
      "12  2009      Laois      36       16          0            NaN\n",
      "13  2009    Leitrim      14       11          1            NaN\n",
      "14  2009   Limerick     189       60         16            NaN\n",
      "15  2009   Longford      37       13          2            NaN\n",
      "16  2009      Louth      80       41          8            NaN\n",
      "17  2009       Mayo      88       34          4            NaN\n",
      "18  2009      Meath     241       66         15            NaN\n",
      "19  2009   Monaghan      41       29          6            NaN\n",
      "20  2009     Offaly      32       14          3            NaN\n",
      "21  2009  Roscommon      24       13          1            NaN\n",
      "22  2009      Sligo      36       13          2            NaN\n",
      "23  2009  Tipperary     204       90         10            NaN\n",
      "24  2009  Waterford      74       36          3            NaN\n",
      "25  2009  Westmeath     179       35          4            NaN\n",
      "26  2009    Wexford      71       31          5            NaN\n",
      "27  2009    Wicklow     225       38         12            NaN\n"
     ]
    }
   ],
   "source": [
    "# # I used the extension .csv because is lighter and easy to work with some libraries like pandas, sqlalchemy\n",
    "# df.to_csv(r\"E:/My Drive/ESTUDOS DATA SCIENCE/ie-employment-permit/data/2009/permits-issued-by-county-2009.csv\", index=False)\n",
    "\n",
    "# print(df)"
   ]
  }
 ],
 "metadata": {
  "kernelspec": {
   "display_name": "Python 3",
   "language": "python",
   "name": "python3"
  },
  "language_info": {
   "codemirror_mode": {
    "name": "ipython",
    "version": 3
   },
   "file_extension": ".py",
   "mimetype": "text/x-python",
   "name": "python",
   "nbconvert_exporter": "python",
   "pygments_lexer": "ipython3",
   "version": "3.13.3"
  }
 },
 "nbformat": 4,
 "nbformat_minor": 5
}
