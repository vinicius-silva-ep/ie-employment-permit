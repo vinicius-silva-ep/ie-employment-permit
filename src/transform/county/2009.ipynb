{
 "cells": [
  {
   "cell_type": "markdown",
   "id": "ec7ec008",
   "metadata": {},
   "source": [
    "2009 - Employment Permit by County"
   ]
  },
  {
   "cell_type": "code",
   "execution_count": null,
   "id": "4fe0366e",
   "metadata": {},
   "outputs": [
    {
     "ename": "_IncompleteInputError",
     "evalue": "incomplete input (613989902.py, line 5)",
     "output_type": "error",
     "traceback": [
      "\u001b[1;36m  Cell \u001b[1;32mIn[11], line 5\u001b[1;36m\u001b[0m\n\u001b[1;33m    skiprows=[1] # I needed to skip this row because I had the summarization of the values by year, which was uninteresting\u001b[0m\n\u001b[1;37m                                                                                                                           ^\u001b[0m\n\u001b[1;31m_IncompleteInputError\u001b[0m\u001b[1;31m:\u001b[0m incomplete input\n"
     ]
    }
   ],
   "source": [
    "# Reading the raw data in the folder on my personal computer\n",
    "import pandas as pd\n",
    "\n",
    "df = pd.read_excel(r\"E:/My Drive/ESTUDOS DATA SCIENCE/ie-employment-permit/data/raw_data_before_2020/2009/permits-issued-by-county-2009.xls\",\n",
    "                   skiprows=[1] # I needed to skip this row because I had the summarization of the values by year, which was uninteresting\n",
    ")"
   ]
  },
  {
   "cell_type": "code",
   "execution_count": null,
   "id": "cafe9be8",
   "metadata": {},
   "outputs": [],
   "source": [
    "# Replacing the NaN values by the year\n",
    "df[\"Year\"] = df[\"Year\"].fillna(\"2009\")"
   ]
  },
  {
   "cell_type": "code",
   "execution_count": null,
   "id": "79a4fd8c",
   "metadata": {},
   "outputs": [],
   "source": [
    "# Before 2020 the column structures of the files were different. So, I needed to rename the column \"Total\" by \"Issued\" because after 2020 the new file didn't have the columns \"New\" and \"Renewals\", only \"Issued\". In this case, to keep the standard of the project, I needed to mantain only \"Issued\".\n",
    "df.rename(columns={\"Total\": \"Issued\", \"County/Country\": \"County\"}, inplace=True) # I had to replace \"County/Country\" by just \"County\" once that this analysis is about counties\n",
    "df.drop(columns=[\"New \", \"Renewals\", \"Group\"], inplace=True) # Here I realized that there were some issues in the column names like \"New \" instead of \"New\" and the \"Group\" column was empty\n",
    "\n",
    "# I created the column \"Obs\" to make sure that all counties belong to Ireland or any issues that I could find by crossing some databases"
   ]
  },
  {
   "cell_type": "code",
   "execution_count": null,
   "id": "cc8312c1",
   "metadata": {},
   "outputs": [],
   "source": [
    "# As this part of project is focused only in the counties, I had to group all missed places by \"Others\"\n",
    "\n",
    "# I had to made a copy of the df with the filtered rows by not being \"NaN\" (because some cases are about countries or counties from North Ireland)\n",
    "df_others = df[df[\"Obs\"].notna()].copy()\n",
    "# Replacing all values by just \"Others\" to facilitate the analysis\n",
    "df_others[\"County\"] = \"Others\"\n",
    "# Summarizing the columns\n",
    "df_others_grouped = df_others.groupby([\"Year\", \"County\"], as_index=False)[[\"Issued\", \"Refused\", \"Withdrawn\"]].sum()\n",
    "# Creating a dataframe with only the \"Others\" row\n",
    "df_main = df[df[\"Obs\"].isna()].copy()\n",
    "# Concatenating both dataframes, original and the modified copy\n",
    "df = pd.concat([df_main, df_others_grouped], ignore_index=True)\n",
    "# As I don't need to use the \"Obs\" column, I removed for the final file\n",
    "df.drop(columns=[\"Obs\"], inplace=True)"
   ]
  },
  {
   "cell_type": "code",
   "execution_count": null,
   "id": "83415df8",
   "metadata": {},
   "outputs": [],
   "source": [
    "# I used the extension .csv because is lighter and easy to work with some libraries like pandas, sqlalchemy\n",
    "df.to_csv(r\"E:/My Drive/ESTUDOS DATA SCIENCE/ie-employment-permit/data/2009/permits-issued-by-county-2009.csv\", index=False)\n",
    "\n",
    "print(df)"
   ]
  }
 ],
 "metadata": {
  "kernelspec": {
   "display_name": "Python 3",
   "language": "python",
   "name": "python3"
  },
  "language_info": {
   "codemirror_mode": {
    "name": "ipython",
    "version": 3
   },
   "file_extension": ".py",
   "mimetype": "text/x-python",
   "name": "python",
   "nbconvert_exporter": "python",
   "pygments_lexer": "ipython3",
   "version": "3.13.3"
  }
 },
 "nbformat": 4,
 "nbformat_minor": 5
}
