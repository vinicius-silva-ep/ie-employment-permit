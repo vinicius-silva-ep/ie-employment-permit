{
 "cells": [
  {
   "cell_type": "markdown",
   "id": "ec7ec008",
   "metadata": {},
   "source": [
    "2025 - Employment Permit by Companies"
   ]
  },
  {
   "cell_type": "code",
   "execution_count": 8,
   "id": "4fe0366e",
   "metadata": {},
   "outputs": [
    {
     "name": "stdout",
     "output_type": "stream",
     "text": [
      "                                          Employer Name  January  February  \\\n",
      "0                                 IQVIA RDS IRELAND LTD      NaN       NaN   \n",
      "1     '-\\tMoran Industrial and Agricultural Solution...      NaN       NaN   \n",
      "2                            12 Tables Eastside Limited      NaN       NaN   \n",
      "3                         19th Hole Hospitality Limited      NaN       1.0   \n",
      "4                       24 Doc (Doctor On Call) Limited      NaN       NaN   \n",
      "...                                                 ...      ...       ...   \n",
      "8027                      Zucchini's Restaurant Limited      1.0       NaN   \n",
      "8028                       Zurich Insurance Company Ltd      1.0       NaN   \n",
      "8029                        Z-We-Ton (Alandale) Limited      NaN       NaN   \n",
      "8030                          Z-We-Ton (Raheen) Limited      NaN       NaN   \n",
      "8031                                        Grand Total   3799.0    2993.0   \n",
      "\n",
      "       March   April     May    June    July  August  September  Grand Total  \n",
      "0        NaN     NaN     NaN     NaN     1.0     NaN        1.0          2.0  \n",
      "1        NaN     NaN     NaN     NaN     NaN     NaN        NaN          NaN  \n",
      "2        NaN     NaN     NaN     NaN     NaN     NaN        NaN          NaN  \n",
      "3        NaN     NaN     NaN     NaN     NaN     NaN        NaN          1.0  \n",
      "4        NaN     NaN     NaN     1.0     NaN     NaN        NaN          1.0  \n",
      "...      ...     ...     ...     ...     ...     ...        ...          ...  \n",
      "8027     NaN     NaN     NaN     NaN     NaN     NaN        NaN          1.0  \n",
      "8028     1.0     NaN     NaN     NaN     NaN     NaN        NaN          2.0  \n",
      "8029     NaN     NaN     1.0     NaN     NaN     NaN        NaN          1.0  \n",
      "8030     NaN     NaN     NaN     NaN     NaN     NaN        NaN          NaN  \n",
      "8031  3190.0  1666.0  1823.0  1680.0  2159.0  2640.0     2592.0      22542.0  \n",
      "\n",
      "[8032 rows x 11 columns]\n"
     ]
    }
   ],
   "source": [
    "year = 2025\n",
    "\n",
    "# Reading the raw data in the folder on my personal computer\n",
    "import pandas as pd\n",
    "\n",
    "df = pd.read_excel(f\"G:/My Drive/ESTUDOS DATA SCIENCE/ie-employment-permit/data/raw_data/{year}/permits-issued-to-companies-{year}.xlsx\",\n",
    "                header=0\n",
    ")\n",
    "print(df)"
   ]
  },
  {
   "cell_type": "code",
   "execution_count": 9,
   "id": "80794b70",
   "metadata": {},
   "outputs": [],
   "source": [
    "# Garantee the first column is named \"Company\"\n",
    "if df.columns[0] in [None, \"\", \"Unnamed: 0\"]:\n",
    "    df.rename(columns={df.columns[0]: \"Company\"}, inplace=True)\n",
    "else:\n",
    "    df.rename(columns={df.columns[0]: \"Company\"}, inplace=True)\n",
    "\n",
    "# Standardize column names: strip whitespace, title case, abbreviate month columns to 3 letters\n",
    "cols = df.columns.tolist()\n",
    "df.columns = [c if c == \"Company\" else c.strip().title()[:3] for c in cols]\n",
    "\n",
    "# Months list\n",
    "months = [\"Jan\", \"Feb\", \"Mar\", \"Apr\", \"May\", \"Jun\",\n",
    "          \"Jul\", \"Aug\", \"Sep\", \"Oct\", \"Nov\", \"Dec\"]\n",
    "\n",
    "# Identify month columns in the DataFrame\n",
    "month_cols = [c for c in df.columns if c in months]\n",
    "\n",
    "# Garantee all months are present in the DataFrame\n",
    "for m in months:\n",
    "    if m not in df.columns:\n",
    "        df[m] = 0\n",
    "\n",
    "# Melt the DataFrame to long format\n",
    "df_melted = df.melt(\n",
    "    id_vars=[\"Company\"],\n",
    "    value_vars=month_cols,\n",
    "    var_name=\"Month\",\n",
    "    value_name=\"Total\"\n",
    ")\n",
    "\n",
    "# Remove summary rows\n",
    "df_melted = df_melted[~df_melted[\"Company\"].astype(str).str.contains(\"Grand Total\", case=False, na=False)]\n",
    "df_melted = df_melted[~df_melted[\"Company\"].astype(str).str.contains(\"^Total$\", case=False, na=False)]\n",
    "\n",
    "# Converts \"Total\" column to numeric, coercing errors to NaN and filling NaN with 0\n",
    "df_melted[\"Total\"] = pd.to_numeric(df_melted[\"Total\"], errors=\"coerce\").fillna(0)\n",
    "\n",
    "# Remove rows where \"Total\" is 0\n",
    "df_melted = df_melted[df_melted[\"Total\"] > 0]\n",
    "\n",
    "# Add \"Year\" column\n",
    "df_melted[\"Year\"] = year\n",
    "\n",
    "# Normalize \"Company\" names: strip whitespace, replace multiple spaces with single space, title case\n",
    "df_melted[\"Company\"] = (\n",
    "    df_melted[\"Company\"]\n",
    "    .astype(str)\n",
    "    .str.strip()\n",
    "    .str.replace(r\"\\s+\", \" \", regex=True)\n",
    "    .str.title()\n",
    ")\n",
    "\n",
    "# Sort values by Year, Month (in calendar order), and Company\n",
    "df_melted[\"Month\"] = pd.Categorical(df_melted[\"Month\"], categories=months, ordered=True)\n",
    "df = df_melted.sort_values(by=[\"Year\", \"Month\", \"Company\"])\n",
    "\n",
    "# Organize final DataFrame\n",
    "df = df[[\"Year\", \"Month\", \"Company\", \"Total\"]]"
   ]
  },
  {
   "cell_type": "code",
   "execution_count": 10,
   "id": "78f69de7",
   "metadata": {},
   "outputs": [
    {
     "name": "stdout",
     "output_type": "stream",
     "text": [
      "       Year Month                                          Company  Total\n",
      "5      2025   Jan                       24Hr Care Services Limited    3.0\n",
      "7      2025   Jan                          2K Games Dublin Limited    1.0\n",
      "9      2025   Jan                              4D Varghese Limited    1.0\n",
      "20     2025   Jan                 A To Z Innovative Solutions Ltd.    1.0\n",
      "25     2025   Jan                     A&M Interior Glazing Limited    4.0\n",
      "...     ...   ...                                              ...    ...\n",
      "72253  2025   Sep                            Zenith Health Limited    1.0\n",
      "72262  2025   Sep             Zf Digital Solutions Ireland Limited    1.0\n",
      "72276  2025   Sep  Zinc Processors Ltd T/A Shannonside Galvanising    2.0\n",
      "72279  2025   Sep                              Zoetis Belgium S.A.    1.0\n",
      "69810  2025   Sep                            Óstan Gúgán Barra Teo    1.0\n",
      "\n",
      "[11468 rows x 4 columns]\n"
     ]
    }
   ],
   "source": [
    "# I used the extension .csv because is lighter and easy to work with some libraries like pandas, sqlalchemy\n",
    "df.to_csv(f\"G:/My Drive/ESTUDOS DATA SCIENCE/ie-employment-permit/data/{year}/permits-by-companies-{year}.csv\", index=False)\n",
    "print(df)"
   ]
  }
 ],
 "metadata": {
  "kernelspec": {
   "display_name": "Python 3",
   "language": "python",
   "name": "python3"
  },
  "language_info": {
   "codemirror_mode": {
    "name": "ipython",
    "version": 3
   },
   "file_extension": ".py",
   "mimetype": "text/x-python",
   "name": "python",
   "nbconvert_exporter": "python",
   "pygments_lexer": "ipython3",
   "version": "3.13.5"
  }
 },
 "nbformat": 4,
 "nbformat_minor": 5
}
